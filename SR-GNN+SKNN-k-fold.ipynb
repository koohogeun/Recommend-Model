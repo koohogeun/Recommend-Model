{
 "cells": [
  {
   "cell_type": "code",
   "execution_count": 1,
   "id": "abandoned-combine",
   "metadata": {},
   "outputs": [],
   "source": [
    "import pickle\n",
    "import time\n",
    "import DataFormatterEdit\n",
    "import cknnEdit\n",
    "import pandas as pd\n",
    "#import importlib\n",
    "#importlib.reload()\n",
    "#from IPython.display import display\n",
    "from utils import build_graph, split_validation\n",
    "from utils import Data\n",
    "\n",
    "from model import *"
   ]
  },
  {
   "cell_type": "code",
   "execution_count": 2,
   "id": "unsigned-struggle",
   "metadata": {},
   "outputs": [],
   "source": [
    "import torch\n",
    "import numpy as np\n",
    "from tqdm.notebook import tqdm"
   ]
  },
  {
   "cell_type": "code",
   "execution_count": 3,
   "id": "billion-recruitment",
   "metadata": {},
   "outputs": [],
   "source": [
    "def make_pd_data_frame(train_data, session_key='session_id', item_key='item_id', time_key='eventdate'):\n",
    "    df = pd.DataFrame({session_key:[], item_key:[], time_key:[]})\n",
    "    ses_ids = []\n",
    "    ses_dates = []\n",
    "    ses_seqs = []\n",
    "    for ses_id, ses_date, ses_seq in tqdm(zip(train_data[0], train_data[1], train_data[2]), total=len(train_data[0])):\n",
    "        for ses_ in ses_seq:\n",
    "            ses_date_ = int(ses_date.astype(np.float))\n",
    "            ses_ids.append(int(ses_id))\n",
    "            ses_dates.append(ses_date_)\n",
    "            ses_seqs.append(ses_)\n",
    "    ses_ids = np.asarray(ses_ids)\n",
    "    ses_dates = np.asarray(ses_dates)\n",
    "    ses_seqs = np.asarray(ses_seqs)\n",
    "    d = np.concatenate((ses_ids,ses_seqs,ses_dates))\n",
    "    d = np.reshape(d,(3,-1))\n",
    "    d = d.T\n",
    "    column_names = [session_key, item_key, time_key]\n",
    "    df = pd.DataFrame(d, columns=column_names)\n",
    "    return df"
   ]
  },
  {
   "cell_type": "code",
   "execution_count": 4,
   "id": "painful-sunset",
   "metadata": {},
   "outputs": [],
   "source": [
    "def scr_conv(scr):\n",
    "    ret = []\n",
    "    for i in tqdm(scr):\n",
    "        for j in i:\n",
    "            arr = np.zeros((n_item,1))\n",
    "            for idx, val in zip(list(j.keys()), list(j.values())):\n",
    "                arr[int(idx)-1] = val\n",
    "            ret.append(arr)\n",
    "    ret = np.array(ret)\n",
    "    return ret"
   ]
  },
  {
   "cell_type": "code",
   "execution_count": 5,
   "id": "organized-salad",
   "metadata": {},
   "outputs": [],
   "source": [
    "def num_data(data, str_):\n",
    "    values = data.loc[:,[str_]].values\n",
    "    values = values.reshape(-1,)\n",
    "    new = np.unique(values)\n",
    "    return new.shape[0]"
   ]
  },
  {
   "cell_type": "code",
   "execution_count": 6,
   "id": "duplicate-facing",
   "metadata": {},
   "outputs": [],
   "source": [
    "fold = 5\n",
    "_path = 'amz_book_overall_reflect_40_000.csv'#(58.92597968069666, 44.82286867076933)\n",
    "_path = 'amz_book_40_000.csv'#(60.9504132231405, 50.03743392333061)\n",
    "_path = 'amz_elec_40_000.csv'#(25.64450474898236, 17.445641008879555)\n",
    "_path = 'amz_movi_40_000.csv'#(29.68591691995947, 18.977850405947404)\n",
    "_path = 'amz_prep_book_book_5_20_s5_s20.csv'#n_item 616\n",
    "_path = 'amz_prep_book_book_5_20_s5.csv'"
   ]
  },
  {
   "cell_type": "code",
   "execution_count": 7,
   "id": "centered-craps",
   "metadata": {
    "scrolled": true
   },
   "outputs": [
    {
     "name": "stdout",
     "output_type": "stream",
     "text": [
      "n_item 75607\n",
      "n_session 37276\n"
     ]
    }
   ],
   "source": [
    "data = pd.read_csv(_path, delimiter=';')\n",
    "n_item = num_data(data, 'item_id')\n",
    "print('n_item',n_item)\n",
    "print('n_session',num_data(data, 'session_id'))"
   ]
  },
  {
   "cell_type": "code",
   "execution_count": 8,
   "id": "beneficial-geology",
   "metadata": {},
   "outputs": [
    {
     "data": {
      "text/plain": [
       "<module 'DataFormatterEdit' from '/home/workplace/SR-GNN/termP/DataFormatterEdit.py'>"
      ]
     },
     "execution_count": 8,
     "metadata": {},
     "output_type": "execute_result"
    }
   ],
   "source": [
    "import importlib\n",
    "importlib.reload(DataFormatterEdit)"
   ]
  },
  {
   "cell_type": "code",
   "execution_count": 9,
   "id": "consistent-deviation",
   "metadata": {},
   "outputs": [
    {
     "name": "stdout",
     "output_type": "stream",
     "text": [
      "CPU times: user 3.16 s, sys: 233 ms, total: 3.39 s\n",
      "Wall time: 3.37 s\n"
     ]
    }
   ],
   "source": [
    "%%time\n",
    "k_split_data_list, sess_clicks = DataFormatterEdit.get_k(_path, fold)\n",
    "#train_data_preproc, test_data_preproc, train_data_, _ = DataFormatterEdit.get(filepath=_path)"
   ]
  },
  {
   "cell_type": "code",
   "execution_count": null,
   "id": "developed-candle",
   "metadata": {},
   "outputs": [],
   "source": []
  },
  {
   "cell_type": "code",
   "execution_count": 11,
   "id": "alpha-canon",
   "metadata": {
    "scrolled": true
   },
   "outputs": [
    {
     "name": "stdout",
     "output_type": "stream",
     "text": [
      "fold:  1 / 5\n"
     ]
    },
    {
     "name": "stderr",
     "output_type": "stream",
     "text": [
      "100%|██████████| 287093/287093 [00:10<00:00, 27888.15it/s]\n",
      "100%|██████████| 7447/7447 [00:00<00:00, 28402.41it/s]\n",
      "/usr/local/lib/python3.6/dist-packages/torch/optim/lr_scheduler.py:134: UserWarning: Detected call of `lr_scheduler.step()` before `optimizer.step()`. In PyTorch 1.1.0 and later, you should call them in the opposite order: `optimizer.step()` before `lr_scheduler.step()`.  Failure to do this will result in PyTorch skipping the first value of the learning rate schedule. See more details at https://pytorch.org/docs/stable/optim.html#how-to-adjust-learning-rate\n",
      "  \"https://pytorch.org/docs/stable/optim.html#how-to-adjust-learning-rate\", UserWarning)\n"
     ]
    },
    {
     "name": "stdout",
     "output_type": "stream",
     "text": [
      "-------------------------------------------------------\n",
      "epoch:  0\n"
     ]
    },
    {
     "name": "stderr",
     "output_type": "stream",
     "text": [
      "100%|██████████| 5742/5742 [43:46<00:00,  2.19it/s]  \n",
      "  1%|▏         | 2/149 [00:00<00:13, 10.78it/s]"
     ]
    },
    {
     "name": "stdout",
     "output_type": "stream",
     "text": [
      "\tLoss:\t57243.184\n"
     ]
    },
    {
     "name": "stderr",
     "output_type": "stream",
     "text": [
      "100%|██████████| 149/149 [00:12<00:00, 11.72it/s]\n"
     ]
    },
    {
     "name": "stdout",
     "output_type": "stream",
     "text": [
      "Best Result:\n",
      "current hit: 5.210151738955284, mrr: 1.3601706905673097\n",
      "\tPrecision@20:\t5.2102\tMRR@20:\t1.3602\tEpoch:\t0,\t0\n",
      "-------------------------------------------------------\n",
      "epoch:  1\n"
     ]
    },
    {
     "name": "stderr",
     "output_type": "stream",
     "text": [
      "100%|██████████| 5742/5742 [43:31<00:00,  2.20it/s]  \n",
      "  1%|▏         | 2/149 [00:00<00:13, 11.24it/s]"
     ]
    },
    {
     "name": "stdout",
     "output_type": "stream",
     "text": [
      "\tLoss:\t43986.051\n"
     ]
    },
    {
     "name": "stderr",
     "output_type": "stream",
     "text": [
      "100%|██████████| 149/149 [00:12<00:00, 11.83it/s]\n"
     ]
    },
    {
     "name": "stdout",
     "output_type": "stream",
     "text": [
      "Best Result:\n",
      "current hit: 7.30495501544246, mrr: 1.935369515979407\n",
      "\tPrecision@20:\t7.3050\tMRR@20:\t1.9354\tEpoch:\t1,\t1\n",
      "-------------------------------------------------------\n",
      "epoch:  2\n"
     ]
    },
    {
     "name": "stderr",
     "output_type": "stream",
     "text": [
      "100%|██████████| 5742/5742 [43:28<00:00,  2.20it/s]  \n",
      "  1%|▏         | 2/149 [00:00<00:13, 10.85it/s]"
     ]
    },
    {
     "name": "stdout",
     "output_type": "stream",
     "text": [
      "\tLoss:\t27379.314\n"
     ]
    },
    {
     "name": "stderr",
     "output_type": "stream",
     "text": [
      "100%|██████████| 149/149 [00:12<00:00, 11.81it/s]\n"
     ]
    },
    {
     "name": "stdout",
     "output_type": "stream",
     "text": [
      "Best Result:\n",
      "current hit: 6.915536457633946, mrr: 1.9523657883719137\n",
      "\tPrecision@20:\t7.3050\tMRR@20:\t1.9524\tEpoch:\t1,\t2\n",
      "-------------------------------------------------------\n",
      "epoch:  3\n"
     ]
    },
    {
     "name": "stderr",
     "output_type": "stream",
     "text": [
      "100%|██████████| 5742/5742 [43:33<00:00,  2.20it/s]  \n",
      "  1%|▏         | 2/149 [00:00<00:13, 11.23it/s]"
     ]
    },
    {
     "name": "stdout",
     "output_type": "stream",
     "text": [
      "\tLoss:\t22874.850\n"
     ]
    },
    {
     "name": "stderr",
     "output_type": "stream",
     "text": [
      "100%|██████████| 149/149 [00:12<00:00, 11.71it/s]\n"
     ]
    },
    {
     "name": "stdout",
     "output_type": "stream",
     "text": [
      "Best Result:\n",
      "current hit: 5.988988854572311, mrr: 1.803019971168281\n",
      "\tPrecision@20:\t7.3050\tMRR@20:\t1.9524\tEpoch:\t1,\t2\n",
      "-------------------------------------------------------\n",
      "epoch:  4\n"
     ]
    },
    {
     "name": "stderr",
     "output_type": "stream",
     "text": [
      "100%|██████████| 5742/5742 [43:19<00:00,  2.21it/s]  \n",
      "  1%|▏         | 2/149 [00:00<00:13, 11.16it/s]"
     ]
    },
    {
     "name": "stdout",
     "output_type": "stream",
     "text": [
      "\tLoss:\t19550.273\n"
     ]
    },
    {
     "name": "stderr",
     "output_type": "stream",
     "text": [
      "100%|██████████| 149/149 [00:12<00:00, 11.82it/s]\n"
     ]
    },
    {
     "name": "stdout",
     "output_type": "stream",
     "text": [
      "Best Result:\n",
      "current hit: 5.317577548005908, mrr: 1.6132432126530358\n",
      "\tPrecision@20:\t7.3050\tMRR@20:\t1.9524\tEpoch:\t1,\t2\n",
      "-------------------------------------------------------\n",
      "epoch:  5\n"
     ]
    },
    {
     "name": "stderr",
     "output_type": "stream",
     "text": [
      "100%|██████████| 5742/5742 [43:47<00:00,  2.19it/s]  \n",
      "  1%|▏         | 2/149 [00:00<00:13, 11.11it/s]"
     ]
    },
    {
     "name": "stdout",
     "output_type": "stream",
     "text": [
      "\tLoss:\t14595.614\n"
     ]
    },
    {
     "name": "stderr",
     "output_type": "stream",
     "text": [
      "100%|██████████| 149/149 [00:12<00:00, 11.75it/s]\n"
     ]
    },
    {
     "name": "stdout",
     "output_type": "stream",
     "text": [
      "Best Result:\n",
      "current hit: 5.062441251510676, mrr: 1.566668752510621\n",
      "\tPrecision@20:\t7.3050\tMRR@20:\t1.9524\tEpoch:\t1,\t2\n",
      "-------------------------------------------------------\n",
      "epoch:  6\n"
     ]
    },
    {
     "name": "stderr",
     "output_type": "stream",
     "text": [
      "100%|██████████| 5742/5742 [43:35<00:00,  2.19it/s]  \n",
      "  1%|▏         | 2/149 [00:00<00:13, 10.82it/s]"
     ]
    },
    {
     "name": "stdout",
     "output_type": "stream",
     "text": [
      "\tLoss:\t14043.473\n"
     ]
    },
    {
     "name": "stderr",
     "output_type": "stream",
     "text": [
      "100%|██████████| 149/149 [00:12<00:00, 11.83it/s]\n"
     ]
    },
    {
     "name": "stdout",
     "output_type": "stream",
     "text": [
      "Best Result:\n",
      "current hit: 5.049013025379347, mrr: 1.5607975987080172\n",
      "\tPrecision@20:\t7.3050\tMRR@20:\t1.9524\tEpoch:\t1,\t2\n",
      "-------------------------------------------------------\n",
      "epoch:  7\n"
     ]
    },
    {
     "name": "stderr",
     "output_type": "stream",
     "text": [
      "100%|██████████| 5742/5742 [43:32<00:00,  2.20it/s]  \n",
      "  1%|▏         | 2/149 [00:00<00:14, 10.41it/s]"
     ]
    },
    {
     "name": "stdout",
     "output_type": "stream",
     "text": [
      "\tLoss:\t13577.315\n"
     ]
    },
    {
     "name": "stderr",
     "output_type": "stream",
     "text": [
      "100%|██████████| 149/149 [00:12<00:00, 11.98it/s]\n"
     ]
    },
    {
     "name": "stdout",
     "output_type": "stream",
     "text": [
      "Best Result:\n",
      "current hit: 4.901302537934739, mrr: 1.536397476443461\n",
      "\tPrecision@20:\t7.3050\tMRR@20:\t1.9524\tEpoch:\t1,\t2\n",
      "-------------------------------------------------------\n",
      "epoch:  8\n"
     ]
    },
    {
     "name": "stderr",
     "output_type": "stream",
     "text": [
      "100%|██████████| 5742/5742 [43:37<00:00,  2.19it/s]  \n",
      "  1%|▏         | 2/149 [00:00<00:12, 11.36it/s]"
     ]
    },
    {
     "name": "stdout",
     "output_type": "stream",
     "text": [
      "\tLoss:\t12957.467\n"
     ]
    },
    {
     "name": "stderr",
     "output_type": "stream",
     "text": [
      "100%|██████████| 149/149 [00:12<00:00, 12.15it/s]\n"
     ]
    },
    {
     "name": "stdout",
     "output_type": "stream",
     "text": [
      "Best Result:\n",
      "current hit: 4.887874311803411, mrr: 1.5419145812111628\n",
      "\tPrecision@20:\t7.3050\tMRR@20:\t1.9524\tEpoch:\t1,\t2\n",
      "-------------------------------------------------------\n",
      "epoch:  9\n"
     ]
    },
    {
     "name": "stderr",
     "output_type": "stream",
     "text": [
      "100%|██████████| 5742/5742 [43:29<00:00,  2.20it/s]  \n",
      "  1%|▏         | 2/149 [00:00<00:13, 10.80it/s]"
     ]
    },
    {
     "name": "stdout",
     "output_type": "stream",
     "text": [
      "\tLoss:\t12910.520\n"
     ]
    },
    {
     "name": "stderr",
     "output_type": "stream",
     "text": [
      "100%|██████████| 149/149 [00:12<00:00, 11.89it/s]\n"
     ]
    },
    {
     "name": "stdout",
     "output_type": "stream",
     "text": [
      "Best Result:\n",
      "current hit: 4.874446085672083, mrr: 1.5351551145350548\n",
      "\tPrecision@20:\t7.3050\tMRR@20:\t1.9524\tEpoch:\t1,\t2\n",
      "-------------------------------------------------------\n",
      "epoch:  10\n"
     ]
    },
    {
     "name": "stderr",
     "output_type": "stream",
     "text": [
      "100%|██████████| 5742/5742 [43:21<00:00,  2.21it/s]  \n",
      "  1%|▏         | 2/149 [00:00<00:13, 11.17it/s]"
     ]
    },
    {
     "name": "stdout",
     "output_type": "stream",
     "text": [
      "\tLoss:\t12865.728\n"
     ]
    },
    {
     "name": "stderr",
     "output_type": "stream",
     "text": [
      "100%|██████████| 149/149 [00:12<00:00, 11.97it/s]\n"
     ]
    },
    {
     "name": "stdout",
     "output_type": "stream",
     "text": [
      "Best Result:\n",
      "current hit: 4.847589633409426, mrr: 1.5431223125903304\n",
      "\tPrecision@20:\t7.3050\tMRR@20:\t1.9524\tEpoch:\t1,\t2\n",
      "-------------------------------------------------------\n",
      "epoch:  11\n"
     ]
    },
    {
     "name": "stderr",
     "output_type": "stream",
     "text": [
      "100%|██████████| 5742/5742 [43:21<00:00,  2.21it/s]  \n",
      "  1%|▏         | 2/149 [00:00<00:13, 11.25it/s]"
     ]
    },
    {
     "name": "stdout",
     "output_type": "stream",
     "text": [
      "\tLoss:\t12802.561\n"
     ]
    },
    {
     "name": "stderr",
     "output_type": "stream",
     "text": [
      "100%|██████████| 149/149 [00:12<00:00, 11.84it/s]\n"
     ]
    },
    {
     "name": "stdout",
     "output_type": "stream",
     "text": [
      "Best Result:\n",
      "current hit: 4.847589633409426, mrr: 1.5426841085723193\n",
      "\tPrecision@20:\t7.3050\tMRR@20:\t1.9524\tEpoch:\t1,\t2\n",
      "-------------------------------------------------------\n",
      "epoch:  12\n"
     ]
    },
    {
     "name": "stderr",
     "output_type": "stream",
     "text": [
      "100%|██████████| 5742/5742 [43:35<00:00,  2.20it/s]  \n",
      "  1%|▏         | 2/149 [00:00<00:13, 11.01it/s]"
     ]
    },
    {
     "name": "stdout",
     "output_type": "stream",
     "text": [
      "\tLoss:\t12798.109\n"
     ]
    },
    {
     "name": "stderr",
     "output_type": "stream",
     "text": [
      "100%|██████████| 149/149 [00:12<00:00, 11.81it/s]\n"
     ]
    },
    {
     "name": "stdout",
     "output_type": "stream",
     "text": [
      "Best Result:\n",
      "current hit: 4.82073318114677, mrr: 1.5410786225576065\n",
      "\tPrecision@20:\t7.3050\tMRR@20:\t1.9524\tEpoch:\t1,\t2\n",
      "-------------------------------------------------------\n"
     ]
    },
    {
     "data": {
      "application/vnd.jupyter.widget-view+json": {
       "model_id": "cd5453b6956140e6a79601afc448c157",
       "version_major": 2,
       "version_minor": 0
      },
      "text/plain": [
       "  0%|          | 0/29820 [00:00<?, ?it/s]"
      ]
     },
     "metadata": {},
     "output_type": "display_data"
    },
    {
     "name": "stdout",
     "output_type": "stream",
     "text": [
      "        session_id  item_id   eventdate\n",
      "0             3706        1  1523664000\n",
      "1             3706        2  1523664000\n",
      "2             3706        3  1523664000\n",
      "3             3706        4  1523664000\n",
      "4             3706        5  1523664000\n",
      "...            ...      ...         ...\n",
      "436188      460570    52896  1238544000\n",
      "436189      460570      838  1238544000\n",
      "436190      460570      767  1238544000\n",
      "436191      460570    65377  1238544000\n",
      "436192      460570    23925  1238544000\n",
      "\n",
      "[436193 rows x 3 columns]\n"
     ]
    },
    {
     "data": {
      "application/vnd.jupyter.widget-view+json": {
       "model_id": "15eeaf54745b4a318793465eb0bfd8b4",
       "version_major": 2,
       "version_minor": 0
      },
      "text/plain": [
       "  0%|          | 0/12 [00:00<?, ?it/s]"
      ]
     },
     "metadata": {},
     "output_type": "display_data"
    },
    {
     "data": {
      "application/vnd.jupyter.widget-view+json": {
       "model_id": "863c26b90d6a4f38bc301d49ef25c2ad",
       "version_major": 2,
       "version_minor": 0
      },
      "text/plain": [
       "  0%|          | 0/7447 [00:00<?, ?it/s]"
      ]
     },
     "metadata": {},
     "output_type": "display_data"
    },
    {
     "name": "stdout",
     "output_type": "stream",
     "text": [
      "knn: p_20, mrr_20 8.916342151201826 2.416774311736586\n"
     ]
    },
    {
     "data": {
      "application/vnd.jupyter.widget-view+json": {
       "model_id": "776d4f948479465897834e762e45316a",
       "version_major": 2,
       "version_minor": 0
      },
      "text/plain": [
       "  0%|          | 0/7447 [00:00<?, ?it/s]"
      ]
     },
     "metadata": {},
     "output_type": "display_data"
    },
    {
     "data": {
      "application/vnd.jupyter.widget-view+json": {
       "model_id": "9c8bdca99acb4582b53c6795ece48621",
       "version_major": 2,
       "version_minor": 0
      },
      "text/plain": [
       "  0%|          | 0/149 [00:00<?, ?it/s]"
      ]
     },
     "metadata": {},
     "output_type": "display_data"
    },
    {
     "name": "stdout",
     "output_type": "stream",
     "text": [
      "epoch result:  9.52061232711159 2.303353910411171\n",
      "fold:  2 / 5\n"
     ]
    },
    {
     "name": "stderr",
     "output_type": "stream",
     "text": [
      "100%|██████████| 283860/283860 [00:09<00:00, 29845.27it/s]\n",
      "100%|██████████| 7450/7450 [00:00<00:00, 30826.44it/s]\n",
      "/usr/local/lib/python3.6/dist-packages/torch/optim/lr_scheduler.py:134: UserWarning: Detected call of `lr_scheduler.step()` before `optimizer.step()`. In PyTorch 1.1.0 and later, you should call them in the opposite order: `optimizer.step()` before `lr_scheduler.step()`.  Failure to do this will result in PyTorch skipping the first value of the learning rate schedule. See more details at https://pytorch.org/docs/stable/optim.html#how-to-adjust-learning-rate\n",
      "  \"https://pytorch.org/docs/stable/optim.html#how-to-adjust-learning-rate\", UserWarning)\n"
     ]
    },
    {
     "name": "stdout",
     "output_type": "stream",
     "text": [
      "-------------------------------------------------------\n",
      "epoch:  0\n"
     ]
    },
    {
     "name": "stderr",
     "output_type": "stream",
     "text": [
      "100%|██████████| 5678/5678 [24:20<00:00,  3.89it/s]\n",
      "  1%|          | 1/149 [00:00<00:27,  5.42it/s]"
     ]
    },
    {
     "name": "stdout",
     "output_type": "stream",
     "text": [
      "\tLoss:\t60942.586\n"
     ]
    },
    {
     "name": "stderr",
     "output_type": "stream",
     "text": [
      "100%|██████████| 149/149 [00:33<00:00,  4.50it/s]\n"
     ]
    },
    {
     "name": "stdout",
     "output_type": "stream",
     "text": [
      "Best Result:\n",
      "current hit: 1.3825503355704698, mrr: 0.29900457616968096\n",
      "\tPrecision@20:\t1.3826\tMRR@20:\t0.2990\tEpoch:\t0,\t0\n",
      "-------------------------------------------------------\n",
      "epoch:  1\n"
     ]
    },
    {
     "name": "stderr",
     "output_type": "stream",
     "text": [
      "100%|██████████| 5678/5678 [24:14<00:00,  3.90it/s]\n",
      "  1%|          | 1/149 [00:00<00:27,  5.33it/s]"
     ]
    },
    {
     "name": "stdout",
     "output_type": "stream",
     "text": [
      "\tLoss:\t51794.082\n"
     ]
    },
    {
     "name": "stderr",
     "output_type": "stream",
     "text": [
      "100%|██████████| 149/149 [00:33<00:00,  4.50it/s]\n"
     ]
    },
    {
     "name": "stdout",
     "output_type": "stream",
     "text": [
      "Best Result:\n",
      "current hit: 3.973154362416107, mrr: 0.9246987090915654\n",
      "\tPrecision@20:\t3.9732\tMRR@20:\t0.9247\tEpoch:\t1,\t1\n",
      "-------------------------------------------------------\n",
      "epoch:  2\n"
     ]
    },
    {
     "name": "stderr",
     "output_type": "stream",
     "text": [
      "100%|██████████| 5678/5678 [24:14<00:00,  3.90it/s]\n",
      "  1%|          | 1/149 [00:00<00:27,  5.44it/s]"
     ]
    },
    {
     "name": "stdout",
     "output_type": "stream",
     "text": [
      "\tLoss:\t36622.914\n"
     ]
    },
    {
     "name": "stderr",
     "output_type": "stream",
     "text": [
      "100%|██████████| 149/149 [00:33<00:00,  4.49it/s]\n"
     ]
    },
    {
     "name": "stdout",
     "output_type": "stream",
     "text": [
      "Best Result:\n",
      "current hit: 5.409395973154362, mrr: 1.545587835595004\n",
      "\tPrecision@20:\t5.4094\tMRR@20:\t1.5456\tEpoch:\t2,\t2\n",
      "-------------------------------------------------------\n",
      "epoch:  3\n"
     ]
    },
    {
     "name": "stderr",
     "output_type": "stream",
     "text": [
      "100%|██████████| 5678/5678 [24:21<00:00,  3.89it/s]\n",
      "  1%|          | 1/149 [00:00<00:27,  5.32it/s]"
     ]
    },
    {
     "name": "stdout",
     "output_type": "stream",
     "text": [
      "\tLoss:\t31326.354\n"
     ]
    },
    {
     "name": "stderr",
     "output_type": "stream",
     "text": [
      "100%|██████████| 149/149 [00:33<00:00,  4.48it/s]\n"
     ]
    },
    {
     "name": "stdout",
     "output_type": "stream",
     "text": [
      "Best Result:\n",
      "current hit: 5.194630872483221, mrr: 1.6642699037986506\n",
      "\tPrecision@20:\t5.4094\tMRR@20:\t1.6643\tEpoch:\t2,\t3\n",
      "-------------------------------------------------------\n",
      "epoch:  4\n"
     ]
    },
    {
     "name": "stderr",
     "output_type": "stream",
     "text": [
      "100%|██████████| 5678/5678 [24:23<00:00,  3.88it/s]\n",
      "  1%|          | 1/149 [00:00<00:27,  5.29it/s]"
     ]
    },
    {
     "name": "stdout",
     "output_type": "stream",
     "text": [
      "\tLoss:\t27827.809\n"
     ]
    },
    {
     "name": "stderr",
     "output_type": "stream",
     "text": [
      "100%|██████████| 149/149 [00:33<00:00,  4.48it/s]\n"
     ]
    },
    {
     "name": "stdout",
     "output_type": "stream",
     "text": [
      "Best Result:\n",
      "current hit: 4.926174496644295, mrr: 1.579051556522103\n",
      "\tPrecision@20:\t5.4094\tMRR@20:\t1.6643\tEpoch:\t2,\t3\n",
      "-------------------------------------------------------\n",
      "epoch:  5\n"
     ]
    },
    {
     "name": "stderr",
     "output_type": "stream",
     "text": [
      "100%|██████████| 5678/5678 [24:16<00:00,  3.90it/s]\n",
      "  1%|          | 1/149 [00:00<00:27,  5.32it/s]"
     ]
    },
    {
     "name": "stdout",
     "output_type": "stream",
     "text": [
      "\tLoss:\t22338.438\n"
     ]
    },
    {
     "name": "stderr",
     "output_type": "stream",
     "text": [
      "100%|██████████| 149/149 [00:33<00:00,  4.51it/s]\n"
     ]
    },
    {
     "name": "stdout",
     "output_type": "stream",
     "text": [
      "Best Result:\n",
      "current hit: 4.7248322147651, mrr: 1.5591123183062219\n",
      "\tPrecision@20:\t5.4094\tMRR@20:\t1.6643\tEpoch:\t2,\t3\n",
      "-------------------------------------------------------\n",
      "epoch:  6\n"
     ]
    },
    {
     "name": "stderr",
     "output_type": "stream",
     "text": [
      "100%|██████████| 5678/5678 [24:19<00:00,  3.89it/s]\n",
      "  1%|          | 1/149 [00:00<00:28,  5.19it/s]"
     ]
    },
    {
     "name": "stdout",
     "output_type": "stream",
     "text": [
      "\tLoss:\t21543.172\n"
     ]
    },
    {
     "name": "stderr",
     "output_type": "stream",
     "text": [
      "100%|██████████| 149/149 [00:33<00:00,  4.51it/s]\n"
     ]
    },
    {
     "name": "stdout",
     "output_type": "stream",
     "text": [
      "Best Result:\n",
      "current hit: 4.563758389261745, mrr: 1.5836049386831692\n",
      "\tPrecision@20:\t5.4094\tMRR@20:\t1.6643\tEpoch:\t2,\t3\n",
      "-------------------------------------------------------\n",
      "epoch:  7\n"
     ]
    },
    {
     "name": "stderr",
     "output_type": "stream",
     "text": [
      "100%|██████████| 5678/5678 [24:16<00:00,  3.90it/s]\n",
      "  1%|          | 1/149 [00:00<00:27,  5.37it/s]"
     ]
    },
    {
     "name": "stdout",
     "output_type": "stream",
     "text": [
      "\tLoss:\t20967.932\n"
     ]
    },
    {
     "name": "stderr",
     "output_type": "stream",
     "text": [
      "100%|██████████| 149/149 [00:32<00:00,  4.52it/s]\n"
     ]
    },
    {
     "name": "stdout",
     "output_type": "stream",
     "text": [
      "Best Result:\n",
      "current hit: 4.523489932885906, mrr: 1.5812205815945917\n",
      "\tPrecision@20:\t5.4094\tMRR@20:\t1.6643\tEpoch:\t2,\t3\n",
      "-------------------------------------------------------\n",
      "epoch:  8\n"
     ]
    },
    {
     "name": "stderr",
     "output_type": "stream",
     "text": [
      "100%|██████████| 5678/5678 [24:19<00:00,  3.89it/s]\n",
      "  1%|          | 1/149 [00:00<00:27,  5.42it/s]"
     ]
    },
    {
     "name": "stdout",
     "output_type": "stream",
     "text": [
      "\tLoss:\t20131.438\n"
     ]
    },
    {
     "name": "stderr",
     "output_type": "stream",
     "text": [
      "100%|██████████| 149/149 [00:33<00:00,  4.50it/s]\n"
     ]
    },
    {
     "name": "stdout",
     "output_type": "stream",
     "text": [
      "Best Result:\n",
      "current hit: 4.510067114093959, mrr: 1.5699433920422137\n",
      "\tPrecision@20:\t5.4094\tMRR@20:\t1.6643\tEpoch:\t2,\t3\n",
      "-------------------------------------------------------\n",
      "epoch:  9\n"
     ]
    },
    {
     "name": "stderr",
     "output_type": "stream",
     "text": [
      "100%|██████████| 5678/5678 [24:11<00:00,  3.91it/s]\n",
      "  1%|          | 1/149 [00:00<00:28,  5.13it/s]"
     ]
    },
    {
     "name": "stdout",
     "output_type": "stream",
     "text": [
      "\tLoss:\t20073.105\n"
     ]
    },
    {
     "name": "stderr",
     "output_type": "stream",
     "text": [
      "100%|██████████| 149/149 [00:32<00:00,  4.54it/s]\n"
     ]
    },
    {
     "name": "stdout",
     "output_type": "stream",
     "text": [
      "Best Result:\n",
      "current hit: 4.523489932885906, mrr: 1.5796836441136937\n",
      "\tPrecision@20:\t5.4094\tMRR@20:\t1.6643\tEpoch:\t2,\t3\n",
      "-------------------------------------------------------\n",
      "epoch:  10\n"
     ]
    },
    {
     "name": "stderr",
     "output_type": "stream",
     "text": [
      "100%|██████████| 5678/5678 [24:15<00:00,  3.90it/s]\n",
      "  1%|          | 1/149 [00:00<00:27,  5.46it/s]"
     ]
    },
    {
     "name": "stdout",
     "output_type": "stream",
     "text": [
      "\tLoss:\t20018.457\n"
     ]
    },
    {
     "name": "stderr",
     "output_type": "stream",
     "text": [
      "100%|██████████| 149/149 [00:32<00:00,  4.52it/s]\n"
     ]
    },
    {
     "name": "stdout",
     "output_type": "stream",
     "text": [
      "Best Result:\n",
      "current hit: 4.496644295302014, mrr: 1.580305097471657\n",
      "\tPrecision@20:\t5.4094\tMRR@20:\t1.6643\tEpoch:\t2,\t3\n",
      "-------------------------------------------------------\n",
      "epoch:  11\n"
     ]
    },
    {
     "name": "stderr",
     "output_type": "stream",
     "text": [
      "100%|██████████| 5678/5678 [24:08<00:00,  3.92it/s]\n",
      "  1%|          | 1/149 [00:00<00:27,  5.36it/s]"
     ]
    },
    {
     "name": "stdout",
     "output_type": "stream",
     "text": [
      "\tLoss:\t19932.125\n"
     ]
    },
    {
     "name": "stderr",
     "output_type": "stream",
     "text": [
      "100%|██████████| 149/149 [00:32<00:00,  4.54it/s]\n"
     ]
    },
    {
     "name": "stdout",
     "output_type": "stream",
     "text": [
      "Best Result:\n",
      "current hit: 4.496644295302014, mrr: 1.580078011464759\n",
      "\tPrecision@20:\t5.4094\tMRR@20:\t1.6643\tEpoch:\t2,\t3\n",
      "-------------------------------------------------------\n",
      "epoch:  12\n"
     ]
    },
    {
     "name": "stderr",
     "output_type": "stream",
     "text": [
      "100%|██████████| 5678/5678 [24:10<00:00,  3.92it/s]\n",
      "  1%|          | 1/149 [00:00<00:28,  5.23it/s]"
     ]
    },
    {
     "name": "stdout",
     "output_type": "stream",
     "text": [
      "\tLoss:\t19925.551\n"
     ]
    },
    {
     "name": "stderr",
     "output_type": "stream",
     "text": [
      "100%|██████████| 149/149 [00:32<00:00,  4.52it/s]\n"
     ]
    },
    {
     "name": "stdout",
     "output_type": "stream",
     "text": [
      "Best Result:\n",
      "current hit: 4.496644295302014, mrr: 1.5795952609643467\n",
      "\tPrecision@20:\t5.4094\tMRR@20:\t1.6643\tEpoch:\t2,\t3\n",
      "-------------------------------------------------------\n",
      "epoch:  13\n"
     ]
    },
    {
     "name": "stderr",
     "output_type": "stream",
     "text": [
      "100%|██████████| 5678/5678 [24:09<00:00,  3.92it/s]\n",
      "  1%|          | 1/149 [00:00<00:27,  5.29it/s]"
     ]
    },
    {
     "name": "stdout",
     "output_type": "stream",
     "text": [
      "\tLoss:\t19919.695\n"
     ]
    },
    {
     "name": "stderr",
     "output_type": "stream",
     "text": [
      "100%|██████████| 149/149 [00:32<00:00,  4.55it/s]\n"
     ]
    },
    {
     "name": "stdout",
     "output_type": "stream",
     "text": [
      "Best Result:\n",
      "current hit: 4.483221476510067, mrr: 1.578732624248655\n",
      "\tPrecision@20:\t5.4094\tMRR@20:\t1.6643\tEpoch:\t2,\t3\n",
      "-------------------------------------------------------\n"
     ]
    },
    {
     "data": {
      "application/vnd.jupyter.widget-view+json": {
       "model_id": "a7531034005d412c8a111b29799edb2b",
       "version_major": 2,
       "version_minor": 0
      },
      "text/plain": [
       "  0%|          | 0/29821 [00:00<?, ?it/s]"
      ]
     },
     "metadata": {},
     "output_type": "display_data"
    },
    {
     "name": "stdout",
     "output_type": "stream",
     "text": [
      "        session_id  item_id   eventdate\n",
      "0          2269010        1  1511740800\n",
      "1          2269010        2  1511740800\n",
      "2          2269010        3  1511740800\n",
      "3          2269010        4  1511740800\n",
      "4          2269010        5  1511740800\n",
      "...            ...      ...         ...\n",
      "432960      460570    74268  1238544000\n",
      "432961      460570     9109  1238544000\n",
      "432962      460570    56878  1238544000\n",
      "432963      460570    64832  1238544000\n",
      "432964      460570    48683  1238544000\n",
      "\n",
      "[432965 rows x 3 columns]\n"
     ]
    },
    {
     "data": {
      "application/vnd.jupyter.widget-view+json": {
       "model_id": "59fa692093d041f69418cc6ecd452f0f",
       "version_major": 2,
       "version_minor": 0
      },
      "text/plain": [
       "  0%|          | 0/12 [00:00<?, ?it/s]"
      ]
     },
     "metadata": {},
     "output_type": "display_data"
    },
    {
     "data": {
      "application/vnd.jupyter.widget-view+json": {
       "model_id": "cd5678d528484425bfc86f5f56f8c6db",
       "version_major": 2,
       "version_minor": 0
      },
      "text/plain": [
       "  0%|          | 0/7450 [00:00<?, ?it/s]"
      ]
     },
     "metadata": {},
     "output_type": "display_data"
    },
    {
     "name": "stdout",
     "output_type": "stream",
     "text": [
      "knn: p_20, mrr_20 8.61744966442953 2.5209877485694596\n"
     ]
    },
    {
     "data": {
      "application/vnd.jupyter.widget-view+json": {
       "model_id": "4b3ebb1410a94f6f920e93258b85f195",
       "version_major": 2,
       "version_minor": 0
      },
      "text/plain": [
       "  0%|          | 0/7450 [00:00<?, ?it/s]"
      ]
     },
     "metadata": {},
     "output_type": "display_data"
    },
    {
     "data": {
      "application/vnd.jupyter.widget-view+json": {
       "model_id": "005f5c1a5bc6455e9c7753541b268808",
       "version_major": 2,
       "version_minor": 0
      },
      "text/plain": [
       "  0%|          | 0/149 [00:00<?, ?it/s]"
      ]
     },
     "metadata": {},
     "output_type": "display_data"
    },
    {
     "name": "stdout",
     "output_type": "stream",
     "text": [
      "epoch result:  9.664429530201343 2.38367518147787\n",
      "fold:  3 / 5\n"
     ]
    },
    {
     "name": "stderr",
     "output_type": "stream",
     "text": [
      "100%|██████████| 286778/286778 [00:10<00:00, 28604.26it/s]\n",
      "100%|██████████| 7445/7445 [00:00<00:00, 30377.90it/s]\n",
      "/usr/local/lib/python3.6/dist-packages/torch/optim/lr_scheduler.py:134: UserWarning: Detected call of `lr_scheduler.step()` before `optimizer.step()`. In PyTorch 1.1.0 and later, you should call them in the opposite order: `optimizer.step()` before `lr_scheduler.step()`.  Failure to do this will result in PyTorch skipping the first value of the learning rate schedule. See more details at https://pytorch.org/docs/stable/optim.html#how-to-adjust-learning-rate\n",
      "  \"https://pytorch.org/docs/stable/optim.html#how-to-adjust-learning-rate\", UserWarning)\n"
     ]
    },
    {
     "name": "stdout",
     "output_type": "stream",
     "text": [
      "-------------------------------------------------------\n",
      "epoch:  0\n"
     ]
    },
    {
     "name": "stderr",
     "output_type": "stream",
     "text": [
      "100%|██████████| 5736/5736 [44:39<00:00,  2.14it/s]  \n",
      "  1%|          | 1/149 [00:00<00:14,  9.90it/s]"
     ]
    },
    {
     "name": "stdout",
     "output_type": "stream",
     "text": [
      "\tLoss:\t61901.395\n"
     ]
    },
    {
     "name": "stderr",
     "output_type": "stream",
     "text": [
      "100%|██████████| 149/149 [00:17<00:00,  8.65it/s]\n"
     ]
    },
    {
     "name": "stdout",
     "output_type": "stream",
     "text": [
      "Best Result:\n",
      "current hit: 0.9939556749496306, mrr: 0.27611994408283813\n",
      "\tPrecision@20:\t0.9940\tMRR@20:\t0.2761\tEpoch:\t0,\t0\n",
      "-------------------------------------------------------\n",
      "epoch:  1\n"
     ]
    },
    {
     "name": "stderr",
     "output_type": "stream",
     "text": [
      "100%|██████████| 5736/5736 [44:01<00:00,  2.17it/s]  \n",
      "  1%|          | 1/149 [00:00<00:14,  9.95it/s]"
     ]
    },
    {
     "name": "stdout",
     "output_type": "stream",
     "text": [
      "\tLoss:\t53497.648\n"
     ]
    },
    {
     "name": "stderr",
     "output_type": "stream",
     "text": [
      "100%|██████████| 149/149 [00:17<00:00,  8.66it/s]\n"
     ]
    },
    {
     "name": "stdout",
     "output_type": "stream",
     "text": [
      "Best Result:\n",
      "current hit: 2.9147078576225653, mrr: 0.698090690551918\n",
      "\tPrecision@20:\t2.9147\tMRR@20:\t0.6981\tEpoch:\t1,\t1\n",
      "-------------------------------------------------------\n",
      "epoch:  2\n"
     ]
    },
    {
     "name": "stderr",
     "output_type": "stream",
     "text": [
      "100%|██████████| 5736/5736 [43:54<00:00,  2.18it/s]  \n",
      "  1%|          | 1/149 [00:00<00:15,  9.74it/s]"
     ]
    },
    {
     "name": "stdout",
     "output_type": "stream",
     "text": [
      "\tLoss:\t39370.426\n"
     ]
    },
    {
     "name": "stderr",
     "output_type": "stream",
     "text": [
      "100%|██████████| 149/149 [00:17<00:00,  8.72it/s]\n"
     ]
    },
    {
     "name": "stdout",
     "output_type": "stream",
     "text": [
      "Best Result:\n",
      "current hit: 4.0429818670248485, mrr: 1.0425457190308618\n",
      "\tPrecision@20:\t4.0430\tMRR@20:\t1.0425\tEpoch:\t2,\t2\n",
      "-------------------------------------------------------\n",
      "epoch:  3\n"
     ]
    },
    {
     "name": "stderr",
     "output_type": "stream",
     "text": [
      "100%|██████████| 5736/5736 [43:53<00:00,  2.18it/s]  \n",
      "  1%|          | 1/149 [00:00<00:15,  9.45it/s]"
     ]
    },
    {
     "name": "stdout",
     "output_type": "stream",
     "text": [
      "\tLoss:\t34400.859\n"
     ]
    },
    {
     "name": "stderr",
     "output_type": "stream",
     "text": [
      "100%|██████████| 149/149 [00:17<00:00,  8.71it/s]\n"
     ]
    },
    {
     "name": "stdout",
     "output_type": "stream",
     "text": [
      "Best Result:\n",
      "current hit: 4.163868368032237, mrr: 1.1828935352488883\n",
      "\tPrecision@20:\t4.1639\tMRR@20:\t1.1829\tEpoch:\t3,\t3\n",
      "-------------------------------------------------------\n",
      "epoch:  4\n"
     ]
    },
    {
     "name": "stderr",
     "output_type": "stream",
     "text": [
      "100%|██████████| 5736/5736 [43:44<00:00,  2.19it/s]  \n",
      "  1%|          | 1/149 [00:00<00:15,  9.57it/s]"
     ]
    },
    {
     "name": "stdout",
     "output_type": "stream",
     "text": [
      "\tLoss:\t31280.760\n"
     ]
    },
    {
     "name": "stderr",
     "output_type": "stream",
     "text": [
      "100%|██████████| 149/149 [00:17<00:00,  8.74it/s]\n"
     ]
    },
    {
     "name": "stdout",
     "output_type": "stream",
     "text": [
      "Best Result:\n",
      "current hit: 4.35191403626595, mrr: 1.1820158155232499\n",
      "\tPrecision@20:\t4.3519\tMRR@20:\t1.1829\tEpoch:\t4,\t3\n",
      "-------------------------------------------------------\n",
      "epoch:  5\n"
     ]
    },
    {
     "name": "stderr",
     "output_type": "stream",
     "text": [
      "100%|██████████| 5736/5736 [43:47<00:00,  2.18it/s]  \n",
      "  1%|          | 1/149 [00:00<00:15,  9.66it/s]"
     ]
    },
    {
     "name": "stdout",
     "output_type": "stream",
     "text": [
      "\tLoss:\t26164.148\n"
     ]
    },
    {
     "name": "stderr",
     "output_type": "stream",
     "text": [
      "100%|██████████| 149/149 [00:17<00:00,  8.70it/s]\n"
     ]
    },
    {
     "name": "stdout",
     "output_type": "stream",
     "text": [
      "Best Result:\n",
      "current hit: 4.284754869039624, mrr: 1.22844391528207\n",
      "\tPrecision@20:\t4.3519\tMRR@20:\t1.2284\tEpoch:\t4,\t5\n",
      "-------------------------------------------------------\n",
      "epoch:  6\n"
     ]
    },
    {
     "name": "stderr",
     "output_type": "stream",
     "text": [
      "100%|██████████| 5736/5736 [43:29<00:00,  2.20it/s]  \n",
      "  1%|          | 1/149 [00:00<00:16,  8.83it/s]"
     ]
    },
    {
     "name": "stdout",
     "output_type": "stream",
     "text": [
      "\tLoss:\t25397.584\n"
     ]
    },
    {
     "name": "stderr",
     "output_type": "stream",
     "text": [
      "100%|██████████| 149/149 [00:17<00:00,  8.74it/s]\n"
     ]
    },
    {
     "name": "stdout",
     "output_type": "stream",
     "text": [
      "Best Result:\n",
      "current hit: 4.204163868368032, mrr: 1.242035001414933\n",
      "\tPrecision@20:\t4.3519\tMRR@20:\t1.2420\tEpoch:\t4,\t6\n",
      "-------------------------------------------------------\n",
      "epoch:  7\n"
     ]
    },
    {
     "name": "stderr",
     "output_type": "stream",
     "text": [
      "100%|██████████| 5736/5736 [43:36<00:00,  2.19it/s]  \n",
      "  0%|          | 0/149 [00:00<?, ?it/s]"
     ]
    },
    {
     "name": "stdout",
     "output_type": "stream",
     "text": [
      "\tLoss:\t24871.205\n"
     ]
    },
    {
     "name": "stderr",
     "output_type": "stream",
     "text": [
      "100%|██████████| 149/149 [00:16<00:00,  8.77it/s]\n"
     ]
    },
    {
     "name": "stdout",
     "output_type": "stream",
     "text": [
      "Best Result:\n",
      "current hit: 4.083277367360645, mrr: 1.2260726483587838\n",
      "\tPrecision@20:\t4.3519\tMRR@20:\t1.2420\tEpoch:\t4,\t6\n",
      "-------------------------------------------------------\n",
      "epoch:  8\n"
     ]
    },
    {
     "name": "stderr",
     "output_type": "stream",
     "text": [
      "100%|██████████| 5736/5736 [43:41<00:00,  2.19it/s]  \n",
      "  1%|          | 1/149 [00:00<00:14,  9.98it/s]"
     ]
    },
    {
     "name": "stdout",
     "output_type": "stream",
     "text": [
      "\tLoss:\t24036.768\n"
     ]
    },
    {
     "name": "stderr",
     "output_type": "stream",
     "text": [
      "100%|██████████| 149/149 [00:17<00:00,  8.73it/s]\n"
     ]
    },
    {
     "name": "stdout",
     "output_type": "stream",
     "text": [
      "Best Result:\n",
      "current hit: 4.09670920080591, mrr: 1.2283656973352512\n",
      "\tPrecision@20:\t4.3519\tMRR@20:\t1.2420\tEpoch:\t4,\t6\n",
      "-------------------------------------------------------\n",
      "epoch:  9\n"
     ]
    },
    {
     "name": "stderr",
     "output_type": "stream",
     "text": [
      "100%|██████████| 5736/5736 [43:27<00:00,  2.20it/s]  \n",
      "  1%|          | 1/149 [00:00<00:14,  9.99it/s]"
     ]
    },
    {
     "name": "stdout",
     "output_type": "stream",
     "text": [
      "\tLoss:\t23982.412\n"
     ]
    },
    {
     "name": "stderr",
     "output_type": "stream",
     "text": [
      "100%|██████████| 149/149 [00:17<00:00,  8.70it/s]\n"
     ]
    },
    {
     "name": "stdout",
     "output_type": "stream",
     "text": [
      "Best Result:\n",
      "current hit: 4.069845533915379, mrr: 1.2181759124405611\n",
      "\tPrecision@20:\t4.3519\tMRR@20:\t1.2420\tEpoch:\t4,\t6\n",
      "-------------------------------------------------------\n",
      "epoch:  10\n"
     ]
    },
    {
     "name": "stderr",
     "output_type": "stream",
     "text": [
      "100%|██████████| 5736/5736 [43:38<00:00,  2.19it/s]  \n",
      "  1%|          | 1/149 [00:00<00:14,  9.91it/s]"
     ]
    },
    {
     "name": "stdout",
     "output_type": "stream",
     "text": [
      "\tLoss:\t23932.764\n"
     ]
    },
    {
     "name": "stderr",
     "output_type": "stream",
     "text": [
      "100%|██████████| 149/149 [00:17<00:00,  8.67it/s]\n"
     ]
    },
    {
     "name": "stdout",
     "output_type": "stream",
     "text": [
      "Best Result:\n",
      "current hit: 4.056413700470114, mrr: 1.2171467846880109\n",
      "\tPrecision@20:\t4.3519\tMRR@20:\t1.2420\tEpoch:\t4,\t6\n",
      "-------------------------------------------------------\n",
      "epoch:  11\n"
     ]
    },
    {
     "name": "stderr",
     "output_type": "stream",
     "text": [
      "100%|██████████| 5736/5736 [44:12<00:00,  2.16it/s]  \n",
      "  1%|          | 1/149 [00:00<00:15,  9.58it/s]"
     ]
    },
    {
     "name": "stdout",
     "output_type": "stream",
     "text": [
      "\tLoss:\t23842.262\n"
     ]
    },
    {
     "name": "stderr",
     "output_type": "stream",
     "text": [
      "100%|██████████| 149/149 [00:17<00:00,  8.62it/s]\n"
     ]
    },
    {
     "name": "stdout",
     "output_type": "stream",
     "text": [
      "Best Result:\n",
      "current hit: 4.056413700470114, mrr: 1.2163091905584322\n",
      "\tPrecision@20:\t4.3519\tMRR@20:\t1.2420\tEpoch:\t4,\t6\n",
      "-------------------------------------------------------\n",
      "epoch:  12\n"
     ]
    },
    {
     "name": "stderr",
     "output_type": "stream",
     "text": [
      "100%|██████████| 5736/5736 [44:19<00:00,  2.16it/s]  \n",
      "  1%|          | 1/149 [00:00<00:15,  9.75it/s]"
     ]
    },
    {
     "name": "stdout",
     "output_type": "stream",
     "text": [
      "\tLoss:\t23837.363\n"
     ]
    },
    {
     "name": "stderr",
     "output_type": "stream",
     "text": [
      "100%|██████████| 149/149 [00:17<00:00,  8.56it/s]\n"
     ]
    },
    {
     "name": "stdout",
     "output_type": "stream",
     "text": [
      "Best Result:\n",
      "current hit: 4.056413700470114, mrr: 1.2147443238155937\n",
      "\tPrecision@20:\t4.3519\tMRR@20:\t1.2420\tEpoch:\t4,\t6\n",
      "-------------------------------------------------------\n",
      "epoch:  13\n"
     ]
    },
    {
     "name": "stderr",
     "output_type": "stream",
     "text": [
      "100%|██████████| 5736/5736 [44:27<00:00,  2.15it/s]  \n",
      "  0%|          | 0/149 [00:00<?, ?it/s]"
     ]
    },
    {
     "name": "stdout",
     "output_type": "stream",
     "text": [
      "\tLoss:\t23832.572\n"
     ]
    },
    {
     "name": "stderr",
     "output_type": "stream",
     "text": [
      "100%|██████████| 149/149 [00:17<00:00,  8.59it/s]\n"
     ]
    },
    {
     "name": "stdout",
     "output_type": "stream",
     "text": [
      "Best Result:\n",
      "current hit: 4.056413700470114, mrr: 1.2145844210364833\n",
      "\tPrecision@20:\t4.3519\tMRR@20:\t1.2420\tEpoch:\t4,\t6\n",
      "-------------------------------------------------------\n",
      "epoch:  14\n"
     ]
    },
    {
     "name": "stderr",
     "output_type": "stream",
     "text": [
      "100%|██████████| 5736/5736 [44:37<00:00,  2.14it/s]  \n",
      "  1%|          | 1/149 [00:00<00:15,  9.59it/s]"
     ]
    },
    {
     "name": "stdout",
     "output_type": "stream",
     "text": [
      "\tLoss:\t23823.262\n"
     ]
    },
    {
     "name": "stderr",
     "output_type": "stream",
     "text": [
      "100%|██████████| 149/149 [00:17<00:00,  8.53it/s]\n"
     ]
    },
    {
     "name": "stdout",
     "output_type": "stream",
     "text": [
      "Best Result:\n",
      "current hit: 4.056413700470114, mrr: 1.2146283159170232\n",
      "\tPrecision@20:\t4.3519\tMRR@20:\t1.2420\tEpoch:\t4,\t6\n",
      "-------------------------------------------------------\n",
      "epoch:  15\n"
     ]
    },
    {
     "name": "stderr",
     "output_type": "stream",
     "text": [
      "100%|██████████| 5736/5736 [44:34<00:00,  2.14it/s]  \n",
      "  1%|          | 1/149 [00:00<00:15,  9.78it/s]"
     ]
    },
    {
     "name": "stdout",
     "output_type": "stream",
     "text": [
      "\tLoss:\t23822.963\n"
     ]
    },
    {
     "name": "stderr",
     "output_type": "stream",
     "text": [
      "100%|██████████| 149/149 [00:17<00:00,  8.56it/s]\n"
     ]
    },
    {
     "name": "stdout",
     "output_type": "stream",
     "text": [
      "Best Result:\n",
      "current hit: 4.056413700470114, mrr: 1.2146283159170232\n",
      "\tPrecision@20:\t4.3519\tMRR@20:\t1.2420\tEpoch:\t4,\t6\n",
      "-------------------------------------------------------\n",
      "epoch:  16\n"
     ]
    },
    {
     "name": "stderr",
     "output_type": "stream",
     "text": [
      "100%|██████████| 5736/5736 [44:41<00:00,  2.14it/s]  \n",
      "  1%|          | 1/149 [00:00<00:16,  8.97it/s]"
     ]
    },
    {
     "name": "stdout",
     "output_type": "stream",
     "text": [
      "\tLoss:\t23823.018\n"
     ]
    },
    {
     "name": "stderr",
     "output_type": "stream",
     "text": [
      "100%|██████████| 149/149 [00:17<00:00,  8.62it/s]\n"
     ]
    },
    {
     "name": "stdout",
     "output_type": "stream",
     "text": [
      "Best Result:\n",
      "current hit: 4.056413700470114, mrr: 1.2146283159170232\n",
      "\tPrecision@20:\t4.3519\tMRR@20:\t1.2420\tEpoch:\t4,\t6\n",
      "-------------------------------------------------------\n"
     ]
    },
    {
     "data": {
      "application/vnd.jupyter.widget-view+json": {
       "model_id": "1cfcb760d90a429688ef6824f688df08",
       "version_major": 2,
       "version_minor": 0
      },
      "text/plain": [
       "  0%|          | 0/29821 [00:00<?, ?it/s]"
      ]
     },
     "metadata": {},
     "output_type": "display_data"
    },
    {
     "name": "stdout",
     "output_type": "stream",
     "text": [
      "        session_id  item_id   eventdate\n",
      "0          2269010        1  1511740800\n",
      "1          2269010        2  1511740800\n",
      "2          2269010        3  1511740800\n",
      "3          2269010        4  1511740800\n",
      "4          2269010        5  1511740800\n",
      "...            ...      ...         ...\n",
      "435878      460570    71021  1238544000\n",
      "435879      460570     9109  1238544000\n",
      "435880      460570    56878  1238544000\n",
      "435881      460570    73644  1238544000\n",
      "435882      460570    48683  1238544000\n",
      "\n",
      "[435883 rows x 3 columns]\n"
     ]
    },
    {
     "data": {
      "application/vnd.jupyter.widget-view+json": {
       "model_id": "1a3ba1cbb3f8434b94d579c3a0ac02c0",
       "version_major": 2,
       "version_minor": 0
      },
      "text/plain": [
       "  0%|          | 0/12 [00:00<?, ?it/s]"
      ]
     },
     "metadata": {},
     "output_type": "display_data"
    },
    {
     "data": {
      "application/vnd.jupyter.widget-view+json": {
       "model_id": "2e6473793c404e1f95163b4186717d40",
       "version_major": 2,
       "version_minor": 0
      },
      "text/plain": [
       "  0%|          | 0/7445 [00:00<?, ?it/s]"
      ]
     },
     "metadata": {},
     "output_type": "display_data"
    },
    {
     "name": "stdout",
     "output_type": "stream",
     "text": [
      "knn: p_20, mrr_20 8.300873069173942 2.213329218089618\n"
     ]
    },
    {
     "data": {
      "application/vnd.jupyter.widget-view+json": {
       "model_id": "fcf18a7b3fef4c4c935ee976df379cb0",
       "version_major": 2,
       "version_minor": 0
      },
      "text/plain": [
       "  0%|          | 0/7445 [00:00<?, ?it/s]"
      ]
     },
     "metadata": {},
     "output_type": "display_data"
    },
    {
     "data": {
      "application/vnd.jupyter.widget-view+json": {
       "model_id": "d7388582ad2b4466b054cdc2c1a2bc72",
       "version_major": 2,
       "version_minor": 0
      },
      "text/plain": [
       "  0%|          | 0/149 [00:00<?, ?it/s]"
      ]
     },
     "metadata": {},
     "output_type": "display_data"
    },
    {
     "name": "stdout",
     "output_type": "stream",
     "text": [
      "epoch result:  9.012760241773002 2.0942893432492076\n",
      "fold:  4 / 5\n"
     ]
    },
    {
     "name": "stderr",
     "output_type": "stream",
     "text": [
      "100%|██████████| 286404/286404 [00:09<00:00, 30165.20it/s]\n",
      "100%|██████████| 7448/7448 [00:00<00:00, 30977.26it/s]\n",
      "/usr/local/lib/python3.6/dist-packages/torch/optim/lr_scheduler.py:134: UserWarning: Detected call of `lr_scheduler.step()` before `optimizer.step()`. In PyTorch 1.1.0 and later, you should call them in the opposite order: `optimizer.step()` before `lr_scheduler.step()`.  Failure to do this will result in PyTorch skipping the first value of the learning rate schedule. See more details at https://pytorch.org/docs/stable/optim.html#how-to-adjust-learning-rate\n",
      "  \"https://pytorch.org/docs/stable/optim.html#how-to-adjust-learning-rate\", UserWarning)\n"
     ]
    },
    {
     "name": "stdout",
     "output_type": "stream",
     "text": [
      "-------------------------------------------------------\n",
      "epoch:  0\n"
     ]
    },
    {
     "name": "stderr",
     "output_type": "stream",
     "text": [
      "100%|██████████| 5729/5729 [45:01<00:00,  2.12it/s]  \n",
      "  1%|          | 1/149 [00:00<00:15,  9.57it/s]"
     ]
    },
    {
     "name": "stdout",
     "output_type": "stream",
     "text": [
      "\tLoss:\t56852.629\n"
     ]
    },
    {
     "name": "stderr",
     "output_type": "stream",
     "text": [
      "100%|██████████| 149/149 [00:17<00:00,  8.55it/s]\n"
     ]
    },
    {
     "name": "stdout",
     "output_type": "stream",
     "text": [
      "Best Result:\n",
      "current hit: 5.397422126745435, mrr: 1.3755283038084454\n",
      "\tPrecision@20:\t5.3974\tMRR@20:\t1.3755\tEpoch:\t0,\t0\n",
      "-------------------------------------------------------\n",
      "epoch:  1\n"
     ]
    },
    {
     "name": "stderr",
     "output_type": "stream",
     "text": [
      "100%|██████████| 5729/5729 [45:09<00:00,  2.11it/s]  \n",
      "  1%|          | 1/149 [00:00<00:15,  9.63it/s]"
     ]
    },
    {
     "name": "stdout",
     "output_type": "stream",
     "text": [
      "\tLoss:\t43610.508\n"
     ]
    },
    {
     "name": "stderr",
     "output_type": "stream",
     "text": [
      "100%|██████████| 149/149 [00:17<00:00,  8.62it/s]\n"
     ]
    },
    {
     "name": "stdout",
     "output_type": "stream",
     "text": [
      "Best Result:\n",
      "current hit: 6.7669172932330826, mrr: 1.8921482002221566\n",
      "\tPrecision@20:\t6.7669\tMRR@20:\t1.8921\tEpoch:\t1,\t1\n",
      "-------------------------------------------------------\n",
      "epoch:  2\n"
     ]
    },
    {
     "name": "stderr",
     "output_type": "stream",
     "text": [
      "100%|██████████| 5729/5729 [45:20<00:00,  2.11it/s]  \n",
      "  1%|          | 1/149 [00:00<00:15,  9.85it/s]"
     ]
    },
    {
     "name": "stdout",
     "output_type": "stream",
     "text": [
      "\tLoss:\t27075.916\n"
     ]
    },
    {
     "name": "stderr",
     "output_type": "stream",
     "text": [
      "100%|██████████| 149/149 [00:17<00:00,  8.65it/s]\n"
     ]
    },
    {
     "name": "stdout",
     "output_type": "stream",
     "text": [
      "Best Result:\n",
      "current hit: 6.63265306122449, mrr: 2.0196421243250984\n",
      "\tPrecision@20:\t6.7669\tMRR@20:\t2.0196\tEpoch:\t1,\t2\n",
      "-------------------------------------------------------\n",
      "epoch:  3\n"
     ]
    },
    {
     "name": "stderr",
     "output_type": "stream",
     "text": [
      "100%|██████████| 5729/5729 [45:07<00:00,  2.12it/s]  \n",
      "  1%|          | 1/149 [00:00<00:15,  9.48it/s]"
     ]
    },
    {
     "name": "stdout",
     "output_type": "stream",
     "text": [
      "\tLoss:\t22528.688\n"
     ]
    },
    {
     "name": "stderr",
     "output_type": "stream",
     "text": [
      "100%|██████████| 149/149 [00:17<00:00,  8.59it/s]\n"
     ]
    },
    {
     "name": "stdout",
     "output_type": "stream",
     "text": [
      "Best Result:\n",
      "current hit: 5.706229860365199, mrr: 1.87605385708467\n",
      "\tPrecision@20:\t6.7669\tMRR@20:\t2.0196\tEpoch:\t1,\t2\n",
      "-------------------------------------------------------\n",
      "epoch:  4\n"
     ]
    },
    {
     "name": "stderr",
     "output_type": "stream",
     "text": [
      "100%|██████████| 5729/5729 [45:14<00:00,  2.11it/s]  \n",
      "  1%|          | 1/149 [00:00<00:15,  9.45it/s]"
     ]
    },
    {
     "name": "stdout",
     "output_type": "stream",
     "text": [
      "\tLoss:\t19198.154\n"
     ]
    },
    {
     "name": "stderr",
     "output_type": "stream",
     "text": [
      "100%|██████████| 149/149 [00:17<00:00,  8.58it/s]\n"
     ]
    },
    {
     "name": "stdout",
     "output_type": "stream",
     "text": [
      "Best Result:\n",
      "current hit: 4.9409237379162185, mrr: 1.7476819020852494\n",
      "\tPrecision@20:\t6.7669\tMRR@20:\t2.0196\tEpoch:\t1,\t2\n",
      "-------------------------------------------------------\n",
      "epoch:  5\n"
     ]
    },
    {
     "name": "stderr",
     "output_type": "stream",
     "text": [
      "100%|██████████| 5729/5729 [45:24<00:00,  2.10it/s]  \n",
      "  1%|          | 1/149 [00:00<00:16,  9.06it/s]"
     ]
    },
    {
     "name": "stdout",
     "output_type": "stream",
     "text": [
      "\tLoss:\t14257.897\n"
     ]
    },
    {
     "name": "stderr",
     "output_type": "stream",
     "text": [
      "100%|██████████| 149/149 [00:17<00:00,  8.64it/s]\n"
     ]
    },
    {
     "name": "stdout",
     "output_type": "stream",
     "text": [
      "Best Result:\n",
      "current hit: 4.73952738990333, mrr: 1.6596729712937068\n",
      "\tPrecision@20:\t6.7669\tMRR@20:\t2.0196\tEpoch:\t1,\t2\n",
      "-------------------------------------------------------\n",
      "epoch:  6\n"
     ]
    },
    {
     "name": "stderr",
     "output_type": "stream",
     "text": [
      "100%|██████████| 5729/5729 [44:53<00:00,  2.13it/s]  \n",
      "  1%|          | 1/149 [00:00<00:15,  9.39it/s]"
     ]
    },
    {
     "name": "stdout",
     "output_type": "stream",
     "text": [
      "\tLoss:\t13709.027\n"
     ]
    },
    {
     "name": "stderr",
     "output_type": "stream",
     "text": [
      "100%|██████████| 149/149 [00:17<00:00,  8.57it/s]\n"
     ]
    },
    {
     "name": "stdout",
     "output_type": "stream",
     "text": [
      "Best Result:\n",
      "current hit: 4.685821697099893, mrr: 1.639181431266721\n",
      "\tPrecision@20:\t6.7669\tMRR@20:\t2.0196\tEpoch:\t1,\t2\n",
      "-------------------------------------------------------\n",
      "epoch:  7\n"
     ]
    },
    {
     "name": "stderr",
     "output_type": "stream",
     "text": [
      "100%|██████████| 5729/5729 [44:55<00:00,  2.13it/s]  \n",
      "  1%|          | 1/149 [00:00<00:15,  9.47it/s]"
     ]
    },
    {
     "name": "stdout",
     "output_type": "stream",
     "text": [
      "\tLoss:\t13246.299\n"
     ]
    },
    {
     "name": "stderr",
     "output_type": "stream",
     "text": [
      "100%|██████████| 149/149 [00:17<00:00,  8.61it/s]\n"
     ]
    },
    {
     "name": "stdout",
     "output_type": "stream",
     "text": [
      "Best Result:\n",
      "current hit: 4.618689581095596, mrr: 1.617956012483041\n",
      "\tPrecision@20:\t6.7669\tMRR@20:\t2.0196\tEpoch:\t1,\t2\n",
      "-------------------------------------------------------\n",
      "epoch:  8\n"
     ]
    },
    {
     "name": "stderr",
     "output_type": "stream",
     "text": [
      "100%|██████████| 5729/5729 [45:12<00:00,  2.11it/s]  \n",
      "  1%|          | 1/149 [00:00<00:15,  9.55it/s]"
     ]
    },
    {
     "name": "stdout",
     "output_type": "stream",
     "text": [
      "\tLoss:\t12630.987\n"
     ]
    },
    {
     "name": "stderr",
     "output_type": "stream",
     "text": [
      "100%|██████████| 149/149 [00:17<00:00,  8.57it/s]\n"
     ]
    },
    {
     "name": "stdout",
     "output_type": "stream",
     "text": [
      "Best Result:\n",
      "current hit: 4.564983888292159, mrr: 1.6101236728582196\n",
      "\tPrecision@20:\t6.7669\tMRR@20:\t2.0196\tEpoch:\t1,\t2\n",
      "-------------------------------------------------------\n",
      "epoch:  9\n"
     ]
    },
    {
     "name": "stderr",
     "output_type": "stream",
     "text": [
      "100%|██████████| 5729/5729 [45:01<00:00,  2.12it/s]  \n",
      "  1%|          | 1/149 [00:00<00:15,  9.48it/s]"
     ]
    },
    {
     "name": "stdout",
     "output_type": "stream",
     "text": [
      "\tLoss:\t12586.678\n"
     ]
    },
    {
     "name": "stderr",
     "output_type": "stream",
     "text": [
      "100%|██████████| 149/149 [00:17<00:00,  8.60it/s]\n"
     ]
    },
    {
     "name": "stdout",
     "output_type": "stream",
     "text": [
      "Best Result:\n",
      "current hit: 4.564983888292159, mrr: 1.599481746451199\n",
      "\tPrecision@20:\t6.7669\tMRR@20:\t2.0196\tEpoch:\t1,\t2\n",
      "-------------------------------------------------------\n",
      "epoch:  10\n"
     ]
    },
    {
     "name": "stderr",
     "output_type": "stream",
     "text": [
      "100%|██████████| 5729/5729 [44:55<00:00,  2.13it/s]  \n",
      "  1%|          | 1/149 [00:00<00:16,  8.85it/s]"
     ]
    },
    {
     "name": "stdout",
     "output_type": "stream",
     "text": [
      "\tLoss:\t12542.534\n"
     ]
    },
    {
     "name": "stderr",
     "output_type": "stream",
     "text": [
      "100%|██████████| 149/149 [00:17<00:00,  8.61it/s]\n"
     ]
    },
    {
     "name": "stdout",
     "output_type": "stream",
     "text": [
      "Best Result:\n",
      "current hit: 4.578410311493018, mrr: 1.5914647088801308\n",
      "\tPrecision@20:\t6.7669\tMRR@20:\t2.0196\tEpoch:\t1,\t2\n",
      "-------------------------------------------------------\n",
      "epoch:  11\n"
     ]
    },
    {
     "name": "stderr",
     "output_type": "stream",
     "text": [
      "100%|██████████| 5729/5729 [44:26<00:00,  2.15it/s]  \n",
      "  1%|          | 1/149 [00:00<00:15,  9.38it/s]"
     ]
    },
    {
     "name": "stdout",
     "output_type": "stream",
     "text": [
      "\tLoss:\t12477.573\n"
     ]
    },
    {
     "name": "stderr",
     "output_type": "stream",
     "text": [
      "100%|██████████| 149/149 [00:17<00:00,  8.64it/s]\n"
     ]
    },
    {
     "name": "stdout",
     "output_type": "stream",
     "text": [
      "Best Result:\n",
      "current hit: 4.578410311493018, mrr: 1.5914146840504573\n",
      "\tPrecision@20:\t6.7669\tMRR@20:\t2.0196\tEpoch:\t1,\t2\n",
      "-------------------------------------------------------\n",
      "epoch:  12\n"
     ]
    },
    {
     "name": "stderr",
     "output_type": "stream",
     "text": [
      "100%|██████████| 5729/5729 [44:33<00:00,  2.14it/s]  \n",
      "  1%|          | 1/149 [00:00<00:15,  9.45it/s]"
     ]
    },
    {
     "name": "stdout",
     "output_type": "stream",
     "text": [
      "\tLoss:\t12472.569\n"
     ]
    },
    {
     "name": "stderr",
     "output_type": "stream",
     "text": [
      "100%|██████████| 149/149 [00:17<00:00,  8.69it/s]\n"
     ]
    },
    {
     "name": "stdout",
     "output_type": "stream",
     "text": [
      "Best Result:\n",
      "current hit: 4.578410311493018, mrr: 1.5912161397204443\n",
      "\tPrecision@20:\t6.7669\tMRR@20:\t2.0196\tEpoch:\t1,\t2\n",
      "-------------------------------------------------------\n"
     ]
    },
    {
     "data": {
      "application/vnd.jupyter.widget-view+json": {
       "model_id": "ca9ddc38a32449a9bf1557f8dc6d6550",
       "version_major": 2,
       "version_minor": 0
      },
      "text/plain": [
       "  0%|          | 0/29821 [00:00<?, ?it/s]"
      ]
     },
     "metadata": {},
     "output_type": "display_data"
    },
    {
     "name": "stdout",
     "output_type": "stream",
     "text": [
      "        session_id  item_id   eventdate\n",
      "0          2269010        1  1511740800\n",
      "1          2269010        2  1511740800\n",
      "2          2269010        3  1511740800\n",
      "3          2269010        4  1511740800\n",
      "4          2269010        5  1511740800\n",
      "...            ...      ...         ...\n",
      "435504      460570    71021  1238544000\n",
      "435505      460570     9109  1238544000\n",
      "435506      460570    56878  1238544000\n",
      "435507      460570    73794  1238544000\n",
      "435508      460570    48683  1238544000\n",
      "\n",
      "[435509 rows x 3 columns]\n"
     ]
    },
    {
     "data": {
      "application/vnd.jupyter.widget-view+json": {
       "model_id": "b501abf92b474e41a563e33efd3bd9a7",
       "version_major": 2,
       "version_minor": 0
      },
      "text/plain": [
       "  0%|          | 0/12 [00:00<?, ?it/s]"
      ]
     },
     "metadata": {},
     "output_type": "display_data"
    },
    {
     "data": {
      "application/vnd.jupyter.widget-view+json": {
       "model_id": "7cfc3338a8024820920e7110ef30fca5",
       "version_major": 2,
       "version_minor": 0
      },
      "text/plain": [
       "  0%|          | 0/7448 [00:00<?, ?it/s]"
      ]
     },
     "metadata": {},
     "output_type": "display_data"
    },
    {
     "name": "stdout",
     "output_type": "stream",
     "text": [
      "knn: p_20, mrr_20 8.257250268528464 2.2904289865151424\n"
     ]
    },
    {
     "data": {
      "application/vnd.jupyter.widget-view+json": {
       "model_id": "026e8a91244c43e789af1efa473d7b44",
       "version_major": 2,
       "version_minor": 0
      },
      "text/plain": [
       "  0%|          | 0/7448 [00:00<?, ?it/s]"
      ]
     },
     "metadata": {},
     "output_type": "display_data"
    },
    {
     "data": {
      "application/vnd.jupyter.widget-view+json": {
       "model_id": "e574f2595a8046b98cbf6e93b04dc7e5",
       "version_major": 2,
       "version_minor": 0
      },
      "text/plain": [
       "  0%|          | 0/149 [00:00<?, ?it/s]"
      ]
     },
     "metadata": {},
     "output_type": "display_data"
    },
    {
     "name": "stdout",
     "output_type": "stream",
     "text": [
      "epoch result:  9.022556390977442 2.348504082104724\n",
      "fold:  5 / 5\n"
     ]
    },
    {
     "name": "stderr",
     "output_type": "stream",
     "text": [
      "100%|██████████| 286861/286861 [00:09<00:00, 29009.11it/s]\n",
      "100%|██████████| 7449/7449 [00:00<00:00, 28707.41it/s]\n",
      "/usr/local/lib/python3.6/dist-packages/torch/optim/lr_scheduler.py:134: UserWarning: Detected call of `lr_scheduler.step()` before `optimizer.step()`. In PyTorch 1.1.0 and later, you should call them in the opposite order: `optimizer.step()` before `lr_scheduler.step()`.  Failure to do this will result in PyTorch skipping the first value of the learning rate schedule. See more details at https://pytorch.org/docs/stable/optim.html#how-to-adjust-learning-rate\n",
      "  \"https://pytorch.org/docs/stable/optim.html#how-to-adjust-learning-rate\", UserWarning)\n"
     ]
    },
    {
     "name": "stdout",
     "output_type": "stream",
     "text": [
      "-------------------------------------------------------\n",
      "epoch:  0\n"
     ]
    },
    {
     "name": "stderr",
     "output_type": "stream",
     "text": [
      "100%|██████████| 5738/5738 [43:11<00:00,  2.21it/s]  \n",
      "  1%|          | 1/149 [00:00<00:19,  7.68it/s]"
     ]
    },
    {
     "name": "stdout",
     "output_type": "stream",
     "text": [
      "\tLoss:\t57568.301\n"
     ]
    },
    {
     "name": "stderr",
     "output_type": "stream",
     "text": [
      "100%|██████████| 149/149 [00:20<00:00,  7.18it/s]\n"
     ]
    },
    {
     "name": "stdout",
     "output_type": "stream",
     "text": [
      "Best Result:\n",
      "current hit: 5.074506645187273, mrr: 1.4168001848766651\n",
      "\tPrecision@20:\t5.0745\tMRR@20:\t1.4168\tEpoch:\t0,\t0\n",
      "-------------------------------------------------------\n",
      "epoch:  1\n"
     ]
    },
    {
     "name": "stderr",
     "output_type": "stream",
     "text": [
      "100%|██████████| 5738/5738 [42:50<00:00,  2.23it/s]  \n",
      "  1%|          | 1/149 [00:00<00:18,  8.18it/s]"
     ]
    },
    {
     "name": "stdout",
     "output_type": "stream",
     "text": [
      "\tLoss:\t44142.773\n"
     ]
    },
    {
     "name": "stderr",
     "output_type": "stream",
     "text": [
      "100%|██████████| 149/149 [00:20<00:00,  7.19it/s]\n"
     ]
    },
    {
     "name": "stdout",
     "output_type": "stream",
     "text": [
      "Best Result:\n",
      "current hit: 7.24929520741039, mrr: 1.9686073301431728\n",
      "\tPrecision@20:\t7.2493\tMRR@20:\t1.9686\tEpoch:\t1,\t1\n",
      "-------------------------------------------------------\n",
      "epoch:  2\n"
     ]
    },
    {
     "name": "stderr",
     "output_type": "stream",
     "text": [
      "100%|██████████| 5738/5738 [43:04<00:00,  2.22it/s]  \n",
      "  1%|          | 1/149 [00:00<00:19,  7.76it/s]"
     ]
    },
    {
     "name": "stdout",
     "output_type": "stream",
     "text": [
      "\tLoss:\t27616.289\n"
     ]
    },
    {
     "name": "stderr",
     "output_type": "stream",
     "text": [
      "100%|██████████| 149/149 [00:20<00:00,  7.22it/s]\n"
     ]
    },
    {
     "name": "stdout",
     "output_type": "stream",
     "text": [
      "Best Result:\n",
      "current hit: 7.007652033830045, mrr: 1.9825584030380983\n",
      "\tPrecision@20:\t7.2493\tMRR@20:\t1.9826\tEpoch:\t1,\t2\n",
      "-------------------------------------------------------\n",
      "epoch:  3\n"
     ]
    },
    {
     "name": "stderr",
     "output_type": "stream",
     "text": [
      "100%|██████████| 5738/5738 [42:58<00:00,  2.23it/s]  \n",
      "  1%|          | 1/149 [00:00<00:18,  7.94it/s]"
     ]
    },
    {
     "name": "stdout",
     "output_type": "stream",
     "text": [
      "\tLoss:\t23269.566\n"
     ]
    },
    {
     "name": "stderr",
     "output_type": "stream",
     "text": [
      "100%|██████████| 149/149 [00:20<00:00,  7.18it/s]\n"
     ]
    },
    {
     "name": "stdout",
     "output_type": "stream",
     "text": [
      "Best Result:\n",
      "current hit: 6.121627064035441, mrr: 1.785184231646802\n",
      "\tPrecision@20:\t7.2493\tMRR@20:\t1.9826\tEpoch:\t1,\t2\n",
      "-------------------------------------------------------\n",
      "epoch:  4\n"
     ]
    },
    {
     "name": "stderr",
     "output_type": "stream",
     "text": [
      "100%|██████████| 5738/5738 [42:51<00:00,  2.23it/s]  \n",
      "  1%|          | 1/149 [00:00<00:18,  8.07it/s]"
     ]
    },
    {
     "name": "stdout",
     "output_type": "stream",
     "text": [
      "\tLoss:\t20150.729\n"
     ]
    },
    {
     "name": "stderr",
     "output_type": "stream",
     "text": [
      "100%|██████████| 149/149 [00:20<00:00,  7.22it/s]\n"
     ]
    },
    {
     "name": "stdout",
     "output_type": "stream",
     "text": [
      "Best Result:\n",
      "current hit: 5.396697543294402, mrr: 1.583970452530531\n",
      "\tPrecision@20:\t7.2493\tMRR@20:\t1.9826\tEpoch:\t1,\t2\n",
      "-------------------------------------------------------\n",
      "epoch:  5\n"
     ]
    },
    {
     "name": "stderr",
     "output_type": "stream",
     "text": [
      "100%|██████████| 5738/5738 [42:45<00:00,  2.24it/s]  \n",
      "  1%|          | 1/149 [00:00<00:19,  7.72it/s]"
     ]
    },
    {
     "name": "stdout",
     "output_type": "stream",
     "text": [
      "\tLoss:\t15332.188\n"
     ]
    },
    {
     "name": "stderr",
     "output_type": "stream",
     "text": [
      "100%|██████████| 149/149 [00:20<00:00,  7.21it/s]\n"
     ]
    },
    {
     "name": "stdout",
     "output_type": "stream",
     "text": [
      "Best Result:\n",
      "current hit: 5.0073835414149555, mrr: 1.5633144197038116\n",
      "\tPrecision@20:\t7.2493\tMRR@20:\t1.9826\tEpoch:\t1,\t2\n",
      "-------------------------------------------------------\n",
      "epoch:  6\n"
     ]
    },
    {
     "name": "stderr",
     "output_type": "stream",
     "text": [
      "100%|██████████| 5738/5738 [42:51<00:00,  2.23it/s]  \n",
      "  1%|          | 1/149 [00:00<00:18,  7.92it/s]"
     ]
    },
    {
     "name": "stdout",
     "output_type": "stream",
     "text": [
      "\tLoss:\t14792.801\n"
     ]
    },
    {
     "name": "stderr",
     "output_type": "stream",
     "text": [
      "100%|██████████| 149/149 [00:20<00:00,  7.17it/s]\n"
     ]
    },
    {
     "name": "stdout",
     "output_type": "stream",
     "text": [
      "Best Result:\n",
      "current hit: 4.926835816888173, mrr: 1.4878868805149559\n",
      "\tPrecision@20:\t7.2493\tMRR@20:\t1.9826\tEpoch:\t1,\t2\n",
      "-------------------------------------------------------\n",
      "epoch:  7\n"
     ]
    },
    {
     "name": "stderr",
     "output_type": "stream",
     "text": [
      "100%|██████████| 5738/5738 [42:56<00:00,  2.23it/s]  \n",
      "  1%|          | 1/149 [00:00<00:18,  7.90it/s]"
     ]
    },
    {
     "name": "stdout",
     "output_type": "stream",
     "text": [
      "\tLoss:\t14347.574\n"
     ]
    },
    {
     "name": "stderr",
     "output_type": "stream",
     "text": [
      "100%|██████████| 149/149 [00:20<00:00,  7.18it/s]\n"
     ]
    },
    {
     "name": "stdout",
     "output_type": "stream",
     "text": [
      "Best Result:\n",
      "current hit: 4.792589609343536, mrr: 1.473203137776104\n",
      "\tPrecision@20:\t7.2493\tMRR@20:\t1.9826\tEpoch:\t1,\t2\n",
      "-------------------------------------------------------\n",
      "epoch:  8\n"
     ]
    },
    {
     "name": "stderr",
     "output_type": "stream",
     "text": [
      "100%|██████████| 5738/5738 [42:56<00:00,  2.23it/s]  \n",
      "  1%|          | 1/149 [00:00<00:18,  7.82it/s]"
     ]
    },
    {
     "name": "stdout",
     "output_type": "stream",
     "text": [
      "\tLoss:\t13734.138\n"
     ]
    },
    {
     "name": "stderr",
     "output_type": "stream",
     "text": [
      "100%|██████████| 149/149 [00:20<00:00,  7.22it/s]\n"
     ]
    },
    {
     "name": "stdout",
     "output_type": "stream",
     "text": [
      "Best Result:\n",
      "current hit: 4.779164988589072, mrr: 1.4639784630021646\n",
      "\tPrecision@20:\t7.2493\tMRR@20:\t1.9826\tEpoch:\t1,\t2\n",
      "-------------------------------------------------------\n",
      "epoch:  9\n"
     ]
    },
    {
     "name": "stderr",
     "output_type": "stream",
     "text": [
      "100%|██████████| 5738/5738 [42:44<00:00,  2.24it/s]  \n",
      "  1%|          | 1/149 [00:00<00:18,  7.93it/s]"
     ]
    },
    {
     "name": "stdout",
     "output_type": "stream",
     "text": [
      "\tLoss:\t13690.134\n"
     ]
    },
    {
     "name": "stderr",
     "output_type": "stream",
     "text": [
      "100%|██████████| 149/149 [00:20<00:00,  7.22it/s]\n"
     ]
    },
    {
     "name": "stdout",
     "output_type": "stream",
     "text": [
      "Best Result:\n",
      "current hit: 4.725466505571218, mrr: 1.4592910223227338\n",
      "\tPrecision@20:\t7.2493\tMRR@20:\t1.9826\tEpoch:\t1,\t2\n",
      "-------------------------------------------------------\n",
      "epoch:  10\n"
     ]
    },
    {
     "name": "stderr",
     "output_type": "stream",
     "text": [
      "100%|██████████| 5738/5738 [42:49<00:00,  2.23it/s]  \n",
      "  1%|          | 1/149 [00:00<00:18,  7.88it/s]"
     ]
    },
    {
     "name": "stdout",
     "output_type": "stream",
     "text": [
      "\tLoss:\t13646.017\n"
     ]
    },
    {
     "name": "stderr",
     "output_type": "stream",
     "text": [
      "100%|██████████| 149/149 [00:20<00:00,  7.14it/s]\n"
     ]
    },
    {
     "name": "stdout",
     "output_type": "stream",
     "text": [
      "Best Result:\n",
      "current hit: 4.738891126325681, mrr: 1.4562940771780073\n",
      "\tPrecision@20:\t7.2493\tMRR@20:\t1.9826\tEpoch:\t1,\t2\n",
      "-------------------------------------------------------\n",
      "epoch:  11\n"
     ]
    },
    {
     "name": "stderr",
     "output_type": "stream",
     "text": [
      "100%|██████████| 5738/5738 [43:38<00:00,  2.19it/s]  \n",
      "  1%|          | 1/149 [00:00<00:18,  7.91it/s]"
     ]
    },
    {
     "name": "stdout",
     "output_type": "stream",
     "text": [
      "\tLoss:\t13584.191\n"
     ]
    },
    {
     "name": "stderr",
     "output_type": "stream",
     "text": [
      "100%|██████████| 149/149 [00:20<00:00,  7.16it/s]\n"
     ]
    },
    {
     "name": "stdout",
     "output_type": "stream",
     "text": [
      "Best Result:\n",
      "current hit: 4.725466505571218, mrr: 1.455343867492609\n",
      "\tPrecision@20:\t7.2493\tMRR@20:\t1.9826\tEpoch:\t1,\t2\n",
      "-------------------------------------------------------\n",
      "epoch:  12\n"
     ]
    },
    {
     "name": "stderr",
     "output_type": "stream",
     "text": [
      "100%|██████████| 5738/5738 [43:21<00:00,  2.21it/s]  \n",
      "  1%|          | 1/149 [00:00<00:18,  8.11it/s]"
     ]
    },
    {
     "name": "stdout",
     "output_type": "stream",
     "text": [
      "\tLoss:\t13580.999\n"
     ]
    },
    {
     "name": "stderr",
     "output_type": "stream",
     "text": [
      "100%|██████████| 149/149 [00:20<00:00,  7.27it/s]"
     ]
    },
    {
     "name": "stdout",
     "output_type": "stream",
     "text": [
      "Best Result:\n",
      "current hit: 4.725466505571218, mrr: 1.4557652029924786\n",
      "\tPrecision@20:\t7.2493\tMRR@20:\t1.9826\tEpoch:\t1,\t2\n",
      "-------------------------------------------------------\n"
     ]
    },
    {
     "name": "stderr",
     "output_type": "stream",
     "text": [
      "\n"
     ]
    },
    {
     "data": {
      "application/vnd.jupyter.widget-view+json": {
       "model_id": "f596d4f30a214deb81344e2de09b2cb5",
       "version_major": 2,
       "version_minor": 0
      },
      "text/plain": [
       "  0%|          | 0/29821 [00:00<?, ?it/s]"
      ]
     },
     "metadata": {},
     "output_type": "display_data"
    },
    {
     "name": "stdout",
     "output_type": "stream",
     "text": [
      "        session_id  item_id   eventdate\n",
      "0          2269010        1  1511740800\n",
      "1          2269010        2  1511740800\n",
      "2          2269010        3  1511740800\n",
      "3          2269010        4  1511740800\n",
      "4          2269010        5  1511740800\n",
      "...            ...      ...         ...\n",
      "435961      893214    42142  1473033600\n",
      "435962      893214    18460  1473033600\n",
      "435963      893214    62330  1473033600\n",
      "435964      893214    47159  1473033600\n",
      "435965      893214    65203  1473033600\n",
      "\n",
      "[435966 rows x 3 columns]\n"
     ]
    },
    {
     "data": {
      "application/vnd.jupyter.widget-view+json": {
       "model_id": "d985046e485446a29e3a85f4d1001e4d",
       "version_major": 2,
       "version_minor": 0
      },
      "text/plain": [
       "  0%|          | 0/12 [00:00<?, ?it/s]"
      ]
     },
     "metadata": {},
     "output_type": "display_data"
    },
    {
     "data": {
      "application/vnd.jupyter.widget-view+json": {
       "model_id": "7752e810554f46c9bebf1512a1aaa9dc",
       "version_major": 2,
       "version_minor": 0
      },
      "text/plain": [
       "  0%|          | 0/7449 [00:00<?, ?it/s]"
      ]
     },
     "metadata": {},
     "output_type": "display_data"
    },
    {
     "name": "stdout",
     "output_type": "stream",
     "text": [
      "knn: p_20, mrr_20 9.021345146999597 2.6642071167849557\n"
     ]
    },
    {
     "data": {
      "application/vnd.jupyter.widget-view+json": {
       "model_id": "1107aceb05614ff5ab57d5cc6f0b4c45",
       "version_major": 2,
       "version_minor": 0
      },
      "text/plain": [
       "  0%|          | 0/7449 [00:00<?, ?it/s]"
      ]
     },
     "metadata": {},
     "output_type": "display_data"
    },
    {
     "data": {
      "application/vnd.jupyter.widget-view+json": {
       "model_id": "d9f202ae55f94778a01acd61ed02765e",
       "version_major": 2,
       "version_minor": 0
      },
      "text/plain": [
       "  0%|          | 0/149 [00:00<?, ?it/s]"
      ]
     },
     "metadata": {},
     "output_type": "display_data"
    },
    {
     "name": "stdout",
     "output_type": "stream",
     "text": [
      "epoch result:  9.518056114914755 2.195826880839767\n",
      "epoch result:  9.347682920995627 2.265129879616548\n"
     ]
    }
   ],
   "source": [
    "final_hit, final_mrr = [], []\n",
    "\n",
    "for fold_ in range(fold):\n",
    "    print('fold: ', fold_+1, '/', fold)\n",
    "    test_data_preproc = k_split_data_list[fold_]\n",
    "    train_data_preproc = k_split_data_list.copy()\n",
    "    del train_data_preproc[fold_]\n",
    "    train_data_ = _ = train_data = test_data = df = knn = mrr_20 = p_20 = scr = scr_convd = slices = None\n",
    "    \n",
    "    train_data_preproc, test_data_preproc, train_data_, _ = DataFormatterEdit.make_tr_ts_data_set(train_data_preproc, \n",
    "                                                                                                  test_data_preproc, \n",
    "                                                                                                  sess_clicks)\n",
    "    \n",
    "    train_data = Data(train_data_preproc, shuffle=True)\n",
    "    test_data = Data(test_data_preproc, shuffle=False)\n",
    "    #test_data.inputs.shape\n",
    "    #train_data_preproc = [[subset],[ans_items]]\n",
    "    #train_data_ = [[session_id],[session_date],[item_seq]]\n",
    "    #train_data = obj\n",
    "    n_node = n_item+1\n",
    "\n",
    "    model = trans_to_cuda(SessionGraph(n_node))\n",
    "\n",
    "    best_result = [0, 0]\n",
    "    best_epoch = [0, 0]\n",
    "    bad_counter = 0\n",
    "    for epoch in range(20):\n",
    "        print('-------------------------------------------------------')\n",
    "        print('epoch: ', epoch)\n",
    "        hit, mrr = train_test(model, train_data, test_data)\n",
    "        flag = 0\n",
    "        if hit >= best_result[0]:\n",
    "            best_result[0] = hit\n",
    "            best_epoch[0] = epoch\n",
    "            flag = 1\n",
    "        if mrr >= best_result[1]:\n",
    "            best_result[1] = mrr\n",
    "            best_epoch[1] = epoch\n",
    "            flag = 1\n",
    "        print('Best Result:')\n",
    "        print(f'current hit: {hit}, mrr: {mrr}')\n",
    "        print('\\tPrecision@20:\\t%.4f\\tMRR@20:\\t%.4f\\tEpoch:\\t%d,\\t%d'% (best_result[0], best_result[1], best_epoch[0], best_epoch[1]))\n",
    "        bad_counter += 1 - flag\n",
    "        if bad_counter >= 10:\n",
    "            break\n",
    "    print('-------------------------------------------------------')\n",
    "\n",
    "    df = make_pd_data_frame(train_data_)\n",
    "    print(df)\n",
    "\n",
    "    knn = cknnEdit.ContextKNN(data = df, session_key='session_id', item_key='item_id', time_key='eventdate')\n",
    "\n",
    "    mrr_20, p_20, scr = knn.multi_predict_ts_data(test_data, 12)\n",
    "    print('knn: p_20, mrr_20', p_20, mrr_20)\n",
    "\n",
    "    scr_convd = scr_conv(scr)\n",
    "    scr_convd.reshape((-1, n_item))\n",
    "    scr_convd = np.reshape(scr_convd, (scr_convd.shape[0], scr_convd.shape[1],))\n",
    "\n",
    "    model.eval()\n",
    "    hit, mrr = [], []\n",
    "    slices = test_data.generate_batch(model.batch_size)\n",
    "\n",
    "    for i in tqdm(slices):\n",
    "        targets, scores = forward(model, i, test_data)\n",
    "        scores = trans_to_cpu(scores).detach().numpy()\n",
    "        scores = np.add(scr_convd[i,:], scores)\n",
    "        scores = torch.Tensor(scores)\n",
    "        sub_scores = scores.topk(20)[1]\n",
    "        sub_scores = trans_to_cpu(sub_scores).detach().numpy()\n",
    "        for score, target, mask in zip(sub_scores, targets, test_data.mask):\n",
    "            hit.append(np.isin(target - 1, score))\n",
    "            if len(np.where(score == target - 1)[0]) == 0:\n",
    "                mrr.append(0)\n",
    "            else:\n",
    "                mrr.append(1 / (np.where(score == target - 1)[0][0] + 1))\n",
    "    final_hit.append(np.mean(hit)*100)\n",
    "    final_mrr.append(np.mean(mrr)*100)\n",
    "    print('epoch result: ',np.mean(hit)*100, np.mean(mrr)*100)\n",
    "print('final result: ',np.mean(final_hit), np.mean(final_mrr))"
   ]
  },
  {
   "cell_type": "code",
   "execution_count": 12,
   "id": "inclusive-synthetic",
   "metadata": {},
   "outputs": [
    {
     "data": {
      "text/plain": [
       "([9.52061232711159,\n",
       "  9.664429530201343,\n",
       "  9.012760241773002,\n",
       "  9.022556390977442,\n",
       "  9.518056114914755],\n",
       " [2.303353910411171,\n",
       "  2.38367518147787,\n",
       "  2.0942893432492076,\n",
       "  2.348504082104724,\n",
       "  2.195826880839767])"
      ]
     },
     "execution_count": 12,
     "metadata": {},
     "output_type": "execute_result"
    }
   ],
   "source": [
    "final_hit, final_mrr"
   ]
  }
 ],
 "metadata": {
  "kernelspec": {
   "display_name": "Python 3 (ipykernel)",
   "language": "python",
   "name": "python3"
  },
  "language_info": {
   "codemirror_mode": {
    "name": "ipython",
    "version": 3
   },
   "file_extension": ".py",
   "mimetype": "text/x-python",
   "name": "python",
   "nbconvert_exporter": "python",
   "pygments_lexer": "ipython3",
   "version": "3.8.10"
  }
 },
 "nbformat": 4,
 "nbformat_minor": 5
}
