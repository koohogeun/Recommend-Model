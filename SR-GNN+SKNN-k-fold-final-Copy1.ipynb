{
 "cells": [
  {
   "cell_type": "code",
   "execution_count": 1,
   "id": "a05847d6",
   "metadata": {},
   "outputs": [],
   "source": [
    "from IPython.core.interactiveshell import InteractiveShell\n",
    "InteractiveShell.ast_node_interactivity = \"all\""
   ]
  },
  {
   "cell_type": "code",
   "execution_count": 1,
   "id": "going-device",
   "metadata": {},
   "outputs": [],
   "source": [
    "import pickle\n",
    "import time\n",
    "import cknn\n",
    "import torch\n",
    "import gc\n",
    "\n",
    "import numpy as np\n",
    "import pandas as pd\n",
    "import DataFormatterEditAddSession as DataFormatterA\n",
    "import DataFormatterEdit as DataFormatter\n",
    "\n",
    "from model import *\n",
    "from tqdm.notebook import tqdm\n",
    "from utils import build_graph, split_validation, Data"
   ]
  },
  {
   "cell_type": "code",
   "execution_count": 2,
   "id": "bc1cc141",
   "metadata": {},
   "outputs": [],
   "source": [
    "#import importlib\n",
    "#importlib.reload()\n",
    "#from IPython.display import display"
   ]
  },
  {
   "cell_type": "code",
   "execution_count": 3,
   "id": "harmful-plain",
   "metadata": {},
   "outputs": [],
   "source": [
    "def num_data(data, str_):\n",
    "    values = data.loc[:,[str_]].values\n",
    "    values = values.reshape(-1,)\n",
    "    new = np.unique(values)\n",
    "    return new.shape[0]"
   ]
  },
  {
   "cell_type": "code",
   "execution_count": 4,
   "id": "authentic-allen",
   "metadata": {},
   "outputs": [],
   "source": [
    "fold = 5\n",
    "#_path = 'amz_data_prep_2018_book.csv'\n",
    "_path = 'amz_data_prep_2018_book_40k.csv'"
   ]
  },
  {
   "cell_type": "code",
   "execution_count": 5,
   "id": "indonesian-soundtrack",
   "metadata": {},
   "outputs": [],
   "source": [
    "def make_pd_data_frame(train_data, session_key='session_id', item_key='item_id', time_key='eventdate'):\n",
    "    df = pd.DataFrame({session_key:[], item_key:[], time_key:[]})\n",
    "    ses_ids = []\n",
    "    ses_dates = []\n",
    "    ses_seqs = []\n",
    "    for ses_id, ses_date, ses_seq in tqdm(zip(train_data[0], train_data[1], train_data[2]), total=len(train_data[0])):\n",
    "        for ses_ in ses_seq:\n",
    "            ses_date_ = int(ses_date.astype(np.float))\n",
    "            ses_ids.append(int(ses_id))\n",
    "            ses_dates.append(ses_date_)\n",
    "            ses_seqs.append(ses_)\n",
    "    ses_ids = np.asarray(ses_ids)\n",
    "    ses_dates = np.asarray(ses_dates)\n",
    "    ses_seqs = np.asarray(ses_seqs)\n",
    "    d = np.concatenate((ses_ids,ses_seqs,ses_dates))\n",
    "    d = np.reshape(d,(3,-1))\n",
    "    d = d.T\n",
    "    column_names = [session_key, item_key, time_key]\n",
    "    df = pd.DataFrame(d, columns=column_names)\n",
    "    return df"
   ]
  },
  {
   "cell_type": "code",
   "execution_count": 6,
   "id": "absolute-pleasure",
   "metadata": {
    "scrolled": true
   },
   "outputs": [
    {
     "name": "stderr",
     "output_type": "stream",
     "text": [
      "100%|██████████| 4536/4536 [00:00<00:00, 10243.61it/s]\n",
      "100%|██████████| 560/560 [00:00<00:00, 10248.85it/s]\n",
      "/home/workplace/SR-GNN/final/model.py:18: UserWarning: Legacy tensor constructor is deprecated. Use: torch.tensor(...) for creating tensors from tensor-like objects; or torch.empty(...) for creating an uninitialized tensor with specific sizes. (Triggered internally at  /pytorch/torch/csrc/utils/tensor_new.cpp:478.)\n",
      "  self.w_ih = Parameter(torch.Tensor(self.gate_size, self.input_size))\n",
      "/usr/local/lib/python3.6/dist-packages/torch/optim/lr_scheduler.py:134: UserWarning: Detected call of `lr_scheduler.step()` before `optimizer.step()`. In PyTorch 1.1.0 and later, you should call them in the opposite order: `optimizer.step()` before `lr_scheduler.step()`.  Failure to do this will result in PyTorch skipping the first value of the learning rate schedule. See more details at https://pytorch.org/docs/stable/optim.html#how-to-adjust-learning-rate\n",
      "  \"https://pytorch.org/docs/stable/optim.html#how-to-adjust-learning-rate\", UserWarning)\n",
      "100%|██████████| 91/91 [00:03<00:00, 24.75it/s]\n",
      "100%|██████████| 12/12 [00:00<00:00, 67.44it/s]\n",
      "  0%|          | 0/91 [00:00<?, ?it/s]"
     ]
    },
    {
     "name": "stdout",
     "output_type": "stream",
     "text": [
      "\tLoss:\t700.828\n"
     ]
    },
    {
     "name": "stderr",
     "output_type": "stream",
     "text": [
      "100%|██████████| 91/91 [00:03<00:00, 26.23it/s]\n",
      "100%|██████████| 12/12 [00:00<00:00, 67.45it/s]\n",
      "  0%|          | 0/91 [00:00<?, ?it/s]"
     ]
    },
    {
     "name": "stdout",
     "output_type": "stream",
     "text": [
      "\tLoss:\t471.705\n"
     ]
    },
    {
     "name": "stderr",
     "output_type": "stream",
     "text": [
      "100%|██████████| 91/91 [00:03<00:00, 26.23it/s]\n",
      "100%|██████████| 12/12 [00:00<00:00, 67.12it/s]\n",
      "  0%|          | 0/91 [00:00<?, ?it/s]"
     ]
    },
    {
     "name": "stdout",
     "output_type": "stream",
     "text": [
      "\tLoss:\t423.351\n"
     ]
    },
    {
     "name": "stderr",
     "output_type": "stream",
     "text": [
      "100%|██████████| 91/91 [00:03<00:00, 26.06it/s]\n",
      "100%|██████████| 12/12 [00:00<00:00, 63.78it/s]\n",
      "  0%|          | 0/91 [00:00<?, ?it/s]"
     ]
    },
    {
     "name": "stdout",
     "output_type": "stream",
     "text": [
      "\tLoss:\t416.893\n"
     ]
    },
    {
     "name": "stderr",
     "output_type": "stream",
     "text": [
      "100%|██████████| 91/91 [00:03<00:00, 25.57it/s]\n",
      "100%|██████████| 12/12 [00:00<00:00, 69.25it/s]\n",
      "  0%|          | 0/91 [00:00<?, ?it/s]"
     ]
    },
    {
     "name": "stdout",
     "output_type": "stream",
     "text": [
      "\tLoss:\t412.132\n"
     ]
    },
    {
     "name": "stderr",
     "output_type": "stream",
     "text": [
      "100%|██████████| 91/91 [00:03<00:00, 25.56it/s]\n",
      "100%|██████████| 12/12 [00:00<00:00, 66.08it/s]\n",
      "  0%|          | 0/91 [00:00<?, ?it/s]"
     ]
    },
    {
     "name": "stdout",
     "output_type": "stream",
     "text": [
      "\tLoss:\t406.823\n"
     ]
    },
    {
     "name": "stderr",
     "output_type": "stream",
     "text": [
      "100%|██████████| 91/91 [00:03<00:00, 26.95it/s]\n",
      "100%|██████████| 12/12 [00:00<00:00, 63.88it/s]\n",
      "  0%|          | 0/91 [00:00<?, ?it/s]"
     ]
    },
    {
     "name": "stdout",
     "output_type": "stream",
     "text": [
      "\tLoss:\t406.678\n"
     ]
    },
    {
     "name": "stderr",
     "output_type": "stream",
     "text": [
      "100%|██████████| 91/91 [00:03<00:00, 26.52it/s]\n",
      "100%|██████████| 12/12 [00:00<00:00, 67.31it/s]\n",
      "  0%|          | 0/91 [00:00<?, ?it/s]"
     ]
    },
    {
     "name": "stdout",
     "output_type": "stream",
     "text": [
      "\tLoss:\t405.932\n"
     ]
    },
    {
     "name": "stderr",
     "output_type": "stream",
     "text": [
      "100%|██████████| 91/91 [00:03<00:00, 26.09it/s]\n",
      "100%|██████████| 12/12 [00:00<00:00, 68.99it/s]\n",
      "  0%|          | 0/91 [00:00<?, ?it/s]"
     ]
    },
    {
     "name": "stdout",
     "output_type": "stream",
     "text": [
      "\tLoss:\t405.589\n"
     ]
    },
    {
     "name": "stderr",
     "output_type": "stream",
     "text": [
      "100%|██████████| 91/91 [00:03<00:00, 26.60it/s]\n",
      "100%|██████████| 12/12 [00:00<00:00, 69.51it/s]\n",
      "  0%|          | 0/91 [00:00<?, ?it/s]"
     ]
    },
    {
     "name": "stdout",
     "output_type": "stream",
     "text": [
      "\tLoss:\t405.270\n"
     ]
    },
    {
     "name": "stderr",
     "output_type": "stream",
     "text": [
      "100%|██████████| 91/91 [00:03<00:00, 26.96it/s]\n",
      "100%|██████████| 12/12 [00:00<00:00, 70.17it/s]\n",
      "  0%|          | 0/91 [00:00<?, ?it/s]"
     ]
    },
    {
     "name": "stdout",
     "output_type": "stream",
     "text": [
      "\tLoss:\t405.353\n"
     ]
    },
    {
     "name": "stderr",
     "output_type": "stream",
     "text": [
      "100%|██████████| 91/91 [00:03<00:00, 27.07it/s]\n",
      "100%|██████████| 12/12 [00:00<00:00, 69.35it/s]\n",
      "  0%|          | 0/91 [00:00<?, ?it/s]"
     ]
    },
    {
     "name": "stdout",
     "output_type": "stream",
     "text": [
      "\tLoss:\t405.381\n"
     ]
    },
    {
     "name": "stderr",
     "output_type": "stream",
     "text": [
      "100%|██████████| 91/91 [00:03<00:00, 27.17it/s]\n",
      "100%|██████████| 12/12 [00:00<00:00, 68.64it/s]"
     ]
    },
    {
     "name": "stdout",
     "output_type": "stream",
     "text": [
      "\tLoss:\t405.372\n",
      "-------------------------------------------------------\n"
     ]
    },
    {
     "name": "stderr",
     "output_type": "stream",
     "text": [
      "\n"
     ]
    },
    {
     "data": {
      "application/vnd.jupyter.widget-view+json": {
       "model_id": "2dd458c15f5d4cedb6d905c65399e852",
       "version_major": 2,
       "version_minor": 0
      },
      "text/plain": [
       "  0%|          | 0/2260 [00:00<?, ?it/s]"
      ]
     },
     "metadata": {},
     "output_type": "display_data"
    },
    {
     "data": {
      "application/vnd.jupyter.widget-view+json": {
       "model_id": "73b743d2153440619e1cb9b4ebf9403d",
       "version_major": 2,
       "version_minor": 0
      },
      "text/plain": [
       "  0%|          | 0/12 [00:00<?, ?it/s]"
      ]
     },
     "metadata": {},
     "output_type": "display_data"
    },
    {
     "data": {
      "application/vnd.jupyter.widget-view+json": {
       "model_id": "a5226e45c1c447cabc29fc147152f074",
       "version_major": 2,
       "version_minor": 0
      },
      "text/plain": [
       "  0%|          | 0/560 [00:00<?, ?it/s]"
      ]
     },
     "metadata": {},
     "output_type": "display_data"
    },
    {
     "data": {
      "application/vnd.jupyter.widget-view+json": {
       "model_id": "aaf4c5c0918248759021e26d45d5fa54",
       "version_major": 2,
       "version_minor": 0
      },
      "text/plain": [
       "  0%|          | 0/12 [00:00<?, ?it/s]"
      ]
     },
     "metadata": {},
     "output_type": "display_data"
    },
    {
     "name": "stderr",
     "output_type": "stream",
     "text": [
      "100%|██████████| 4565/4565 [00:00<00:00, 10320.17it/s]\n",
      "100%|██████████| 564/564 [00:00<00:00, 31815.20it/s]\n",
      "100%|██████████| 92/92 [00:03<00:00, 26.01it/s]\n",
      "100%|██████████| 12/12 [00:00<00:00, 63.33it/s]\n"
     ]
    },
    {
     "name": "stdout",
     "output_type": "stream",
     "text": [
      "\tLoss:\t708.574\n"
     ]
    },
    {
     "name": "stderr",
     "output_type": "stream",
     "text": [
      "100%|██████████| 92/92 [00:03<00:00, 26.16it/s]\n",
      "100%|██████████| 12/12 [00:00<00:00, 67.02it/s]\n",
      "  0%|          | 0/92 [00:00<?, ?it/s]"
     ]
    },
    {
     "name": "stdout",
     "output_type": "stream",
     "text": [
      "\tLoss:\t480.111\n"
     ]
    },
    {
     "name": "stderr",
     "output_type": "stream",
     "text": [
      "100%|██████████| 92/92 [00:03<00:00, 26.53it/s]\n",
      " 58%|█████▊    | 7/12 [00:00<00:00, 62.16it/s]"
     ]
    },
    {
     "name": "stdout",
     "output_type": "stream",
     "text": [
      "\tLoss:\t435.597\n"
     ]
    },
    {
     "name": "stderr",
     "output_type": "stream",
     "text": [
      "100%|██████████| 12/12 [00:00<00:00, 59.05it/s]\n",
      "100%|██████████| 92/92 [00:03<00:00, 25.90it/s]\n",
      "100%|██████████| 12/12 [00:00<00:00, 66.55it/s]\n",
      "  0%|          | 0/92 [00:00<?, ?it/s]"
     ]
    },
    {
     "name": "stdout",
     "output_type": "stream",
     "text": [
      "\tLoss:\t429.174\n"
     ]
    },
    {
     "name": "stderr",
     "output_type": "stream",
     "text": [
      "100%|██████████| 92/92 [00:03<00:00, 26.65it/s]\n",
      "100%|██████████| 12/12 [00:00<00:00, 62.78it/s]\n"
     ]
    },
    {
     "name": "stdout",
     "output_type": "stream",
     "text": [
      "\tLoss:\t423.871\n"
     ]
    },
    {
     "name": "stderr",
     "output_type": "stream",
     "text": [
      "100%|██████████| 92/92 [00:03<00:00, 26.94it/s]\n",
      "100%|██████████| 12/12 [00:00<00:00, 65.52it/s]\n",
      "  0%|          | 0/92 [00:00<?, ?it/s]"
     ]
    },
    {
     "name": "stdout",
     "output_type": "stream",
     "text": [
      "\tLoss:\t419.774\n"
     ]
    },
    {
     "name": "stderr",
     "output_type": "stream",
     "text": [
      "100%|██████████| 92/92 [00:03<00:00, 26.73it/s]\n",
      "100%|██████████| 12/12 [00:00<00:00, 67.58it/s]\n",
      "  0%|          | 0/92 [00:00<?, ?it/s]"
     ]
    },
    {
     "name": "stdout",
     "output_type": "stream",
     "text": [
      "\tLoss:\t418.317\n"
     ]
    },
    {
     "name": "stderr",
     "output_type": "stream",
     "text": [
      "100%|██████████| 92/92 [00:03<00:00, 26.77it/s]\n",
      "100%|██████████| 12/12 [00:00<00:00, 67.30it/s]\n",
      "  0%|          | 0/92 [00:00<?, ?it/s]"
     ]
    },
    {
     "name": "stdout",
     "output_type": "stream",
     "text": [
      "\tLoss:\t418.274\n"
     ]
    },
    {
     "name": "stderr",
     "output_type": "stream",
     "text": [
      "100%|██████████| 92/92 [00:03<00:00, 26.43it/s]\n",
      "100%|██████████| 12/12 [00:00<00:00, 66.53it/s]\n",
      "  0%|          | 0/92 [00:00<?, ?it/s]"
     ]
    },
    {
     "name": "stdout",
     "output_type": "stream",
     "text": [
      "\tLoss:\t417.026\n"
     ]
    },
    {
     "name": "stderr",
     "output_type": "stream",
     "text": [
      "100%|██████████| 92/92 [00:03<00:00, 26.93it/s]\n",
      "100%|██████████| 12/12 [00:00<00:00, 67.74it/s]\n",
      "  0%|          | 0/92 [00:00<?, ?it/s]"
     ]
    },
    {
     "name": "stdout",
     "output_type": "stream",
     "text": [
      "\tLoss:\t417.912\n"
     ]
    },
    {
     "name": "stderr",
     "output_type": "stream",
     "text": [
      "100%|██████████| 92/92 [00:03<00:00, 26.30it/s]\n",
      "100%|██████████| 12/12 [00:00<00:00, 61.03it/s]\n"
     ]
    },
    {
     "name": "stdout",
     "output_type": "stream",
     "text": [
      "\tLoss:\t418.112\n"
     ]
    },
    {
     "name": "stderr",
     "output_type": "stream",
     "text": [
      "100%|██████████| 92/92 [00:03<00:00, 26.13it/s]\n",
      "100%|██████████| 12/12 [00:00<00:00, 65.75it/s]\n",
      "  0%|          | 0/92 [00:00<?, ?it/s]"
     ]
    },
    {
     "name": "stdout",
     "output_type": "stream",
     "text": [
      "\tLoss:\t417.282\n"
     ]
    },
    {
     "name": "stderr",
     "output_type": "stream",
     "text": [
      "100%|██████████| 92/92 [00:03<00:00, 26.36it/s]\n",
      "100%|██████████| 12/12 [00:00<00:00, 65.84it/s]\n",
      "  0%|          | 0/92 [00:00<?, ?it/s]"
     ]
    },
    {
     "name": "stdout",
     "output_type": "stream",
     "text": [
      "\tLoss:\t417.177\n"
     ]
    },
    {
     "name": "stderr",
     "output_type": "stream",
     "text": [
      "100%|██████████| 92/92 [00:03<00:00, 26.46it/s]\n",
      "100%|██████████| 12/12 [00:00<00:00, 64.85it/s]\n",
      "  0%|          | 0/92 [00:00<?, ?it/s]"
     ]
    },
    {
     "name": "stdout",
     "output_type": "stream",
     "text": [
      "\tLoss:\t417.535\n"
     ]
    },
    {
     "name": "stderr",
     "output_type": "stream",
     "text": [
      "100%|██████████| 92/92 [00:03<00:00, 25.62it/s]\n",
      "100%|██████████| 12/12 [00:00<00:00, 65.06it/s]"
     ]
    },
    {
     "name": "stdout",
     "output_type": "stream",
     "text": [
      "\tLoss:\t417.301\n",
      "-------------------------------------------------------\n"
     ]
    },
    {
     "name": "stderr",
     "output_type": "stream",
     "text": [
      "\n"
     ]
    },
    {
     "data": {
      "application/vnd.jupyter.widget-view+json": {
       "model_id": "f1c6368669df46a1bf985e5423d362a2",
       "version_major": 2,
       "version_minor": 0
      },
      "text/plain": [
       "  0%|          | 0/2260 [00:00<?, ?it/s]"
      ]
     },
     "metadata": {},
     "output_type": "display_data"
    },
    {
     "data": {
      "application/vnd.jupyter.widget-view+json": {
       "model_id": "75da19fc6a214d718db1636f506ecd0e",
       "version_major": 2,
       "version_minor": 0
      },
      "text/plain": [
       "  0%|          | 0/12 [00:00<?, ?it/s]"
      ]
     },
     "metadata": {},
     "output_type": "display_data"
    },
    {
     "data": {
      "application/vnd.jupyter.widget-view+json": {
       "model_id": "64f2504aaef54a6484e55a386e02442f",
       "version_major": 2,
       "version_minor": 0
      },
      "text/plain": [
       "  0%|          | 0/564 [00:00<?, ?it/s]"
      ]
     },
     "metadata": {},
     "output_type": "display_data"
    },
    {
     "data": {
      "application/vnd.jupyter.widget-view+json": {
       "model_id": "bb272ddb88264f66a179df45a6db5d46",
       "version_major": 2,
       "version_minor": 0
      },
      "text/plain": [
       "  0%|          | 0/12 [00:00<?, ?it/s]"
      ]
     },
     "metadata": {},
     "output_type": "display_data"
    },
    {
     "name": "stderr",
     "output_type": "stream",
     "text": [
      "100%|██████████| 4621/4621 [00:00<00:00, 13819.74it/s]\n",
      "100%|██████████| 563/563 [00:00<00:00, 33609.83it/s]\n",
      "100%|██████████| 93/93 [00:03<00:00, 25.95it/s]\n",
      "100%|██████████| 12/12 [00:00<00:00, 73.15it/s]\n",
      "  0%|          | 0/93 [00:00<?, ?it/s]"
     ]
    },
    {
     "name": "stdout",
     "output_type": "stream",
     "text": [
      "\tLoss:\t714.918\n"
     ]
    },
    {
     "name": "stderr",
     "output_type": "stream",
     "text": [
      "100%|██████████| 93/93 [00:03<00:00, 26.08it/s]\n",
      "100%|██████████| 12/12 [00:00<00:00, 71.80it/s]\n",
      "  0%|          | 0/93 [00:00<?, ?it/s]"
     ]
    },
    {
     "name": "stdout",
     "output_type": "stream",
     "text": [
      "\tLoss:\t487.374\n"
     ]
    },
    {
     "name": "stderr",
     "output_type": "stream",
     "text": [
      "100%|██████████| 93/93 [00:03<00:00, 25.57it/s]\n",
      "100%|██████████| 12/12 [00:00<00:00, 71.99it/s]\n",
      "  0%|          | 0/93 [00:00<?, ?it/s]"
     ]
    },
    {
     "name": "stdout",
     "output_type": "stream",
     "text": [
      "\tLoss:\t436.865\n"
     ]
    },
    {
     "name": "stderr",
     "output_type": "stream",
     "text": [
      "100%|██████████| 93/93 [00:03<00:00, 26.09it/s]\n",
      "100%|██████████| 12/12 [00:00<00:00, 72.57it/s]\n",
      "  0%|          | 0/93 [00:00<?, ?it/s]"
     ]
    },
    {
     "name": "stdout",
     "output_type": "stream",
     "text": [
      "\tLoss:\t429.061\n"
     ]
    },
    {
     "name": "stderr",
     "output_type": "stream",
     "text": [
      "100%|██████████| 93/93 [00:03<00:00, 26.25it/s]\n",
      "100%|██████████| 12/12 [00:00<00:00, 71.54it/s]\n",
      "  0%|          | 0/93 [00:00<?, ?it/s]"
     ]
    },
    {
     "name": "stdout",
     "output_type": "stream",
     "text": [
      "\tLoss:\t423.245\n"
     ]
    },
    {
     "name": "stderr",
     "output_type": "stream",
     "text": [
      "100%|██████████| 93/93 [00:03<00:00, 26.15it/s]\n",
      "100%|██████████| 12/12 [00:00<00:00, 72.01it/s]\n",
      "  0%|          | 0/93 [00:00<?, ?it/s]"
     ]
    },
    {
     "name": "stdout",
     "output_type": "stream",
     "text": [
      "\tLoss:\t417.465\n"
     ]
    },
    {
     "name": "stderr",
     "output_type": "stream",
     "text": [
      "100%|██████████| 93/93 [00:03<00:00, 25.56it/s]\n",
      "100%|██████████| 12/12 [00:00<00:00, 71.43it/s]\n",
      "  0%|          | 0/93 [00:00<?, ?it/s]"
     ]
    },
    {
     "name": "stdout",
     "output_type": "stream",
     "text": [
      "\tLoss:\t416.988\n"
     ]
    },
    {
     "name": "stderr",
     "output_type": "stream",
     "text": [
      "100%|██████████| 93/93 [00:03<00:00, 25.91it/s]\n",
      "100%|██████████| 12/12 [00:00<00:00, 74.15it/s]\n",
      "  0%|          | 0/93 [00:00<?, ?it/s]"
     ]
    },
    {
     "name": "stdout",
     "output_type": "stream",
     "text": [
      "\tLoss:\t415.487\n"
     ]
    },
    {
     "name": "stderr",
     "output_type": "stream",
     "text": [
      "100%|██████████| 93/93 [00:03<00:00, 25.32it/s]\n",
      "100%|██████████| 12/12 [00:00<00:00, 70.30it/s]\n",
      "  0%|          | 0/93 [00:00<?, ?it/s]"
     ]
    },
    {
     "name": "stdout",
     "output_type": "stream",
     "text": [
      "\tLoss:\t415.086\n"
     ]
    },
    {
     "name": "stderr",
     "output_type": "stream",
     "text": [
      "100%|██████████| 93/93 [00:03<00:00, 26.29it/s]\n",
      "100%|██████████| 12/12 [00:00<00:00, 69.79it/s]\n",
      "  0%|          | 0/93 [00:00<?, ?it/s]"
     ]
    },
    {
     "name": "stdout",
     "output_type": "stream",
     "text": [
      "\tLoss:\t414.977\n"
     ]
    },
    {
     "name": "stderr",
     "output_type": "stream",
     "text": [
      "100%|██████████| 93/93 [00:03<00:00, 26.15it/s]\n",
      "100%|██████████| 12/12 [00:00<00:00, 70.58it/s]\n",
      "  0%|          | 0/93 [00:00<?, ?it/s]"
     ]
    },
    {
     "name": "stdout",
     "output_type": "stream",
     "text": [
      "\tLoss:\t415.320\n"
     ]
    },
    {
     "name": "stderr",
     "output_type": "stream",
     "text": [
      "100%|██████████| 93/93 [00:03<00:00, 26.63it/s]\n",
      "100%|██████████| 12/12 [00:00<00:00, 70.20it/s]\n",
      "  0%|          | 0/93 [00:00<?, ?it/s]"
     ]
    },
    {
     "name": "stdout",
     "output_type": "stream",
     "text": [
      "\tLoss:\t415.130\n"
     ]
    },
    {
     "name": "stderr",
     "output_type": "stream",
     "text": [
      "100%|██████████| 93/93 [00:03<00:00, 25.97it/s]\n",
      "100%|██████████| 12/12 [00:00<00:00, 72.93it/s]"
     ]
    },
    {
     "name": "stdout",
     "output_type": "stream",
     "text": [
      "\tLoss:\t414.971\n",
      "-------------------------------------------------------\n"
     ]
    },
    {
     "name": "stderr",
     "output_type": "stream",
     "text": [
      "\n"
     ]
    },
    {
     "data": {
      "application/vnd.jupyter.widget-view+json": {
       "model_id": "5be60b8abdf048fb80904f1efe0dae5a",
       "version_major": 2,
       "version_minor": 0
      },
      "text/plain": [
       "  0%|          | 0/2260 [00:00<?, ?it/s]"
      ]
     },
     "metadata": {},
     "output_type": "display_data"
    },
    {
     "data": {
      "application/vnd.jupyter.widget-view+json": {
       "model_id": "c0686a5c298f4a30acce62fa2f69eb7c",
       "version_major": 2,
       "version_minor": 0
      },
      "text/plain": [
       "  0%|          | 0/12 [00:00<?, ?it/s]"
      ]
     },
     "metadata": {},
     "output_type": "display_data"
    },
    {
     "data": {
      "application/vnd.jupyter.widget-view+json": {
       "model_id": "4e2a78a7fdc74c3fbf5871d02f09f811",
       "version_major": 2,
       "version_minor": 0
      },
      "text/plain": [
       "  0%|          | 0/563 [00:00<?, ?it/s]"
      ]
     },
     "metadata": {},
     "output_type": "display_data"
    },
    {
     "data": {
      "application/vnd.jupyter.widget-view+json": {
       "model_id": "a0471dcd517749358859313f045cf0ac",
       "version_major": 2,
       "version_minor": 0
      },
      "text/plain": [
       "  0%|          | 0/12 [00:00<?, ?it/s]"
      ]
     },
     "metadata": {},
     "output_type": "display_data"
    },
    {
     "name": "stderr",
     "output_type": "stream",
     "text": [
      "100%|██████████| 4628/4628 [00:00<00:00, 11869.58it/s]\n",
      "100%|██████████| 564/564 [00:00<00:00, 31345.15it/s]\n",
      "100%|██████████| 93/93 [00:03<00:00, 23.93it/s]\n",
      "100%|██████████| 12/12 [00:00<00:00, 67.64it/s]\n",
      "  0%|          | 0/93 [00:00<?, ?it/s]"
     ]
    },
    {
     "name": "stdout",
     "output_type": "stream",
     "text": [
      "\tLoss:\t711.933\n"
     ]
    },
    {
     "name": "stderr",
     "output_type": "stream",
     "text": [
      "100%|██████████| 93/93 [00:03<00:00, 27.07it/s]\n",
      "100%|██████████| 12/12 [00:00<00:00, 72.16it/s]\n",
      "  0%|          | 0/93 [00:00<?, ?it/s]"
     ]
    },
    {
     "name": "stdout",
     "output_type": "stream",
     "text": [
      "\tLoss:\t487.344\n"
     ]
    },
    {
     "name": "stderr",
     "output_type": "stream",
     "text": [
      "100%|██████████| 93/93 [00:03<00:00, 26.48it/s]\n",
      "100%|██████████| 12/12 [00:00<00:00, 72.32it/s]\n",
      "  0%|          | 0/93 [00:00<?, ?it/s]"
     ]
    },
    {
     "name": "stdout",
     "output_type": "stream",
     "text": [
      "\tLoss:\t436.876\n"
     ]
    },
    {
     "name": "stderr",
     "output_type": "stream",
     "text": [
      "100%|██████████| 93/93 [00:03<00:00, 25.56it/s]\n",
      "100%|██████████| 12/12 [00:00<00:00, 71.30it/s]\n",
      "  0%|          | 0/93 [00:00<?, ?it/s]"
     ]
    },
    {
     "name": "stdout",
     "output_type": "stream",
     "text": [
      "\tLoss:\t428.655\n"
     ]
    },
    {
     "name": "stderr",
     "output_type": "stream",
     "text": [
      "100%|██████████| 93/93 [00:03<00:00, 26.60it/s]\n",
      "100%|██████████| 12/12 [00:00<00:00, 74.01it/s]\n",
      "  0%|          | 0/93 [00:00<?, ?it/s]"
     ]
    },
    {
     "name": "stdout",
     "output_type": "stream",
     "text": [
      "\tLoss:\t422.220\n"
     ]
    },
    {
     "name": "stderr",
     "output_type": "stream",
     "text": [
      "100%|██████████| 93/93 [00:03<00:00, 26.85it/s]\n",
      "100%|██████████| 12/12 [00:00<00:00, 72.61it/s]\n",
      "  0%|          | 0/93 [00:00<?, ?it/s]"
     ]
    },
    {
     "name": "stdout",
     "output_type": "stream",
     "text": [
      "\tLoss:\t416.661\n"
     ]
    },
    {
     "name": "stderr",
     "output_type": "stream",
     "text": [
      "100%|██████████| 93/93 [00:03<00:00, 26.98it/s]\n",
      "100%|██████████| 12/12 [00:00<00:00, 74.10it/s]\n",
      "  0%|          | 0/93 [00:00<?, ?it/s]"
     ]
    },
    {
     "name": "stdout",
     "output_type": "stream",
     "text": [
      "\tLoss:\t416.071\n"
     ]
    },
    {
     "name": "stderr",
     "output_type": "stream",
     "text": [
      "100%|██████████| 93/93 [00:03<00:00, 26.20it/s]\n",
      "100%|██████████| 12/12 [00:00<00:00, 68.97it/s]\n",
      "  0%|          | 0/93 [00:00<?, ?it/s]"
     ]
    },
    {
     "name": "stdout",
     "output_type": "stream",
     "text": [
      "\tLoss:\t415.728\n"
     ]
    },
    {
     "name": "stderr",
     "output_type": "stream",
     "text": [
      "100%|██████████| 93/93 [00:03<00:00, 26.35it/s]\n",
      "100%|██████████| 12/12 [00:00<00:00, 67.13it/s]\n",
      "  0%|          | 0/93 [00:00<?, ?it/s]"
     ]
    },
    {
     "name": "stdout",
     "output_type": "stream",
     "text": [
      "\tLoss:\t414.676\n"
     ]
    },
    {
     "name": "stderr",
     "output_type": "stream",
     "text": [
      "100%|██████████| 93/93 [00:03<00:00, 26.18it/s]\n",
      "100%|██████████| 12/12 [00:00<00:00, 73.10it/s]\n",
      "  0%|          | 0/93 [00:00<?, ?it/s]"
     ]
    },
    {
     "name": "stdout",
     "output_type": "stream",
     "text": [
      "\tLoss:\t414.619\n"
     ]
    },
    {
     "name": "stderr",
     "output_type": "stream",
     "text": [
      "100%|██████████| 93/93 [00:03<00:00, 26.06it/s]\n",
      "100%|██████████| 12/12 [00:00<00:00, 73.85it/s]\n",
      "  0%|          | 0/93 [00:00<?, ?it/s]"
     ]
    },
    {
     "name": "stdout",
     "output_type": "stream",
     "text": [
      "\tLoss:\t414.850\n"
     ]
    },
    {
     "name": "stderr",
     "output_type": "stream",
     "text": [
      "100%|██████████| 93/93 [00:03<00:00, 26.45it/s]\n",
      "100%|██████████| 12/12 [00:00<00:00, 69.69it/s]\n",
      "  0%|          | 0/93 [00:00<?, ?it/s]"
     ]
    },
    {
     "name": "stdout",
     "output_type": "stream",
     "text": [
      "\tLoss:\t414.576\n"
     ]
    },
    {
     "name": "stderr",
     "output_type": "stream",
     "text": [
      "100%|██████████| 93/93 [00:03<00:00, 25.99it/s]\n",
      "100%|██████████| 12/12 [00:00<00:00, 73.37it/s]\n",
      "  0%|          | 0/93 [00:00<?, ?it/s]"
     ]
    },
    {
     "name": "stdout",
     "output_type": "stream",
     "text": [
      "\tLoss:\t414.370\n"
     ]
    },
    {
     "name": "stderr",
     "output_type": "stream",
     "text": [
      "100%|██████████| 93/93 [00:03<00:00, 26.21it/s]\n",
      "100%|██████████| 12/12 [00:00<00:00, 66.86it/s]\n",
      "  0%|          | 0/93 [00:00<?, ?it/s]"
     ]
    },
    {
     "name": "stdout",
     "output_type": "stream",
     "text": [
      "\tLoss:\t414.511\n"
     ]
    },
    {
     "name": "stderr",
     "output_type": "stream",
     "text": [
      "100%|██████████| 93/93 [00:03<00:00, 26.09it/s]\n",
      "100%|██████████| 12/12 [00:00<00:00, 69.28it/s]"
     ]
    },
    {
     "name": "stdout",
     "output_type": "stream",
     "text": [
      "\tLoss:\t414.536\n",
      "-------------------------------------------------------\n"
     ]
    },
    {
     "name": "stderr",
     "output_type": "stream",
     "text": [
      "\n"
     ]
    },
    {
     "data": {
      "application/vnd.jupyter.widget-view+json": {
       "model_id": "5ea768667dbf47978a76d49b1cf2d10a",
       "version_major": 2,
       "version_minor": 0
      },
      "text/plain": [
       "  0%|          | 0/2260 [00:00<?, ?it/s]"
      ]
     },
     "metadata": {},
     "output_type": "display_data"
    },
    {
     "data": {
      "application/vnd.jupyter.widget-view+json": {
       "model_id": "282eca8dca7d41ba82abf47412d0ee4d",
       "version_major": 2,
       "version_minor": 0
      },
      "text/plain": [
       "  0%|          | 0/12 [00:00<?, ?it/s]"
      ]
     },
     "metadata": {},
     "output_type": "display_data"
    },
    {
     "data": {
      "application/vnd.jupyter.widget-view+json": {
       "model_id": "c8b8fafdd39c4592add3751a526604a1",
       "version_major": 2,
       "version_minor": 0
      },
      "text/plain": [
       "  0%|          | 0/564 [00:00<?, ?it/s]"
      ]
     },
     "metadata": {},
     "output_type": "display_data"
    },
    {
     "data": {
      "application/vnd.jupyter.widget-view+json": {
       "model_id": "e4ef5758f0b24d6883c479ab6ddaefdb",
       "version_major": 2,
       "version_minor": 0
      },
      "text/plain": [
       "  0%|          | 0/12 [00:00<?, ?it/s]"
      ]
     },
     "metadata": {},
     "output_type": "display_data"
    },
    {
     "name": "stderr",
     "output_type": "stream",
     "text": [
      "100%|██████████| 4586/4586 [00:00<00:00, 12313.15it/s]\n",
      "100%|██████████| 564/564 [00:00<00:00, 10408.30it/s]\n",
      "100%|██████████| 92/92 [00:03<00:00, 24.19it/s]\n",
      " 50%|█████     | 6/12 [00:00<00:00, 50.70it/s]"
     ]
    },
    {
     "name": "stdout",
     "output_type": "stream",
     "text": [
      "\tLoss:\t705.520\n"
     ]
    },
    {
     "name": "stderr",
     "output_type": "stream",
     "text": [
      "100%|██████████| 12/12 [00:00<00:00, 52.54it/s]\n",
      "100%|██████████| 92/92 [00:03<00:00, 24.12it/s]\n",
      " 42%|████▏     | 5/12 [00:00<00:00, 48.46it/s]"
     ]
    },
    {
     "name": "stdout",
     "output_type": "stream",
     "text": [
      "\tLoss:\t487.486\n"
     ]
    },
    {
     "name": "stderr",
     "output_type": "stream",
     "text": [
      "100%|██████████| 12/12 [00:00<00:00, 50.00it/s]\n",
      "100%|██████████| 92/92 [00:03<00:00, 27.16it/s]\n",
      " 50%|█████     | 6/12 [00:00<00:00, 52.87it/s]"
     ]
    },
    {
     "name": "stdout",
     "output_type": "stream",
     "text": [
      "\tLoss:\t436.981\n"
     ]
    },
    {
     "name": "stderr",
     "output_type": "stream",
     "text": [
      "100%|██████████| 12/12 [00:00<00:00, 54.31it/s]\n",
      "100%|██████████| 92/92 [00:03<00:00, 30.40it/s]\n",
      " 50%|█████     | 6/12 [00:00<00:00, 53.45it/s]"
     ]
    },
    {
     "name": "stdout",
     "output_type": "stream",
     "text": [
      "\tLoss:\t428.902\n"
     ]
    },
    {
     "name": "stderr",
     "output_type": "stream",
     "text": [
      "100%|██████████| 12/12 [00:00<00:00, 55.87it/s]\n",
      "100%|██████████| 92/92 [00:03<00:00, 30.09it/s]\n",
      " 42%|████▏     | 5/12 [00:00<00:00, 47.84it/s]"
     ]
    },
    {
     "name": "stdout",
     "output_type": "stream",
     "text": [
      "\tLoss:\t422.429\n"
     ]
    },
    {
     "name": "stderr",
     "output_type": "stream",
     "text": [
      "100%|██████████| 12/12 [00:00<00:00, 53.09it/s]\n",
      "100%|██████████| 92/92 [00:03<00:00, 30.28it/s]\n",
      " 50%|█████     | 6/12 [00:00<00:00, 52.22it/s]"
     ]
    },
    {
     "name": "stdout",
     "output_type": "stream",
     "text": [
      "\tLoss:\t416.416\n"
     ]
    },
    {
     "name": "stderr",
     "output_type": "stream",
     "text": [
      "100%|██████████| 12/12 [00:00<00:00, 54.93it/s]\n",
      "100%|██████████| 92/92 [00:03<00:00, 29.64it/s]\n",
      " 42%|████▏     | 5/12 [00:00<00:00, 46.54it/s]"
     ]
    },
    {
     "name": "stdout",
     "output_type": "stream",
     "text": [
      "\tLoss:\t415.644\n"
     ]
    },
    {
     "name": "stderr",
     "output_type": "stream",
     "text": [
      "100%|██████████| 12/12 [00:00<00:00, 52.44it/s]\n",
      "100%|██████████| 92/92 [00:03<00:00, 30.26it/s]\n",
      " 50%|█████     | 6/12 [00:00<00:00, 50.52it/s]"
     ]
    },
    {
     "name": "stdout",
     "output_type": "stream",
     "text": [
      "\tLoss:\t415.079\n"
     ]
    },
    {
     "name": "stderr",
     "output_type": "stream",
     "text": [
      "100%|██████████| 12/12 [00:00<00:00, 52.92it/s]\n",
      "100%|██████████| 92/92 [00:03<00:00, 30.48it/s]\n",
      " 50%|█████     | 6/12 [00:00<00:00, 53.96it/s]"
     ]
    },
    {
     "name": "stdout",
     "output_type": "stream",
     "text": [
      "\tLoss:\t414.453\n"
     ]
    },
    {
     "name": "stderr",
     "output_type": "stream",
     "text": [
      "100%|██████████| 12/12 [00:00<00:00, 54.31it/s]\n",
      "100%|██████████| 92/92 [00:02<00:00, 30.73it/s]\n",
      " 50%|█████     | 6/12 [00:00<00:00, 54.37it/s]"
     ]
    },
    {
     "name": "stdout",
     "output_type": "stream",
     "text": [
      "\tLoss:\t414.424\n"
     ]
    },
    {
     "name": "stderr",
     "output_type": "stream",
     "text": [
      "100%|██████████| 12/12 [00:00<00:00, 56.49it/s]\n",
      "100%|██████████| 92/92 [00:03<00:00, 30.44it/s]\n",
      " 50%|█████     | 6/12 [00:00<00:00, 53.82it/s]"
     ]
    },
    {
     "name": "stdout",
     "output_type": "stream",
     "text": [
      "\tLoss:\t414.366\n"
     ]
    },
    {
     "name": "stderr",
     "output_type": "stream",
     "text": [
      "100%|██████████| 12/12 [00:00<00:00, 55.04it/s]\n",
      "100%|██████████| 92/92 [00:02<00:00, 30.69it/s]\n",
      " 50%|█████     | 6/12 [00:00<00:00, 53.50it/s]"
     ]
    },
    {
     "name": "stdout",
     "output_type": "stream",
     "text": [
      "\tLoss:\t414.280\n"
     ]
    },
    {
     "name": "stderr",
     "output_type": "stream",
     "text": [
      "100%|██████████| 12/12 [00:00<00:00, 56.89it/s]\n",
      "100%|██████████| 92/92 [00:03<00:00, 30.16it/s]\n",
      " 50%|█████     | 6/12 [00:00<00:00, 53.21it/s]"
     ]
    },
    {
     "name": "stdout",
     "output_type": "stream",
     "text": [
      "\tLoss:\t414.146\n"
     ]
    },
    {
     "name": "stderr",
     "output_type": "stream",
     "text": [
      "100%|██████████| 12/12 [00:00<00:00, 55.05it/s]\n",
      "100%|██████████| 92/92 [00:03<00:00, 25.73it/s]\n",
      " 50%|█████     | 6/12 [00:00<00:00, 53.22it/s]"
     ]
    },
    {
     "name": "stdout",
     "output_type": "stream",
     "text": [
      "\tLoss:\t414.155\n"
     ]
    },
    {
     "name": "stderr",
     "output_type": "stream",
     "text": [
      "100%|██████████| 12/12 [00:00<00:00, 53.81it/s]"
     ]
    },
    {
     "name": "stdout",
     "output_type": "stream",
     "text": [
      "-------------------------------------------------------\n"
     ]
    },
    {
     "name": "stderr",
     "output_type": "stream",
     "text": [
      "\n"
     ]
    },
    {
     "data": {
      "application/vnd.jupyter.widget-view+json": {
       "model_id": "be73ae84b656471d8a4e5b1313c93741",
       "version_major": 2,
       "version_minor": 0
      },
      "text/plain": [
       "  0%|          | 0/2260 [00:00<?, ?it/s]"
      ]
     },
     "metadata": {},
     "output_type": "display_data"
    },
    {
     "data": {
      "application/vnd.jupyter.widget-view+json": {
       "model_id": "3861a1d7372e4b39bf7b830ae02fadd9",
       "version_major": 2,
       "version_minor": 0
      },
      "text/plain": [
       "  0%|          | 0/12 [00:00<?, ?it/s]"
      ]
     },
     "metadata": {},
     "output_type": "display_data"
    },
    {
     "data": {
      "application/vnd.jupyter.widget-view+json": {
       "model_id": "df935615549445a4a314a1909f1b2d58",
       "version_major": 2,
       "version_minor": 0
      },
      "text/plain": [
       "  0%|          | 0/564 [00:00<?, ?it/s]"
      ]
     },
     "metadata": {},
     "output_type": "display_data"
    },
    {
     "data": {
      "application/vnd.jupyter.widget-view+json": {
       "model_id": "486f52fbd0b740b89c24f737e41f7551",
       "version_major": 2,
       "version_minor": 0
      },
      "text/plain": [
       "  0%|          | 0/12 [00:00<?, ?it/s]"
      ]
     },
     "metadata": {},
     "output_type": "display_data"
    },
    {
     "name": "stderr",
     "output_type": "stream",
     "text": [
      " 11%|█▏        | 521/4536 [00:00<00:00, 5207.86it/s]"
     ]
    },
    {
     "name": "stdout",
     "output_type": "stream",
     "text": [
      "\n",
      "SR-GNN Score:  49.338173340459726 39.97791667795731\n",
      "SR-GNN Last Score:  49.48027060489741 39.98477209029336\n",
      "CKNN Score:  40.071607630996915 24.28932932064422\n",
      "Proposed Method Score:  54.88065544799984 40.69128085092071\n"
     ]
    },
    {
     "name": "stderr",
     "output_type": "stream",
     "text": [
      "100%|██████████| 4536/4536 [00:00<00:00, 9824.73it/s] \n",
      "100%|██████████| 560/560 [00:00<00:00, 12999.76it/s]\n",
      "100%|██████████| 91/91 [00:03<00:00, 26.65it/s]\n",
      "100%|██████████| 12/12 [00:00<00:00, 67.66it/s]\n",
      "  0%|          | 0/91 [00:00<?, ?it/s]"
     ]
    },
    {
     "name": "stdout",
     "output_type": "stream",
     "text": [
      "\tLoss:\t704.347\n"
     ]
    },
    {
     "name": "stderr",
     "output_type": "stream",
     "text": [
      "100%|██████████| 91/91 [00:03<00:00, 26.02it/s]\n",
      "100%|██████████| 12/12 [00:00<00:00, 66.09it/s]\n",
      "  0%|          | 0/91 [00:00<?, ?it/s]"
     ]
    },
    {
     "name": "stdout",
     "output_type": "stream",
     "text": [
      "\tLoss:\t473.784\n"
     ]
    },
    {
     "name": "stderr",
     "output_type": "stream",
     "text": [
      "100%|██████████| 91/91 [00:03<00:00, 26.51it/s]\n",
      "100%|██████████| 12/12 [00:00<00:00, 61.80it/s]\n"
     ]
    },
    {
     "name": "stdout",
     "output_type": "stream",
     "text": [
      "\tLoss:\t423.883\n"
     ]
    },
    {
     "name": "stderr",
     "output_type": "stream",
     "text": [
      "100%|██████████| 91/91 [00:03<00:00, 25.70it/s]\n",
      "100%|██████████| 12/12 [00:00<00:00, 63.08it/s]\n"
     ]
    },
    {
     "name": "stdout",
     "output_type": "stream",
     "text": [
      "\tLoss:\t416.342\n"
     ]
    },
    {
     "name": "stderr",
     "output_type": "stream",
     "text": [
      "100%|██████████| 91/91 [00:03<00:00, 25.45it/s]\n",
      "100%|██████████| 12/12 [00:00<00:00, 62.98it/s]\n"
     ]
    },
    {
     "name": "stdout",
     "output_type": "stream",
     "text": [
      "\tLoss:\t410.454\n"
     ]
    },
    {
     "name": "stderr",
     "output_type": "stream",
     "text": [
      "100%|██████████| 91/91 [00:03<00:00, 25.89it/s]\n",
      "100%|██████████| 12/12 [00:00<00:00, 68.28it/s]\n",
      "  0%|          | 0/91 [00:00<?, ?it/s]"
     ]
    },
    {
     "name": "stdout",
     "output_type": "stream",
     "text": [
      "\tLoss:\t404.883\n"
     ]
    },
    {
     "name": "stderr",
     "output_type": "stream",
     "text": [
      "100%|██████████| 91/91 [00:03<00:00, 26.57it/s]\n",
      "100%|██████████| 12/12 [00:00<00:00, 66.10it/s]\n",
      "  0%|          | 0/91 [00:00<?, ?it/s]"
     ]
    },
    {
     "name": "stdout",
     "output_type": "stream",
     "text": [
      "\tLoss:\t404.167\n"
     ]
    },
    {
     "name": "stderr",
     "output_type": "stream",
     "text": [
      "100%|██████████| 91/91 [00:03<00:00, 25.75it/s]\n",
      "100%|██████████| 12/12 [00:00<00:00, 65.35it/s]\n",
      "  0%|          | 0/91 [00:00<?, ?it/s]"
     ]
    },
    {
     "name": "stdout",
     "output_type": "stream",
     "text": [
      "\tLoss:\t403.778\n"
     ]
    },
    {
     "name": "stderr",
     "output_type": "stream",
     "text": [
      "100%|██████████| 91/91 [00:03<00:00, 25.75it/s]\n",
      "100%|██████████| 12/12 [00:00<00:00, 68.17it/s]\n",
      "  0%|          | 0/91 [00:00<?, ?it/s]"
     ]
    },
    {
     "name": "stdout",
     "output_type": "stream",
     "text": [
      "\tLoss:\t403.266\n"
     ]
    },
    {
     "name": "stderr",
     "output_type": "stream",
     "text": [
      "100%|██████████| 91/91 [00:03<00:00, 25.55it/s]\n",
      "100%|██████████| 12/12 [00:00<00:00, 66.40it/s]\n",
      "  0%|          | 0/91 [00:00<?, ?it/s]"
     ]
    },
    {
     "name": "stdout",
     "output_type": "stream",
     "text": [
      "\tLoss:\t403.181\n"
     ]
    },
    {
     "name": "stderr",
     "output_type": "stream",
     "text": [
      "100%|██████████| 91/91 [00:03<00:00, 25.67it/s]\n",
      "100%|██████████| 12/12 [00:00<00:00, 67.94it/s]\n",
      "  0%|          | 0/91 [00:00<?, ?it/s]"
     ]
    },
    {
     "name": "stdout",
     "output_type": "stream",
     "text": [
      "\tLoss:\t403.213\n"
     ]
    },
    {
     "name": "stderr",
     "output_type": "stream",
     "text": [
      "100%|██████████| 91/91 [00:03<00:00, 25.61it/s]\n",
      "100%|██████████| 12/12 [00:00<00:00, 63.90it/s]"
     ]
    },
    {
     "name": "stdout",
     "output_type": "stream",
     "text": [
      "\tLoss:\t403.171\n",
      "-------------------------------------------------------\n"
     ]
    },
    {
     "name": "stderr",
     "output_type": "stream",
     "text": [
      "\n"
     ]
    },
    {
     "data": {
      "application/vnd.jupyter.widget-view+json": {
       "model_id": "98c5f31b2aac46e7989ba735bc782418",
       "version_major": 2,
       "version_minor": 0
      },
      "text/plain": [
       "  0%|          | 0/2260 [00:00<?, ?it/s]"
      ]
     },
     "metadata": {},
     "output_type": "display_data"
    },
    {
     "data": {
      "application/vnd.jupyter.widget-view+json": {
       "model_id": "b526f7ba414f41a980fa1cb6fd3ae4bc",
       "version_major": 2,
       "version_minor": 0
      },
      "text/plain": [
       "  0%|          | 0/12 [00:00<?, ?it/s]"
      ]
     },
     "metadata": {},
     "output_type": "display_data"
    },
    {
     "data": {
      "application/vnd.jupyter.widget-view+json": {
       "model_id": "0fb8e25a18d14aa08d62adaad57dbd4a",
       "version_major": 2,
       "version_minor": 0
      },
      "text/plain": [
       "  0%|          | 0/560 [00:00<?, ?it/s]"
      ]
     },
     "metadata": {},
     "output_type": "display_data"
    },
    {
     "data": {
      "application/vnd.jupyter.widget-view+json": {
       "model_id": "b9d2e0c405fb480bb39da7eeaf2440e4",
       "version_major": 2,
       "version_minor": 0
      },
      "text/plain": [
       "  0%|          | 0/12 [00:00<?, ?it/s]"
      ]
     },
     "metadata": {},
     "output_type": "display_data"
    },
    {
     "name": "stderr",
     "output_type": "stream",
     "text": [
      "100%|██████████| 4565/4565 [00:00<00:00, 8241.39it/s] \n",
      "100%|██████████| 564/564 [00:00<00:00, 29621.31it/s]\n",
      "100%|██████████| 92/92 [00:03<00:00, 26.52it/s]\n",
      "100%|██████████| 12/12 [00:00<00:00, 66.14it/s]\n",
      "  0%|          | 0/92 [00:00<?, ?it/s]"
     ]
    },
    {
     "name": "stdout",
     "output_type": "stream",
     "text": [
      "\tLoss:\t701.729\n"
     ]
    },
    {
     "name": "stderr",
     "output_type": "stream",
     "text": [
      "100%|██████████| 92/92 [00:03<00:00, 25.89it/s]\n",
      "100%|██████████| 12/12 [00:00<00:00, 62.99it/s]\n"
     ]
    },
    {
     "name": "stdout",
     "output_type": "stream",
     "text": [
      "\tLoss:\t484.184\n"
     ]
    },
    {
     "name": "stderr",
     "output_type": "stream",
     "text": [
      "100%|██████████| 92/92 [00:03<00:00, 25.62it/s]\n",
      "100%|██████████| 12/12 [00:00<00:00, 67.33it/s]\n",
      "  0%|          | 0/92 [00:00<?, ?it/s]"
     ]
    },
    {
     "name": "stdout",
     "output_type": "stream",
     "text": [
      "\tLoss:\t434.611\n"
     ]
    },
    {
     "name": "stderr",
     "output_type": "stream",
     "text": [
      "100%|██████████| 92/92 [00:03<00:00, 26.79it/s]\n",
      "100%|██████████| 12/12 [00:00<00:00, 65.22it/s]\n",
      "  0%|          | 0/92 [00:00<?, ?it/s]"
     ]
    },
    {
     "name": "stdout",
     "output_type": "stream",
     "text": [
      "\tLoss:\t427.280\n"
     ]
    },
    {
     "name": "stderr",
     "output_type": "stream",
     "text": [
      "100%|██████████| 92/92 [00:03<00:00, 26.25it/s]\n",
      "100%|██████████| 12/12 [00:00<00:00, 65.41it/s]\n",
      "  0%|          | 0/92 [00:00<?, ?it/s]"
     ]
    },
    {
     "name": "stdout",
     "output_type": "stream",
     "text": [
      "\tLoss:\t420.657\n"
     ]
    },
    {
     "name": "stderr",
     "output_type": "stream",
     "text": [
      "100%|██████████| 92/92 [00:03<00:00, 26.58it/s]\n",
      "100%|██████████| 12/12 [00:00<00:00, 67.40it/s]\n",
      "  0%|          | 0/92 [00:00<?, ?it/s]"
     ]
    },
    {
     "name": "stdout",
     "output_type": "stream",
     "text": [
      "\tLoss:\t415.696\n"
     ]
    },
    {
     "name": "stderr",
     "output_type": "stream",
     "text": [
      "100%|██████████| 92/92 [00:03<00:00, 26.59it/s]\n",
      "100%|██████████| 12/12 [00:00<00:00, 62.20it/s]\n"
     ]
    },
    {
     "name": "stdout",
     "output_type": "stream",
     "text": [
      "\tLoss:\t414.475\n"
     ]
    },
    {
     "name": "stderr",
     "output_type": "stream",
     "text": [
      "100%|██████████| 92/92 [00:03<00:00, 26.30it/s]\n",
      "100%|██████████| 12/12 [00:00<00:00, 66.78it/s]\n",
      "  0%|          | 0/92 [00:00<?, ?it/s]"
     ]
    },
    {
     "name": "stdout",
     "output_type": "stream",
     "text": [
      "\tLoss:\t413.999\n"
     ]
    },
    {
     "name": "stderr",
     "output_type": "stream",
     "text": [
      "100%|██████████| 92/92 [00:03<00:00, 26.39it/s]\n",
      "100%|██████████| 12/12 [00:00<00:00, 64.84it/s]\n",
      "  0%|          | 0/92 [00:00<?, ?it/s]"
     ]
    },
    {
     "name": "stdout",
     "output_type": "stream",
     "text": [
      "\tLoss:\t413.177\n"
     ]
    },
    {
     "name": "stderr",
     "output_type": "stream",
     "text": [
      "100%|██████████| 92/92 [00:03<00:00, 26.25it/s]\n",
      "100%|██████████| 12/12 [00:00<00:00, 65.87it/s]\n",
      "  0%|          | 0/92 [00:00<?, ?it/s]"
     ]
    },
    {
     "name": "stdout",
     "output_type": "stream",
     "text": [
      "\tLoss:\t413.126\n"
     ]
    },
    {
     "name": "stderr",
     "output_type": "stream",
     "text": [
      "100%|██████████| 92/92 [00:03<00:00, 26.55it/s]\n",
      "100%|██████████| 12/12 [00:00<00:00, 67.80it/s]\n",
      "  0%|          | 0/92 [00:00<?, ?it/s]"
     ]
    },
    {
     "name": "stdout",
     "output_type": "stream",
     "text": [
      "\tLoss:\t413.079\n"
     ]
    },
    {
     "name": "stderr",
     "output_type": "stream",
     "text": [
      "100%|██████████| 92/92 [00:03<00:00, 26.70it/s]\n",
      "100%|██████████| 12/12 [00:00<00:00, 66.61it/s]\n",
      "  0%|          | 0/92 [00:00<?, ?it/s]"
     ]
    },
    {
     "name": "stdout",
     "output_type": "stream",
     "text": [
      "\tLoss:\t412.961\n"
     ]
    },
    {
     "name": "stderr",
     "output_type": "stream",
     "text": [
      "100%|██████████| 92/92 [00:03<00:00, 26.79it/s]\n",
      "100%|██████████| 12/12 [00:00<00:00, 65.59it/s]\n",
      "  0%|          | 0/92 [00:00<?, ?it/s]"
     ]
    },
    {
     "name": "stdout",
     "output_type": "stream",
     "text": [
      "\tLoss:\t413.583\n"
     ]
    },
    {
     "name": "stderr",
     "output_type": "stream",
     "text": [
      "100%|██████████| 92/92 [00:03<00:00, 27.07it/s]\n",
      "100%|██████████| 12/12 [00:00<00:00, 67.15it/s]\n",
      "  0%|          | 0/92 [00:00<?, ?it/s]"
     ]
    },
    {
     "name": "stdout",
     "output_type": "stream",
     "text": [
      "\tLoss:\t413.403\n"
     ]
    },
    {
     "name": "stderr",
     "output_type": "stream",
     "text": [
      "100%|██████████| 92/92 [00:03<00:00, 26.92it/s]\n",
      "100%|██████████| 12/12 [00:00<00:00, 65.71it/s]\n"
     ]
    },
    {
     "name": "stdout",
     "output_type": "stream",
     "text": [
      "\tLoss:\t414.035\n",
      "-------------------------------------------------------\n"
     ]
    },
    {
     "data": {
      "application/vnd.jupyter.widget-view+json": {
       "model_id": "7ec6987e04d54b719ac0d506244070f9",
       "version_major": 2,
       "version_minor": 0
      },
      "text/plain": [
       "  0%|          | 0/2260 [00:00<?, ?it/s]"
      ]
     },
     "metadata": {},
     "output_type": "display_data"
    },
    {
     "data": {
      "application/vnd.jupyter.widget-view+json": {
       "model_id": "91c73b440e674bbdb0029ed9391a7917",
       "version_major": 2,
       "version_minor": 0
      },
      "text/plain": [
       "  0%|          | 0/12 [00:00<?, ?it/s]"
      ]
     },
     "metadata": {},
     "output_type": "display_data"
    },
    {
     "data": {
      "application/vnd.jupyter.widget-view+json": {
       "model_id": "a7f01f1e6ffe407cb77e20886ee3346d",
       "version_major": 2,
       "version_minor": 0
      },
      "text/plain": [
       "  0%|          | 0/564 [00:00<?, ?it/s]"
      ]
     },
     "metadata": {},
     "output_type": "display_data"
    },
    {
     "data": {
      "application/vnd.jupyter.widget-view+json": {
       "model_id": "7757db5bb57944e5816a25c76aeaa0fb",
       "version_major": 2,
       "version_minor": 0
      },
      "text/plain": [
       "  0%|          | 0/12 [00:00<?, ?it/s]"
      ]
     },
     "metadata": {},
     "output_type": "display_data"
    },
    {
     "name": "stderr",
     "output_type": "stream",
     "text": [
      "100%|██████████| 4621/4621 [00:00<00:00, 13801.39it/s]\n",
      "100%|██████████| 563/563 [00:00<00:00, 13860.30it/s]\n",
      "100%|██████████| 93/93 [00:03<00:00, 26.83it/s]\n",
      "100%|██████████| 12/12 [00:00<00:00, 72.22it/s]\n",
      "  0%|          | 0/93 [00:00<?, ?it/s]"
     ]
    },
    {
     "name": "stdout",
     "output_type": "stream",
     "text": [
      "\tLoss:\t725.777\n"
     ]
    },
    {
     "name": "stderr",
     "output_type": "stream",
     "text": [
      "100%|██████████| 93/93 [00:03<00:00, 26.58it/s]\n",
      "100%|██████████| 12/12 [00:00<00:00, 71.82it/s]\n",
      "  0%|          | 0/93 [00:00<?, ?it/s]"
     ]
    },
    {
     "name": "stdout",
     "output_type": "stream",
     "text": [
      "\tLoss:\t490.029\n"
     ]
    },
    {
     "name": "stderr",
     "output_type": "stream",
     "text": [
      "100%|██████████| 93/93 [00:03<00:00, 26.59it/s]\n",
      "100%|██████████| 12/12 [00:00<00:00, 72.08it/s]\n",
      "  0%|          | 0/93 [00:00<?, ?it/s]"
     ]
    },
    {
     "name": "stdout",
     "output_type": "stream",
     "text": [
      "\tLoss:\t444.380\n"
     ]
    },
    {
     "name": "stderr",
     "output_type": "stream",
     "text": [
      "100%|██████████| 93/93 [00:03<00:00, 25.49it/s]\n",
      "100%|██████████| 12/12 [00:00<00:00, 74.47it/s]\n",
      "  0%|          | 0/93 [00:00<?, ?it/s]"
     ]
    },
    {
     "name": "stdout",
     "output_type": "stream",
     "text": [
      "\tLoss:\t435.715\n"
     ]
    },
    {
     "name": "stderr",
     "output_type": "stream",
     "text": [
      "100%|██████████| 93/93 [00:03<00:00, 26.28it/s]\n",
      "100%|██████████| 12/12 [00:00<00:00, 74.97it/s]\n",
      "  0%|          | 0/93 [00:00<?, ?it/s]"
     ]
    },
    {
     "name": "stdout",
     "output_type": "stream",
     "text": [
      "\tLoss:\t429.348\n"
     ]
    },
    {
     "name": "stderr",
     "output_type": "stream",
     "text": [
      "100%|██████████| 93/93 [00:03<00:00, 26.02it/s]\n",
      "100%|██████████| 12/12 [00:00<00:00, 71.39it/s]\n",
      "  0%|          | 0/93 [00:00<?, ?it/s]"
     ]
    },
    {
     "name": "stdout",
     "output_type": "stream",
     "text": [
      "\tLoss:\t424.273\n"
     ]
    },
    {
     "name": "stderr",
     "output_type": "stream",
     "text": [
      "100%|██████████| 93/93 [00:03<00:00, 26.48it/s]\n",
      "100%|██████████| 12/12 [00:00<00:00, 71.21it/s]\n",
      "  0%|          | 0/93 [00:00<?, ?it/s]"
     ]
    },
    {
     "name": "stdout",
     "output_type": "stream",
     "text": [
      "\tLoss:\t423.999\n"
     ]
    },
    {
     "name": "stderr",
     "output_type": "stream",
     "text": [
      "100%|██████████| 93/93 [00:03<00:00, 26.31it/s]\n",
      "100%|██████████| 12/12 [00:00<00:00, 71.09it/s]\n",
      "  0%|          | 0/93 [00:00<?, ?it/s]"
     ]
    },
    {
     "name": "stdout",
     "output_type": "stream",
     "text": [
      "\tLoss:\t423.594\n"
     ]
    },
    {
     "name": "stderr",
     "output_type": "stream",
     "text": [
      "100%|██████████| 93/93 [00:03<00:00, 25.89it/s]\n",
      "100%|██████████| 12/12 [00:00<00:00, 69.35it/s]\n",
      "  0%|          | 0/93 [00:00<?, ?it/s]"
     ]
    },
    {
     "name": "stdout",
     "output_type": "stream",
     "text": [
      "\tLoss:\t422.075\n"
     ]
    },
    {
     "name": "stderr",
     "output_type": "stream",
     "text": [
      "100%|██████████| 93/93 [00:03<00:00, 25.73it/s]\n",
      "100%|██████████| 12/12 [00:00<00:00, 72.26it/s]\n",
      "  0%|          | 0/93 [00:00<?, ?it/s]"
     ]
    },
    {
     "name": "stdout",
     "output_type": "stream",
     "text": [
      "\tLoss:\t422.568\n"
     ]
    },
    {
     "name": "stderr",
     "output_type": "stream",
     "text": [
      "100%|██████████| 93/93 [00:03<00:00, 25.17it/s]\n",
      "100%|██████████| 12/12 [00:00<00:00, 70.69it/s]\n",
      "  0%|          | 0/93 [00:00<?, ?it/s]"
     ]
    },
    {
     "name": "stdout",
     "output_type": "stream",
     "text": [
      "\tLoss:\t422.517\n"
     ]
    },
    {
     "name": "stderr",
     "output_type": "stream",
     "text": [
      "100%|██████████| 93/93 [00:03<00:00, 24.71it/s]\n",
      "100%|██████████| 12/12 [00:00<00:00, 68.93it/s]\n",
      "  0%|          | 0/93 [00:00<?, ?it/s]"
     ]
    },
    {
     "name": "stdout",
     "output_type": "stream",
     "text": [
      "\tLoss:\t422.414\n"
     ]
    },
    {
     "name": "stderr",
     "output_type": "stream",
     "text": [
      "100%|██████████| 93/93 [00:03<00:00, 26.11it/s]\n",
      "100%|██████████| 12/12 [00:00<00:00, 72.15it/s]"
     ]
    },
    {
     "name": "stdout",
     "output_type": "stream",
     "text": [
      "\tLoss:\t422.309\n",
      "-------------------------------------------------------\n"
     ]
    },
    {
     "name": "stderr",
     "output_type": "stream",
     "text": [
      "\n"
     ]
    },
    {
     "data": {
      "application/vnd.jupyter.widget-view+json": {
       "model_id": "1d0da06df6ad4592a7fca5889e2d4459",
       "version_major": 2,
       "version_minor": 0
      },
      "text/plain": [
       "  0%|          | 0/2260 [00:00<?, ?it/s]"
      ]
     },
     "metadata": {},
     "output_type": "display_data"
    },
    {
     "data": {
      "application/vnd.jupyter.widget-view+json": {
       "model_id": "1287ee7044cf4d3fa91d4323037033e6",
       "version_major": 2,
       "version_minor": 0
      },
      "text/plain": [
       "  0%|          | 0/12 [00:00<?, ?it/s]"
      ]
     },
     "metadata": {},
     "output_type": "display_data"
    },
    {
     "data": {
      "application/vnd.jupyter.widget-view+json": {
       "model_id": "fa3ee099aef24ff8ae4962583c2593ae",
       "version_major": 2,
       "version_minor": 0
      },
      "text/plain": [
       "  0%|          | 0/563 [00:00<?, ?it/s]"
      ]
     },
     "metadata": {},
     "output_type": "display_data"
    },
    {
     "data": {
      "application/vnd.jupyter.widget-view+json": {
       "model_id": "681e9ae39428402e9389152846de6ded",
       "version_major": 2,
       "version_minor": 0
      },
      "text/plain": [
       "  0%|          | 0/12 [00:00<?, ?it/s]"
      ]
     },
     "metadata": {},
     "output_type": "display_data"
    },
    {
     "name": "stderr",
     "output_type": "stream",
     "text": [
      "100%|██████████| 4628/4628 [00:00<00:00, 8670.30it/s] \n",
      "100%|██████████| 564/564 [00:00<00:00, 32935.43it/s]\n",
      "100%|██████████| 93/93 [00:03<00:00, 25.97it/s]\n",
      "100%|██████████| 12/12 [00:00<00:00, 68.27it/s]\n",
      "  0%|          | 0/93 [00:00<?, ?it/s]"
     ]
    },
    {
     "name": "stdout",
     "output_type": "stream",
     "text": [
      "\tLoss:\t709.606\n"
     ]
    },
    {
     "name": "stderr",
     "output_type": "stream",
     "text": [
      "100%|██████████| 93/93 [00:03<00:00, 25.17it/s]\n",
      "100%|██████████| 12/12 [00:00<00:00, 70.42it/s]\n",
      "  0%|          | 0/93 [00:00<?, ?it/s]"
     ]
    },
    {
     "name": "stdout",
     "output_type": "stream",
     "text": [
      "\tLoss:\t487.980\n"
     ]
    },
    {
     "name": "stderr",
     "output_type": "stream",
     "text": [
      "100%|██████████| 93/93 [00:03<00:00, 25.97it/s]\n",
      "100%|██████████| 12/12 [00:00<00:00, 69.57it/s]\n",
      "  0%|          | 0/93 [00:00<?, ?it/s]"
     ]
    },
    {
     "name": "stdout",
     "output_type": "stream",
     "text": [
      "\tLoss:\t440.117\n"
     ]
    },
    {
     "name": "stderr",
     "output_type": "stream",
     "text": [
      "100%|██████████| 93/93 [00:03<00:00, 25.40it/s]\n",
      "100%|██████████| 12/12 [00:00<00:00, 69.48it/s]\n",
      "  0%|          | 0/93 [00:00<?, ?it/s]"
     ]
    },
    {
     "name": "stdout",
     "output_type": "stream",
     "text": [
      "\tLoss:\t431.401\n"
     ]
    },
    {
     "name": "stderr",
     "output_type": "stream",
     "text": [
      "100%|██████████| 93/93 [00:03<00:00, 26.35it/s]\n",
      "100%|██████████| 12/12 [00:00<00:00, 68.95it/s]\n",
      "  0%|          | 0/93 [00:00<?, ?it/s]"
     ]
    },
    {
     "name": "stdout",
     "output_type": "stream",
     "text": [
      "\tLoss:\t425.370\n"
     ]
    },
    {
     "name": "stderr",
     "output_type": "stream",
     "text": [
      "100%|██████████| 93/93 [00:03<00:00, 26.62it/s]\n",
      "100%|██████████| 12/12 [00:00<00:00, 70.60it/s]\n",
      "  0%|          | 0/93 [00:00<?, ?it/s]"
     ]
    },
    {
     "name": "stdout",
     "output_type": "stream",
     "text": [
      "\tLoss:\t419.503\n"
     ]
    },
    {
     "name": "stderr",
     "output_type": "stream",
     "text": [
      "100%|██████████| 93/93 [00:03<00:00, 26.45it/s]\n",
      "100%|██████████| 12/12 [00:00<00:00, 71.45it/s]\n",
      "  0%|          | 0/93 [00:00<?, ?it/s]"
     ]
    },
    {
     "name": "stdout",
     "output_type": "stream",
     "text": [
      "\tLoss:\t418.760\n"
     ]
    },
    {
     "name": "stderr",
     "output_type": "stream",
     "text": [
      "100%|██████████| 93/93 [00:03<00:00, 26.72it/s]\n",
      "100%|██████████| 12/12 [00:00<00:00, 71.36it/s]\n",
      "  0%|          | 0/93 [00:00<?, ?it/s]"
     ]
    },
    {
     "name": "stdout",
     "output_type": "stream",
     "text": [
      "\tLoss:\t417.957\n"
     ]
    },
    {
     "name": "stderr",
     "output_type": "stream",
     "text": [
      "100%|██████████| 93/93 [00:04<00:00, 22.55it/s]\n",
      "100%|██████████| 12/12 [00:00<00:00, 69.08it/s]\n",
      "  0%|          | 0/93 [00:00<?, ?it/s]"
     ]
    },
    {
     "name": "stdout",
     "output_type": "stream",
     "text": [
      "\tLoss:\t417.198\n"
     ]
    },
    {
     "name": "stderr",
     "output_type": "stream",
     "text": [
      "100%|██████████| 93/93 [00:03<00:00, 26.48it/s]\n",
      "100%|██████████| 12/12 [00:00<00:00, 67.71it/s]\n",
      "  0%|          | 0/93 [00:00<?, ?it/s]"
     ]
    },
    {
     "name": "stdout",
     "output_type": "stream",
     "text": [
      "\tLoss:\t417.199\n"
     ]
    },
    {
     "name": "stderr",
     "output_type": "stream",
     "text": [
      "100%|██████████| 93/93 [00:03<00:00, 26.43it/s]\n",
      "100%|██████████| 12/12 [00:00<00:00, 68.05it/s]\n",
      "  0%|          | 0/93 [00:00<?, ?it/s]"
     ]
    },
    {
     "name": "stdout",
     "output_type": "stream",
     "text": [
      "\tLoss:\t417.209\n"
     ]
    },
    {
     "name": "stderr",
     "output_type": "stream",
     "text": [
      "100%|██████████| 93/93 [00:03<00:00, 25.63it/s]\n",
      "100%|██████████| 12/12 [00:00<00:00, 68.85it/s]"
     ]
    },
    {
     "name": "stdout",
     "output_type": "stream",
     "text": [
      "\tLoss:\t417.413\n",
      "-------------------------------------------------------\n"
     ]
    },
    {
     "name": "stderr",
     "output_type": "stream",
     "text": [
      "\n"
     ]
    },
    {
     "data": {
      "application/vnd.jupyter.widget-view+json": {
       "model_id": "a43cad381a6a4a1f83c891a6e2781889",
       "version_major": 2,
       "version_minor": 0
      },
      "text/plain": [
       "  0%|          | 0/2260 [00:00<?, ?it/s]"
      ]
     },
     "metadata": {},
     "output_type": "display_data"
    },
    {
     "data": {
      "application/vnd.jupyter.widget-view+json": {
       "model_id": "6d41e877a98a4cc28e255422a20c9083",
       "version_major": 2,
       "version_minor": 0
      },
      "text/plain": [
       "  0%|          | 0/12 [00:00<?, ?it/s]"
      ]
     },
     "metadata": {},
     "output_type": "display_data"
    },
    {
     "data": {
      "application/vnd.jupyter.widget-view+json": {
       "model_id": "f846d25bda9b434d96035672bbfedaa6",
       "version_major": 2,
       "version_minor": 0
      },
      "text/plain": [
       "  0%|          | 0/564 [00:00<?, ?it/s]"
      ]
     },
     "metadata": {},
     "output_type": "display_data"
    },
    {
     "data": {
      "application/vnd.jupyter.widget-view+json": {
       "model_id": "87ba65335dd34568ae6c3a38e90dd17f",
       "version_major": 2,
       "version_minor": 0
      },
      "text/plain": [
       "  0%|          | 0/12 [00:00<?, ?it/s]"
      ]
     },
     "metadata": {},
     "output_type": "display_data"
    },
    {
     "name": "stderr",
     "output_type": "stream",
     "text": [
      "100%|██████████| 4586/4586 [00:00<00:00, 8030.89it/s] \n",
      "100%|██████████| 564/564 [00:00<00:00, 16415.49it/s]\n",
      "100%|██████████| 92/92 [00:03<00:00, 29.15it/s]\n",
      " 50%|█████     | 6/12 [00:00<00:00, 51.63it/s]"
     ]
    },
    {
     "name": "stdout",
     "output_type": "stream",
     "text": [
      "\tLoss:\t710.799\n"
     ]
    },
    {
     "name": "stderr",
     "output_type": "stream",
     "text": [
      "100%|██████████| 12/12 [00:00<00:00, 51.30it/s]\n",
      "100%|██████████| 92/92 [00:03<00:00, 28.89it/s]\n",
      " 50%|█████     | 6/12 [00:00<00:00, 51.04it/s]"
     ]
    },
    {
     "name": "stdout",
     "output_type": "stream",
     "text": [
      "\tLoss:\t481.532\n"
     ]
    },
    {
     "name": "stderr",
     "output_type": "stream",
     "text": [
      "100%|██████████| 12/12 [00:00<00:00, 52.80it/s]\n",
      "100%|██████████| 92/92 [00:03<00:00, 28.37it/s]\n",
      " 50%|█████     | 6/12 [00:00<00:00, 52.65it/s]"
     ]
    },
    {
     "name": "stdout",
     "output_type": "stream",
     "text": [
      "\tLoss:\t434.903\n"
     ]
    },
    {
     "name": "stderr",
     "output_type": "stream",
     "text": [
      "100%|██████████| 12/12 [00:00<00:00, 54.29it/s]\n",
      "100%|██████████| 92/92 [00:03<00:00, 29.00it/s]\n",
      " 50%|█████     | 6/12 [00:00<00:00, 51.74it/s]"
     ]
    },
    {
     "name": "stdout",
     "output_type": "stream",
     "text": [
      "\tLoss:\t427.188\n"
     ]
    },
    {
     "name": "stderr",
     "output_type": "stream",
     "text": [
      "100%|██████████| 12/12 [00:00<00:00, 54.72it/s]\n",
      "100%|██████████| 92/92 [00:03<00:00, 28.51it/s]\n",
      " 50%|█████     | 6/12 [00:00<00:00, 51.02it/s]"
     ]
    },
    {
     "name": "stdout",
     "output_type": "stream",
     "text": [
      "\tLoss:\t422.039\n"
     ]
    },
    {
     "name": "stderr",
     "output_type": "stream",
     "text": [
      "100%|██████████| 12/12 [00:00<00:00, 53.63it/s]\n",
      "100%|██████████| 92/92 [00:03<00:00, 29.28it/s]\n",
      " 50%|█████     | 6/12 [00:00<00:00, 51.63it/s]"
     ]
    },
    {
     "name": "stdout",
     "output_type": "stream",
     "text": [
      "\tLoss:\t416.879\n"
     ]
    },
    {
     "name": "stderr",
     "output_type": "stream",
     "text": [
      "100%|██████████| 12/12 [00:00<00:00, 54.18it/s]\n",
      "100%|██████████| 92/92 [00:03<00:00, 29.00it/s]\n",
      " 50%|█████     | 6/12 [00:00<00:00, 52.44it/s]"
     ]
    },
    {
     "name": "stdout",
     "output_type": "stream",
     "text": [
      "\tLoss:\t416.153\n"
     ]
    },
    {
     "name": "stderr",
     "output_type": "stream",
     "text": [
      "100%|██████████| 12/12 [00:00<00:00, 54.33it/s]\n",
      "100%|██████████| 92/92 [00:03<00:00, 29.04it/s]\n",
      " 50%|█████     | 6/12 [00:00<00:00, 50.85it/s]"
     ]
    },
    {
     "name": "stdout",
     "output_type": "stream",
     "text": [
      "\tLoss:\t415.848\n"
     ]
    },
    {
     "name": "stderr",
     "output_type": "stream",
     "text": [
      "100%|██████████| 12/12 [00:00<00:00, 55.10it/s]\n",
      "100%|██████████| 92/92 [00:03<00:00, 28.79it/s]\n",
      " 42%|████▏     | 5/12 [00:00<00:00, 42.58it/s]"
     ]
    },
    {
     "name": "stdout",
     "output_type": "stream",
     "text": [
      "\tLoss:\t415.108\n"
     ]
    },
    {
     "name": "stderr",
     "output_type": "stream",
     "text": [
      "100%|██████████| 12/12 [00:00<00:00, 48.99it/s]\n",
      "100%|██████████| 92/92 [00:03<00:00, 28.91it/s]\n",
      " 42%|████▏     | 5/12 [00:00<00:00, 41.49it/s]"
     ]
    },
    {
     "name": "stdout",
     "output_type": "stream",
     "text": [
      "\tLoss:\t415.026\n"
     ]
    },
    {
     "name": "stderr",
     "output_type": "stream",
     "text": [
      "100%|██████████| 12/12 [00:00<00:00, 48.04it/s]\n",
      "100%|██████████| 92/92 [00:03<00:00, 29.97it/s]\n",
      " 50%|█████     | 6/12 [00:00<00:00, 51.08it/s]"
     ]
    },
    {
     "name": "stdout",
     "output_type": "stream",
     "text": [
      "\tLoss:\t415.114\n"
     ]
    },
    {
     "name": "stderr",
     "output_type": "stream",
     "text": [
      "100%|██████████| 12/12 [00:00<00:00, 54.66it/s]\n",
      "100%|██████████| 92/92 [00:03<00:00, 29.17it/s]\n",
      " 50%|█████     | 6/12 [00:00<00:00, 52.28it/s]"
     ]
    },
    {
     "name": "stdout",
     "output_type": "stream",
     "text": [
      "\tLoss:\t415.002\n"
     ]
    },
    {
     "name": "stderr",
     "output_type": "stream",
     "text": [
      "100%|██████████| 12/12 [00:00<00:00, 54.78it/s]\n",
      "100%|██████████| 92/92 [00:03<00:00, 29.64it/s]\n",
      " 50%|█████     | 6/12 [00:00<00:00, 52.91it/s]"
     ]
    },
    {
     "name": "stdout",
     "output_type": "stream",
     "text": [
      "\tLoss:\t415.109\n"
     ]
    },
    {
     "name": "stderr",
     "output_type": "stream",
     "text": [
      "100%|██████████| 12/12 [00:00<00:00, 55.84it/s]\n",
      "100%|██████████| 92/92 [00:03<00:00, 28.83it/s]\n",
      " 50%|█████     | 6/12 [00:00<00:00, 51.70it/s]"
     ]
    },
    {
     "name": "stdout",
     "output_type": "stream",
     "text": [
      "\tLoss:\t415.085\n"
     ]
    },
    {
     "name": "stderr",
     "output_type": "stream",
     "text": [
      "100%|██████████| 12/12 [00:00<00:00, 50.61it/s]"
     ]
    },
    {
     "name": "stdout",
     "output_type": "stream",
     "text": [
      "-------------------------------------------------------\n"
     ]
    },
    {
     "name": "stderr",
     "output_type": "stream",
     "text": [
      "\n"
     ]
    },
    {
     "data": {
      "application/vnd.jupyter.widget-view+json": {
       "model_id": "9ae4b6ed7ea74f39a2c1ed21a5938e61",
       "version_major": 2,
       "version_minor": 0
      },
      "text/plain": [
       "  0%|          | 0/2260 [00:00<?, ?it/s]"
      ]
     },
     "metadata": {},
     "output_type": "display_data"
    },
    {
     "data": {
      "application/vnd.jupyter.widget-view+json": {
       "model_id": "5193fe65598e42449a255756389b2e1f",
       "version_major": 2,
       "version_minor": 0
      },
      "text/plain": [
       "  0%|          | 0/12 [00:00<?, ?it/s]"
      ]
     },
     "metadata": {},
     "output_type": "display_data"
    },
    {
     "data": {
      "application/vnd.jupyter.widget-view+json": {
       "model_id": "f7d0ef679c194ff0ad04e05c2d284428",
       "version_major": 2,
       "version_minor": 0
      },
      "text/plain": [
       "  0%|          | 0/564 [00:00<?, ?it/s]"
      ]
     },
     "metadata": {},
     "output_type": "display_data"
    },
    {
     "data": {
      "application/vnd.jupyter.widget-view+json": {
       "model_id": "2923b379db18430b8a55f02b2e0c8cba",
       "version_major": 2,
       "version_minor": 0
      },
      "text/plain": [
       "  0%|          | 0/12 [00:00<?, ?it/s]"
      ]
     },
     "metadata": {},
     "output_type": "display_data"
    },
    {
     "name": "stderr",
     "output_type": "stream",
     "text": [
      " 33%|███▎      | 1486/4536 [00:00<00:00, 14851.83it/s]"
     ]
    },
    {
     "name": "stdout",
     "output_type": "stream",
     "text": [
      "\n",
      "SR-GNN Score:  48.82411896393794 39.76567653644829\n",
      "SR-GNN Last Score:  48.89516759615678 39.77259106514005\n",
      "CKNN Score:  40.07160763099692 24.289329320644217\n",
      "Proposed Method Score:  54.5434932542232 40.48296437244213\n"
     ]
    },
    {
     "name": "stderr",
     "output_type": "stream",
     "text": [
      "100%|██████████| 4536/4536 [00:00<00:00, 7844.87it/s] \n",
      "100%|██████████| 560/560 [00:00<00:00, 19782.95it/s]\n",
      "100%|██████████| 91/91 [00:03<00:00, 26.49it/s]\n",
      "100%|██████████| 12/12 [00:00<00:00, 66.53it/s]\n",
      "  0%|          | 0/91 [00:00<?, ?it/s]"
     ]
    },
    {
     "name": "stdout",
     "output_type": "stream",
     "text": [
      "\tLoss:\t704.759\n"
     ]
    },
    {
     "name": "stderr",
     "output_type": "stream",
     "text": [
      "100%|██████████| 91/91 [00:03<00:00, 26.39it/s]\n",
      "100%|██████████| 12/12 [00:00<00:00, 65.34it/s]\n",
      "  0%|          | 0/91 [00:00<?, ?it/s]"
     ]
    },
    {
     "name": "stdout",
     "output_type": "stream",
     "text": [
      "\tLoss:\t468.802\n"
     ]
    },
    {
     "name": "stderr",
     "output_type": "stream",
     "text": [
      "100%|██████████| 91/91 [00:03<00:00, 26.78it/s]\n",
      "100%|██████████| 12/12 [00:00<00:00, 67.10it/s]\n",
      "  0%|          | 0/91 [00:00<?, ?it/s]"
     ]
    },
    {
     "name": "stdout",
     "output_type": "stream",
     "text": [
      "\tLoss:\t424.316\n"
     ]
    },
    {
     "name": "stderr",
     "output_type": "stream",
     "text": [
      "100%|██████████| 91/91 [00:03<00:00, 26.12it/s]\n",
      "100%|██████████| 12/12 [00:00<00:00, 68.68it/s]\n",
      "  0%|          | 0/91 [00:00<?, ?it/s]"
     ]
    },
    {
     "name": "stdout",
     "output_type": "stream",
     "text": [
      "\tLoss:\t417.137\n"
     ]
    },
    {
     "name": "stderr",
     "output_type": "stream",
     "text": [
      "100%|██████████| 91/91 [00:03<00:00, 26.02it/s]\n",
      "100%|██████████| 12/12 [00:00<00:00, 68.90it/s]\n",
      "  0%|          | 0/91 [00:00<?, ?it/s]"
     ]
    },
    {
     "name": "stdout",
     "output_type": "stream",
     "text": [
      "\tLoss:\t411.625\n"
     ]
    },
    {
     "name": "stderr",
     "output_type": "stream",
     "text": [
      "100%|██████████| 91/91 [00:03<00:00, 26.10it/s]\n",
      "100%|██████████| 12/12 [00:00<00:00, 69.10it/s]\n",
      "  0%|          | 0/91 [00:00<?, ?it/s]"
     ]
    },
    {
     "name": "stdout",
     "output_type": "stream",
     "text": [
      "\tLoss:\t406.368\n"
     ]
    },
    {
     "name": "stderr",
     "output_type": "stream",
     "text": [
      "100%|██████████| 91/91 [00:03<00:00, 26.76it/s]\n",
      "100%|██████████| 12/12 [00:00<00:00, 67.42it/s]\n",
      "  0%|          | 0/91 [00:00<?, ?it/s]"
     ]
    },
    {
     "name": "stdout",
     "output_type": "stream",
     "text": [
      "\tLoss:\t406.087\n"
     ]
    },
    {
     "name": "stderr",
     "output_type": "stream",
     "text": [
      "100%|██████████| 91/91 [00:03<00:00, 26.81it/s]\n",
      "100%|██████████| 12/12 [00:00<00:00, 69.01it/s]\n",
      "  0%|          | 0/91 [00:00<?, ?it/s]"
     ]
    },
    {
     "name": "stdout",
     "output_type": "stream",
     "text": [
      "\tLoss:\t405.494\n"
     ]
    },
    {
     "name": "stderr",
     "output_type": "stream",
     "text": [
      "100%|██████████| 91/91 [00:03<00:00, 26.96it/s]\n",
      "100%|██████████| 12/12 [00:00<00:00, 68.22it/s]\n",
      "  0%|          | 0/91 [00:00<?, ?it/s]"
     ]
    },
    {
     "name": "stdout",
     "output_type": "stream",
     "text": [
      "\tLoss:\t404.919\n"
     ]
    },
    {
     "name": "stderr",
     "output_type": "stream",
     "text": [
      "100%|██████████| 91/91 [00:03<00:00, 26.60it/s]\n",
      "100%|██████████| 12/12 [00:00<00:00, 68.70it/s]\n",
      "  0%|          | 0/91 [00:00<?, ?it/s]"
     ]
    },
    {
     "name": "stdout",
     "output_type": "stream",
     "text": [
      "\tLoss:\t405.074\n"
     ]
    },
    {
     "name": "stderr",
     "output_type": "stream",
     "text": [
      "100%|██████████| 91/91 [00:03<00:00, 26.00it/s]\n",
      "100%|██████████| 12/12 [00:00<00:00, 64.56it/s]\n",
      "  0%|          | 0/91 [00:00<?, ?it/s]"
     ]
    },
    {
     "name": "stdout",
     "output_type": "stream",
     "text": [
      "\tLoss:\t404.831\n"
     ]
    },
    {
     "name": "stderr",
     "output_type": "stream",
     "text": [
      "100%|██████████| 91/91 [00:03<00:00, 25.73it/s]\n",
      "100%|██████████| 12/12 [00:00<00:00, 67.81it/s]\n",
      "  0%|          | 0/91 [00:00<?, ?it/s]"
     ]
    },
    {
     "name": "stdout",
     "output_type": "stream",
     "text": [
      "\tLoss:\t404.793\n"
     ]
    },
    {
     "name": "stderr",
     "output_type": "stream",
     "text": [
      "100%|██████████| 91/91 [00:03<00:00, 25.27it/s]\n",
      "100%|██████████| 12/12 [00:00<00:00, 67.58it/s]\n",
      "  0%|          | 0/91 [00:00<?, ?it/s]"
     ]
    },
    {
     "name": "stdout",
     "output_type": "stream",
     "text": [
      "\tLoss:\t404.982\n"
     ]
    },
    {
     "name": "stderr",
     "output_type": "stream",
     "text": [
      "100%|██████████| 91/91 [00:03<00:00, 26.07it/s]\n",
      "100%|██████████| 12/12 [00:00<00:00, 67.57it/s]\n",
      "  0%|          | 0/91 [00:00<?, ?it/s]"
     ]
    },
    {
     "name": "stdout",
     "output_type": "stream",
     "text": [
      "\tLoss:\t404.973\n"
     ]
    },
    {
     "name": "stderr",
     "output_type": "stream",
     "text": [
      "100%|██████████| 91/91 [00:03<00:00, 26.20it/s]\n",
      "100%|██████████| 12/12 [00:00<00:00, 63.74it/s]"
     ]
    },
    {
     "name": "stdout",
     "output_type": "stream",
     "text": [
      "\tLoss:\t404.792\n",
      "-------------------------------------------------------\n"
     ]
    },
    {
     "name": "stderr",
     "output_type": "stream",
     "text": [
      "\n"
     ]
    },
    {
     "data": {
      "application/vnd.jupyter.widget-view+json": {
       "model_id": "27aa952746a7410bb8c552d7a5825756",
       "version_major": 2,
       "version_minor": 0
      },
      "text/plain": [
       "  0%|          | 0/2260 [00:00<?, ?it/s]"
      ]
     },
     "metadata": {},
     "output_type": "display_data"
    },
    {
     "data": {
      "application/vnd.jupyter.widget-view+json": {
       "model_id": "d77753986e1a4649969f60280cb44309",
       "version_major": 2,
       "version_minor": 0
      },
      "text/plain": [
       "  0%|          | 0/12 [00:00<?, ?it/s]"
      ]
     },
     "metadata": {},
     "output_type": "display_data"
    },
    {
     "data": {
      "application/vnd.jupyter.widget-view+json": {
       "model_id": "f521dedde3a042d98743820448c6a155",
       "version_major": 2,
       "version_minor": 0
      },
      "text/plain": [
       "  0%|          | 0/560 [00:00<?, ?it/s]"
      ]
     },
     "metadata": {},
     "output_type": "display_data"
    },
    {
     "data": {
      "application/vnd.jupyter.widget-view+json": {
       "model_id": "263a5ae72d3145ffb9669449c8a922df",
       "version_major": 2,
       "version_minor": 0
      },
      "text/plain": [
       "  0%|          | 0/12 [00:00<?, ?it/s]"
      ]
     },
     "metadata": {},
     "output_type": "display_data"
    },
    {
     "name": "stderr",
     "output_type": "stream",
     "text": [
      "100%|██████████| 4565/4565 [00:00<00:00, 12511.31it/s]\n",
      "100%|██████████| 564/564 [00:00<00:00, 14607.98it/s]\n",
      "100%|██████████| 92/92 [00:03<00:00, 25.30it/s]\n",
      " 50%|█████     | 6/12 [00:00<00:00, 49.71it/s]"
     ]
    },
    {
     "name": "stdout",
     "output_type": "stream",
     "text": [
      "\tLoss:\t702.288\n"
     ]
    },
    {
     "name": "stderr",
     "output_type": "stream",
     "text": [
      "100%|██████████| 12/12 [00:00<00:00, 53.53it/s]\n",
      "100%|██████████| 92/92 [00:03<00:00, 25.86it/s]\n",
      "100%|██████████| 12/12 [00:00<00:00, 65.12it/s]\n",
      "  0%|          | 0/92 [00:00<?, ?it/s]"
     ]
    },
    {
     "name": "stdout",
     "output_type": "stream",
     "text": [
      "\tLoss:\t480.339\n"
     ]
    },
    {
     "name": "stderr",
     "output_type": "stream",
     "text": [
      "100%|██████████| 92/92 [00:03<00:00, 26.19it/s]\n",
      "100%|██████████| 12/12 [00:00<00:00, 66.50it/s]\n",
      "  0%|          | 0/92 [00:00<?, ?it/s]"
     ]
    },
    {
     "name": "stdout",
     "output_type": "stream",
     "text": [
      "\tLoss:\t435.304\n"
     ]
    },
    {
     "name": "stderr",
     "output_type": "stream",
     "text": [
      "100%|██████████| 92/92 [00:03<00:00, 26.65it/s]\n",
      "100%|██████████| 12/12 [00:00<00:00, 65.37it/s]\n",
      "  0%|          | 0/92 [00:00<?, ?it/s]"
     ]
    },
    {
     "name": "stdout",
     "output_type": "stream",
     "text": [
      "\tLoss:\t425.467\n"
     ]
    },
    {
     "name": "stderr",
     "output_type": "stream",
     "text": [
      "100%|██████████| 92/92 [00:03<00:00, 26.64it/s]\n",
      "100%|██████████| 12/12 [00:00<00:00, 64.97it/s]\n",
      "  0%|          | 0/92 [00:00<?, ?it/s]"
     ]
    },
    {
     "name": "stdout",
     "output_type": "stream",
     "text": [
      "\tLoss:\t418.479\n"
     ]
    },
    {
     "name": "stderr",
     "output_type": "stream",
     "text": [
      "100%|██████████| 92/92 [00:03<00:00, 26.63it/s]\n",
      "100%|██████████| 12/12 [00:00<00:00, 66.57it/s]\n",
      "  0%|          | 0/92 [00:00<?, ?it/s]"
     ]
    },
    {
     "name": "stdout",
     "output_type": "stream",
     "text": [
      "\tLoss:\t413.652\n"
     ]
    },
    {
     "name": "stderr",
     "output_type": "stream",
     "text": [
      "100%|██████████| 92/92 [00:03<00:00, 26.51it/s]\n",
      "100%|██████████| 12/12 [00:00<00:00, 66.42it/s]\n",
      "  0%|          | 0/92 [00:00<?, ?it/s]"
     ]
    },
    {
     "name": "stdout",
     "output_type": "stream",
     "text": [
      "\tLoss:\t412.838\n"
     ]
    },
    {
     "name": "stderr",
     "output_type": "stream",
     "text": [
      "100%|██████████| 92/92 [00:03<00:00, 26.92it/s]\n",
      "100%|██████████| 12/12 [00:00<00:00, 66.66it/s]\n",
      "  0%|          | 0/92 [00:00<?, ?it/s]"
     ]
    },
    {
     "name": "stdout",
     "output_type": "stream",
     "text": [
      "\tLoss:\t411.125\n"
     ]
    },
    {
     "name": "stderr",
     "output_type": "stream",
     "text": [
      "100%|██████████| 92/92 [00:03<00:00, 26.41it/s]\n",
      "100%|██████████| 12/12 [00:00<00:00, 66.55it/s]\n",
      "  0%|          | 0/92 [00:00<?, ?it/s]"
     ]
    },
    {
     "name": "stdout",
     "output_type": "stream",
     "text": [
      "\tLoss:\t412.161\n"
     ]
    },
    {
     "name": "stderr",
     "output_type": "stream",
     "text": [
      "100%|██████████| 92/92 [00:03<00:00, 26.77it/s]\n",
      "100%|██████████| 12/12 [00:00<00:00, 68.20it/s]\n",
      "  0%|          | 0/92 [00:00<?, ?it/s]"
     ]
    },
    {
     "name": "stdout",
     "output_type": "stream",
     "text": [
      "\tLoss:\t411.391\n"
     ]
    },
    {
     "name": "stderr",
     "output_type": "stream",
     "text": [
      "100%|██████████| 92/92 [00:03<00:00, 26.33it/s]\n",
      "100%|██████████| 12/12 [00:00<00:00, 65.39it/s]\n",
      "  0%|          | 0/92 [00:00<?, ?it/s]"
     ]
    },
    {
     "name": "stdout",
     "output_type": "stream",
     "text": [
      "\tLoss:\t411.321\n"
     ]
    },
    {
     "name": "stderr",
     "output_type": "stream",
     "text": [
      "100%|██████████| 92/92 [00:03<00:00, 26.66it/s]\n",
      "100%|██████████| 12/12 [00:00<00:00, 65.00it/s]\n",
      "  0%|          | 0/92 [00:00<?, ?it/s]"
     ]
    },
    {
     "name": "stdout",
     "output_type": "stream",
     "text": [
      "\tLoss:\t411.440\n"
     ]
    },
    {
     "name": "stderr",
     "output_type": "stream",
     "text": [
      "100%|██████████| 92/92 [00:03<00:00, 26.35it/s]\n",
      "100%|██████████| 12/12 [00:00<00:00, 64.67it/s]\n",
      "  0%|          | 0/92 [00:00<?, ?it/s]"
     ]
    },
    {
     "name": "stdout",
     "output_type": "stream",
     "text": [
      "\tLoss:\t411.793\n"
     ]
    },
    {
     "name": "stderr",
     "output_type": "stream",
     "text": [
      "100%|██████████| 92/92 [00:03<00:00, 26.81it/s]\n",
      "100%|██████████| 12/12 [00:00<00:00, 65.44it/s]"
     ]
    },
    {
     "name": "stdout",
     "output_type": "stream",
     "text": [
      "\tLoss:\t410.737\n",
      "-------------------------------------------------------\n"
     ]
    },
    {
     "name": "stderr",
     "output_type": "stream",
     "text": [
      "\n"
     ]
    },
    {
     "data": {
      "application/vnd.jupyter.widget-view+json": {
       "model_id": "b718c19ab45f4d3b9aefa51c17eb1ba1",
       "version_major": 2,
       "version_minor": 0
      },
      "text/plain": [
       "  0%|          | 0/2260 [00:00<?, ?it/s]"
      ]
     },
     "metadata": {},
     "output_type": "display_data"
    },
    {
     "data": {
      "application/vnd.jupyter.widget-view+json": {
       "model_id": "929b25f065dc49b4b915fc847520fafd",
       "version_major": 2,
       "version_minor": 0
      },
      "text/plain": [
       "  0%|          | 0/12 [00:00<?, ?it/s]"
      ]
     },
     "metadata": {},
     "output_type": "display_data"
    },
    {
     "data": {
      "application/vnd.jupyter.widget-view+json": {
       "model_id": "7b1c1e538bfd44b4bf07c592eded507c",
       "version_major": 2,
       "version_minor": 0
      },
      "text/plain": [
       "  0%|          | 0/564 [00:00<?, ?it/s]"
      ]
     },
     "metadata": {},
     "output_type": "display_data"
    },
    {
     "data": {
      "application/vnd.jupyter.widget-view+json": {
       "model_id": "82f750df087d4f3e8c418671c67b9f7b",
       "version_major": 2,
       "version_minor": 0
      },
      "text/plain": [
       "  0%|          | 0/12 [00:00<?, ?it/s]"
      ]
     },
     "metadata": {},
     "output_type": "display_data"
    },
    {
     "name": "stderr",
     "output_type": "stream",
     "text": [
      "100%|██████████| 4621/4621 [00:00<00:00, 11549.71it/s]\n",
      "100%|██████████| 563/563 [00:00<00:00, 10263.71it/s]\n",
      "100%|██████████| 93/93 [00:03<00:00, 26.58it/s]\n",
      "100%|██████████| 12/12 [00:00<00:00, 69.87it/s]\n",
      "  0%|          | 0/93 [00:00<?, ?it/s]"
     ]
    },
    {
     "name": "stdout",
     "output_type": "stream",
     "text": [
      "\tLoss:\t715.255\n"
     ]
    },
    {
     "name": "stderr",
     "output_type": "stream",
     "text": [
      "100%|██████████| 93/93 [00:03<00:00, 26.45it/s]\n",
      "100%|██████████| 12/12 [00:00<00:00, 72.20it/s]\n",
      "  0%|          | 0/93 [00:00<?, ?it/s]"
     ]
    },
    {
     "name": "stdout",
     "output_type": "stream",
     "text": [
      "\tLoss:\t490.357\n"
     ]
    },
    {
     "name": "stderr",
     "output_type": "stream",
     "text": [
      "100%|██████████| 93/93 [00:03<00:00, 26.66it/s]\n",
      "100%|██████████| 12/12 [00:00<00:00, 72.12it/s]\n",
      "  0%|          | 0/93 [00:00<?, ?it/s]"
     ]
    },
    {
     "name": "stdout",
     "output_type": "stream",
     "text": [
      "\tLoss:\t440.372\n"
     ]
    },
    {
     "name": "stderr",
     "output_type": "stream",
     "text": [
      "100%|██████████| 93/93 [00:03<00:00, 26.32it/s]\n",
      "100%|██████████| 12/12 [00:00<00:00, 73.61it/s]\n",
      "  0%|          | 0/93 [00:00<?, ?it/s]"
     ]
    },
    {
     "name": "stdout",
     "output_type": "stream",
     "text": [
      "\tLoss:\t432.227\n"
     ]
    },
    {
     "name": "stderr",
     "output_type": "stream",
     "text": [
      "100%|██████████| 93/93 [00:03<00:00, 26.16it/s]\n",
      "100%|██████████| 12/12 [00:00<00:00, 71.53it/s]\n",
      "  0%|          | 0/93 [00:00<?, ?it/s]"
     ]
    },
    {
     "name": "stdout",
     "output_type": "stream",
     "text": [
      "\tLoss:\t427.070\n"
     ]
    },
    {
     "name": "stderr",
     "output_type": "stream",
     "text": [
      "100%|██████████| 93/93 [00:03<00:00, 26.42it/s]\n",
      "100%|██████████| 12/12 [00:00<00:00, 71.91it/s]\n",
      "  0%|          | 0/93 [00:00<?, ?it/s]"
     ]
    },
    {
     "name": "stdout",
     "output_type": "stream",
     "text": [
      "\tLoss:\t421.240\n"
     ]
    },
    {
     "name": "stderr",
     "output_type": "stream",
     "text": [
      "100%|██████████| 93/93 [00:03<00:00, 26.68it/s]\n",
      "100%|██████████| 12/12 [00:00<00:00, 70.60it/s]\n",
      "  0%|          | 0/93 [00:00<?, ?it/s]"
     ]
    },
    {
     "name": "stdout",
     "output_type": "stream",
     "text": [
      "\tLoss:\t420.465\n"
     ]
    },
    {
     "name": "stderr",
     "output_type": "stream",
     "text": [
      "100%|██████████| 93/93 [00:03<00:00, 26.33it/s]\n",
      "100%|██████████| 12/12 [00:00<00:00, 72.09it/s]\n",
      "  0%|          | 0/93 [00:00<?, ?it/s]"
     ]
    },
    {
     "name": "stdout",
     "output_type": "stream",
     "text": [
      "\tLoss:\t419.700\n"
     ]
    },
    {
     "name": "stderr",
     "output_type": "stream",
     "text": [
      "100%|██████████| 93/93 [00:03<00:00, 25.81it/s]\n",
      "100%|██████████| 12/12 [00:00<00:00, 72.21it/s]\n",
      "  0%|          | 0/93 [00:00<?, ?it/s]"
     ]
    },
    {
     "name": "stdout",
     "output_type": "stream",
     "text": [
      "\tLoss:\t420.140\n"
     ]
    },
    {
     "name": "stderr",
     "output_type": "stream",
     "text": [
      "100%|██████████| 93/93 [00:03<00:00, 26.74it/s]\n",
      "100%|██████████| 12/12 [00:00<00:00, 70.31it/s]\n",
      "  0%|          | 0/93 [00:00<?, ?it/s]"
     ]
    },
    {
     "name": "stdout",
     "output_type": "stream",
     "text": [
      "\tLoss:\t418.778\n"
     ]
    },
    {
     "name": "stderr",
     "output_type": "stream",
     "text": [
      "100%|██████████| 93/93 [00:03<00:00, 26.50it/s]\n",
      "100%|██████████| 12/12 [00:00<00:00, 71.43it/s]\n",
      "  0%|          | 0/93 [00:00<?, ?it/s]"
     ]
    },
    {
     "name": "stdout",
     "output_type": "stream",
     "text": [
      "\tLoss:\t419.302\n"
     ]
    },
    {
     "name": "stderr",
     "output_type": "stream",
     "text": [
      "100%|██████████| 93/93 [00:03<00:00, 26.55it/s]\n",
      "100%|██████████| 12/12 [00:00<00:00, 72.51it/s]"
     ]
    },
    {
     "name": "stdout",
     "output_type": "stream",
     "text": [
      "\tLoss:\t418.755\n",
      "-------------------------------------------------------\n"
     ]
    },
    {
     "name": "stderr",
     "output_type": "stream",
     "text": [
      "\n"
     ]
    },
    {
     "data": {
      "application/vnd.jupyter.widget-view+json": {
       "model_id": "a8883e4509da418e883c9cbc920ec462",
       "version_major": 2,
       "version_minor": 0
      },
      "text/plain": [
       "  0%|          | 0/2260 [00:00<?, ?it/s]"
      ]
     },
     "metadata": {},
     "output_type": "display_data"
    },
    {
     "data": {
      "application/vnd.jupyter.widget-view+json": {
       "model_id": "3d3ec036aa8f4fd5abd776ecff03ee05",
       "version_major": 2,
       "version_minor": 0
      },
      "text/plain": [
       "  0%|          | 0/12 [00:00<?, ?it/s]"
      ]
     },
     "metadata": {},
     "output_type": "display_data"
    },
    {
     "data": {
      "application/vnd.jupyter.widget-view+json": {
       "model_id": "764b241367824a41b8c0f7dea12e5fa7",
       "version_major": 2,
       "version_minor": 0
      },
      "text/plain": [
       "  0%|          | 0/563 [00:00<?, ?it/s]"
      ]
     },
     "metadata": {},
     "output_type": "display_data"
    },
    {
     "data": {
      "application/vnd.jupyter.widget-view+json": {
       "model_id": "c686f7bbb5754802b42c3c7ba679aa9e",
       "version_major": 2,
       "version_minor": 0
      },
      "text/plain": [
       "  0%|          | 0/12 [00:00<?, ?it/s]"
      ]
     },
     "metadata": {},
     "output_type": "display_data"
    },
    {
     "name": "stderr",
     "output_type": "stream",
     "text": [
      "100%|██████████| 4628/4628 [00:00<00:00, 8815.30it/s] \n",
      "100%|██████████| 564/564 [00:00<00:00, 10581.96it/s]\n",
      "100%|██████████| 93/93 [00:03<00:00, 26.03it/s]\n",
      "100%|██████████| 12/12 [00:00<00:00, 71.71it/s]\n",
      "  0%|          | 0/93 [00:00<?, ?it/s]"
     ]
    },
    {
     "name": "stdout",
     "output_type": "stream",
     "text": [
      "\tLoss:\t722.716\n"
     ]
    },
    {
     "name": "stderr",
     "output_type": "stream",
     "text": [
      "100%|██████████| 93/93 [00:03<00:00, 26.41it/s]\n",
      "100%|██████████| 12/12 [00:00<00:00, 62.21it/s]\n"
     ]
    },
    {
     "name": "stdout",
     "output_type": "stream",
     "text": [
      "\tLoss:\t484.888\n"
     ]
    },
    {
     "name": "stderr",
     "output_type": "stream",
     "text": [
      "100%|██████████| 93/93 [00:03<00:00, 26.36it/s]\n",
      "100%|██████████| 12/12 [00:00<00:00, 69.16it/s]\n",
      "  0%|          | 0/93 [00:00<?, ?it/s]"
     ]
    },
    {
     "name": "stdout",
     "output_type": "stream",
     "text": [
      "\tLoss:\t436.830\n"
     ]
    },
    {
     "name": "stderr",
     "output_type": "stream",
     "text": [
      "100%|██████████| 93/93 [00:03<00:00, 25.68it/s]\n",
      "100%|██████████| 12/12 [00:00<00:00, 74.39it/s]\n",
      "  0%|          | 0/93 [00:00<?, ?it/s]"
     ]
    },
    {
     "name": "stdout",
     "output_type": "stream",
     "text": [
      "\tLoss:\t429.558\n"
     ]
    },
    {
     "name": "stderr",
     "output_type": "stream",
     "text": [
      "100%|██████████| 93/93 [00:03<00:00, 25.57it/s]\n",
      "100%|██████████| 12/12 [00:00<00:00, 74.49it/s]\n",
      "  0%|          | 0/93 [00:00<?, ?it/s]"
     ]
    },
    {
     "name": "stdout",
     "output_type": "stream",
     "text": [
      "\tLoss:\t424.769\n"
     ]
    },
    {
     "name": "stderr",
     "output_type": "stream",
     "text": [
      "100%|██████████| 93/93 [00:03<00:00, 25.39it/s]\n",
      "100%|██████████| 12/12 [00:00<00:00, 71.82it/s]\n",
      "  0%|          | 0/93 [00:00<?, ?it/s]"
     ]
    },
    {
     "name": "stdout",
     "output_type": "stream",
     "text": [
      "\tLoss:\t419.140\n"
     ]
    },
    {
     "name": "stderr",
     "output_type": "stream",
     "text": [
      "100%|██████████| 93/93 [00:03<00:00, 25.56it/s]\n",
      "100%|██████████| 12/12 [00:00<00:00, 69.44it/s]\n",
      "  0%|          | 0/93 [00:00<?, ?it/s]"
     ]
    },
    {
     "name": "stdout",
     "output_type": "stream",
     "text": [
      "\tLoss:\t418.878\n"
     ]
    },
    {
     "name": "stderr",
     "output_type": "stream",
     "text": [
      "100%|██████████| 93/93 [00:03<00:00, 25.18it/s]\n",
      "100%|██████████| 12/12 [00:00<00:00, 68.45it/s]\n",
      "  0%|          | 0/93 [00:00<?, ?it/s]"
     ]
    },
    {
     "name": "stdout",
     "output_type": "stream",
     "text": [
      "\tLoss:\t418.096\n"
     ]
    },
    {
     "name": "stderr",
     "output_type": "stream",
     "text": [
      "100%|██████████| 93/93 [00:03<00:00, 25.81it/s]\n",
      "100%|██████████| 12/12 [00:00<00:00, 70.66it/s]\n",
      "  0%|          | 0/93 [00:00<?, ?it/s]"
     ]
    },
    {
     "name": "stdout",
     "output_type": "stream",
     "text": [
      "\tLoss:\t417.669\n"
     ]
    },
    {
     "name": "stderr",
     "output_type": "stream",
     "text": [
      "100%|██████████| 93/93 [00:03<00:00, 25.54it/s]\n",
      "100%|██████████| 12/12 [00:00<00:00, 73.48it/s]\n",
      "  0%|          | 0/93 [00:00<?, ?it/s]"
     ]
    },
    {
     "name": "stdout",
     "output_type": "stream",
     "text": [
      "\tLoss:\t417.343\n"
     ]
    },
    {
     "name": "stderr",
     "output_type": "stream",
     "text": [
      "100%|██████████| 93/93 [00:03<00:00, 25.47it/s]\n",
      "100%|██████████| 12/12 [00:00<00:00, 71.32it/s]"
     ]
    },
    {
     "name": "stdout",
     "output_type": "stream",
     "text": [
      "\tLoss:\t417.741\n",
      "-------------------------------------------------------\n"
     ]
    },
    {
     "name": "stderr",
     "output_type": "stream",
     "text": [
      "\n"
     ]
    },
    {
     "data": {
      "application/vnd.jupyter.widget-view+json": {
       "model_id": "797c5145b29e4544b6e6663bcfdafb80",
       "version_major": 2,
       "version_minor": 0
      },
      "text/plain": [
       "  0%|          | 0/2260 [00:00<?, ?it/s]"
      ]
     },
     "metadata": {},
     "output_type": "display_data"
    },
    {
     "data": {
      "application/vnd.jupyter.widget-view+json": {
       "model_id": "512bba52db47453faf4ab37f967099fd",
       "version_major": 2,
       "version_minor": 0
      },
      "text/plain": [
       "  0%|          | 0/12 [00:00<?, ?it/s]"
      ]
     },
     "metadata": {},
     "output_type": "display_data"
    },
    {
     "data": {
      "application/vnd.jupyter.widget-view+json": {
       "model_id": "f5d38e6d51b6498693c919b1a49d4a5d",
       "version_major": 2,
       "version_minor": 0
      },
      "text/plain": [
       "  0%|          | 0/564 [00:00<?, ?it/s]"
      ]
     },
     "metadata": {},
     "output_type": "display_data"
    },
    {
     "data": {
      "application/vnd.jupyter.widget-view+json": {
       "model_id": "f7fbed91b6e444698ca3207a274ce09a",
       "version_major": 2,
       "version_minor": 0
      },
      "text/plain": [
       "  0%|          | 0/12 [00:00<?, ?it/s]"
      ]
     },
     "metadata": {},
     "output_type": "display_data"
    },
    {
     "name": "stderr",
     "output_type": "stream",
     "text": [
      "100%|██████████| 4586/4586 [00:00<00:00, 13009.67it/s]\n",
      "100%|██████████| 564/564 [00:00<00:00, 8805.04it/s]\n",
      "100%|██████████| 92/92 [00:03<00:00, 28.90it/s]\n",
      " 50%|█████     | 6/12 [00:00<00:00, 51.44it/s]"
     ]
    },
    {
     "name": "stdout",
     "output_type": "stream",
     "text": [
      "\tLoss:\t704.568\n"
     ]
    },
    {
     "name": "stderr",
     "output_type": "stream",
     "text": [
      "100%|██████████| 12/12 [00:00<00:00, 53.04it/s]\n",
      "100%|██████████| 92/92 [00:03<00:00, 29.25it/s]\n",
      " 50%|█████     | 6/12 [00:00<00:00, 53.23it/s]"
     ]
    },
    {
     "name": "stdout",
     "output_type": "stream",
     "text": [
      "\tLoss:\t483.262\n"
     ]
    },
    {
     "name": "stderr",
     "output_type": "stream",
     "text": [
      "100%|██████████| 12/12 [00:00<00:00, 54.67it/s]\n",
      "100%|██████████| 92/92 [00:03<00:00, 29.23it/s]\n",
      " 50%|█████     | 6/12 [00:00<00:00, 53.35it/s]"
     ]
    },
    {
     "name": "stdout",
     "output_type": "stream",
     "text": [
      "\tLoss:\t433.484\n"
     ]
    },
    {
     "name": "stderr",
     "output_type": "stream",
     "text": [
      "100%|██████████| 12/12 [00:00<00:00, 55.06it/s]\n",
      "100%|██████████| 92/92 [00:03<00:00, 29.54it/s]\n",
      " 50%|█████     | 6/12 [00:00<00:00, 50.81it/s]"
     ]
    },
    {
     "name": "stdout",
     "output_type": "stream",
     "text": [
      "\tLoss:\t425.092\n"
     ]
    },
    {
     "name": "stderr",
     "output_type": "stream",
     "text": [
      "100%|██████████| 12/12 [00:00<00:00, 53.56it/s]\n",
      "100%|██████████| 92/92 [00:03<00:00, 29.45it/s]\n",
      " 50%|█████     | 6/12 [00:00<00:00, 53.31it/s]"
     ]
    },
    {
     "name": "stdout",
     "output_type": "stream",
     "text": [
      "\tLoss:\t419.098\n"
     ]
    },
    {
     "name": "stderr",
     "output_type": "stream",
     "text": [
      "100%|██████████| 12/12 [00:00<00:00, 55.79it/s]\n",
      "100%|██████████| 92/92 [00:03<00:00, 29.39it/s]\n",
      " 50%|█████     | 6/12 [00:00<00:00, 52.83it/s]"
     ]
    },
    {
     "name": "stdout",
     "output_type": "stream",
     "text": [
      "\tLoss:\t412.765\n"
     ]
    },
    {
     "name": "stderr",
     "output_type": "stream",
     "text": [
      "100%|██████████| 12/12 [00:00<00:00, 53.43it/s]\n",
      "100%|██████████| 92/92 [00:03<00:00, 29.29it/s]\n",
      " 50%|█████     | 6/12 [00:00<00:00, 50.26it/s]"
     ]
    },
    {
     "name": "stdout",
     "output_type": "stream",
     "text": [
      "\tLoss:\t411.915\n"
     ]
    },
    {
     "name": "stderr",
     "output_type": "stream",
     "text": [
      "100%|██████████| 12/12 [00:00<00:00, 52.29it/s]\n",
      "100%|██████████| 92/92 [00:03<00:00, 29.95it/s]\n",
      " 50%|█████     | 6/12 [00:00<00:00, 51.49it/s]"
     ]
    },
    {
     "name": "stdout",
     "output_type": "stream",
     "text": [
      "\tLoss:\t411.531\n"
     ]
    },
    {
     "name": "stderr",
     "output_type": "stream",
     "text": [
      "100%|██████████| 12/12 [00:00<00:00, 55.60it/s]\n",
      "100%|██████████| 92/92 [00:03<00:00, 29.81it/s]\n",
      " 50%|█████     | 6/12 [00:00<00:00, 51.04it/s]"
     ]
    },
    {
     "name": "stdout",
     "output_type": "stream",
     "text": [
      "\tLoss:\t410.963\n"
     ]
    },
    {
     "name": "stderr",
     "output_type": "stream",
     "text": [
      "100%|██████████| 12/12 [00:00<00:00, 53.96it/s]\n",
      "100%|██████████| 92/92 [00:03<00:00, 29.44it/s]\n",
      " 42%|████▏     | 5/12 [00:00<00:00, 49.76it/s]"
     ]
    },
    {
     "name": "stdout",
     "output_type": "stream",
     "text": [
      "\tLoss:\t410.838\n"
     ]
    },
    {
     "name": "stderr",
     "output_type": "stream",
     "text": [
      "100%|██████████| 12/12 [00:00<00:00, 52.19it/s]\n",
      "100%|██████████| 92/92 [00:03<00:00, 29.15it/s]\n",
      " 50%|█████     | 6/12 [00:00<00:00, 53.38it/s]"
     ]
    },
    {
     "name": "stdout",
     "output_type": "stream",
     "text": [
      "\tLoss:\t410.666\n"
     ]
    },
    {
     "name": "stderr",
     "output_type": "stream",
     "text": [
      "100%|██████████| 12/12 [00:00<00:00, 55.42it/s]\n",
      "100%|██████████| 92/92 [00:03<00:00, 29.61it/s]\n",
      " 50%|█████     | 6/12 [00:00<00:00, 52.55it/s]"
     ]
    },
    {
     "name": "stdout",
     "output_type": "stream",
     "text": [
      "\tLoss:\t410.732\n"
     ]
    },
    {
     "name": "stderr",
     "output_type": "stream",
     "text": [
      "100%|██████████| 12/12 [00:00<00:00, 53.49it/s]"
     ]
    },
    {
     "name": "stdout",
     "output_type": "stream",
     "text": [
      "-------------------------------------------------------\n"
     ]
    },
    {
     "name": "stderr",
     "output_type": "stream",
     "text": [
      "\n"
     ]
    },
    {
     "data": {
      "application/vnd.jupyter.widget-view+json": {
       "model_id": "82309bc754dc4acfb2ac4d21571ef28b",
       "version_major": 2,
       "version_minor": 0
      },
      "text/plain": [
       "  0%|          | 0/2260 [00:00<?, ?it/s]"
      ]
     },
     "metadata": {},
     "output_type": "display_data"
    },
    {
     "data": {
      "application/vnd.jupyter.widget-view+json": {
       "model_id": "9ed6686b1b8d4a99957929d0442dbf80",
       "version_major": 2,
       "version_minor": 0
      },
      "text/plain": [
       "  0%|          | 0/12 [00:00<?, ?it/s]"
      ]
     },
     "metadata": {},
     "output_type": "display_data"
    },
    {
     "data": {
      "application/vnd.jupyter.widget-view+json": {
       "model_id": "1111e00bbc784f4db654a777b122ec0a",
       "version_major": 2,
       "version_minor": 0
      },
      "text/plain": [
       "  0%|          | 0/564 [00:00<?, ?it/s]"
      ]
     },
     "metadata": {},
     "output_type": "display_data"
    },
    {
     "data": {
      "application/vnd.jupyter.widget-view+json": {
       "model_id": "43a0ed9cc7db46a5aecc8817f0dc49d0",
       "version_major": 2,
       "version_minor": 0
      },
      "text/plain": [
       "  0%|          | 0/12 [00:00<?, ?it/s]"
      ]
     },
     "metadata": {},
     "output_type": "display_data"
    },
    {
     "name": "stderr",
     "output_type": "stream",
     "text": [
      " 33%|███▎      | 1495/4536 [00:00<00:00, 14941.61it/s]"
     ]
    },
    {
     "name": "stdout",
     "output_type": "stream",
     "text": [
      "\n",
      "SR-GNN Score:  49.03070046783436 39.84645586608671\n",
      "SR-GNN Last Score:  49.148988208462534 39.85774601779054\n",
      "CKNN Score:  40.07160763099692 24.28932932064422\n",
      "Proposed Method Score:  54.585128428000964 40.53196971328937\n"
     ]
    },
    {
     "name": "stderr",
     "output_type": "stream",
     "text": [
      "100%|██████████| 4536/4536 [00:00<00:00, 9233.41it/s] \n",
      "100%|██████████| 560/560 [00:00<00:00, 10471.97it/s]\n",
      "100%|██████████| 91/91 [00:03<00:00, 24.00it/s]\n",
      "100%|██████████| 12/12 [00:00<00:00, 61.73it/s]\n"
     ]
    },
    {
     "name": "stdout",
     "output_type": "stream",
     "text": [
      "\tLoss:\t714.052\n"
     ]
    },
    {
     "name": "stderr",
     "output_type": "stream",
     "text": [
      "100%|██████████| 91/91 [00:03<00:00, 25.70it/s]\n",
      "100%|██████████| 12/12 [00:00<00:00, 69.54it/s]\n",
      "  0%|          | 0/91 [00:00<?, ?it/s]"
     ]
    },
    {
     "name": "stdout",
     "output_type": "stream",
     "text": [
      "\tLoss:\t470.529\n"
     ]
    },
    {
     "name": "stderr",
     "output_type": "stream",
     "text": [
      "100%|██████████| 91/91 [00:03<00:00, 25.50it/s]\n",
      "100%|██████████| 12/12 [00:00<00:00, 68.18it/s]\n",
      "  0%|          | 0/91 [00:00<?, ?it/s]"
     ]
    },
    {
     "name": "stdout",
     "output_type": "stream",
     "text": [
      "\tLoss:\t422.399\n"
     ]
    },
    {
     "name": "stderr",
     "output_type": "stream",
     "text": [
      "100%|██████████| 91/91 [00:03<00:00, 26.04it/s]\n",
      "100%|██████████| 12/12 [00:00<00:00, 65.32it/s]\n",
      "  0%|          | 0/91 [00:00<?, ?it/s]"
     ]
    },
    {
     "name": "stdout",
     "output_type": "stream",
     "text": [
      "\tLoss:\t414.914\n"
     ]
    },
    {
     "name": "stderr",
     "output_type": "stream",
     "text": [
      "100%|██████████| 91/91 [00:03<00:00, 25.18it/s]\n",
      "100%|██████████| 12/12 [00:00<00:00, 62.24it/s]\n"
     ]
    },
    {
     "name": "stdout",
     "output_type": "stream",
     "text": [
      "\tLoss:\t409.680\n"
     ]
    },
    {
     "name": "stderr",
     "output_type": "stream",
     "text": [
      "100%|██████████| 91/91 [00:03<00:00, 25.19it/s]\n",
      "100%|██████████| 12/12 [00:00<00:00, 67.07it/s]\n",
      "  0%|          | 0/91 [00:00<?, ?it/s]"
     ]
    },
    {
     "name": "stdout",
     "output_type": "stream",
     "text": [
      "\tLoss:\t404.528\n"
     ]
    },
    {
     "name": "stderr",
     "output_type": "stream",
     "text": [
      "100%|██████████| 91/91 [00:03<00:00, 25.90it/s]\n",
      "100%|██████████| 12/12 [00:00<00:00, 65.24it/s]\n",
      "  0%|          | 0/91 [00:00<?, ?it/s]"
     ]
    },
    {
     "name": "stdout",
     "output_type": "stream",
     "text": [
      "\tLoss:\t403.913\n"
     ]
    },
    {
     "name": "stderr",
     "output_type": "stream",
     "text": [
      "100%|██████████| 91/91 [00:03<00:00, 25.28it/s]\n",
      "100%|██████████| 12/12 [00:00<00:00, 68.80it/s]\n",
      "  0%|          | 0/91 [00:00<?, ?it/s]"
     ]
    },
    {
     "name": "stdout",
     "output_type": "stream",
     "text": [
      "\tLoss:\t403.447\n"
     ]
    },
    {
     "name": "stderr",
     "output_type": "stream",
     "text": [
      "100%|██████████| 91/91 [00:03<00:00, 25.32it/s]\n",
      "100%|██████████| 12/12 [00:00<00:00, 66.50it/s]\n",
      "  0%|          | 0/91 [00:00<?, ?it/s]"
     ]
    },
    {
     "name": "stdout",
     "output_type": "stream",
     "text": [
      "\tLoss:\t402.822\n"
     ]
    },
    {
     "name": "stderr",
     "output_type": "stream",
     "text": [
      "100%|██████████| 91/91 [00:03<00:00, 24.14it/s]\n",
      "100%|██████████| 12/12 [00:00<00:00, 67.59it/s]\n",
      "  0%|          | 0/91 [00:00<?, ?it/s]"
     ]
    },
    {
     "name": "stdout",
     "output_type": "stream",
     "text": [
      "\tLoss:\t402.875\n"
     ]
    },
    {
     "name": "stderr",
     "output_type": "stream",
     "text": [
      "100%|██████████| 91/91 [00:03<00:00, 25.89it/s]\n",
      "100%|██████████| 12/12 [00:00<00:00, 68.73it/s]\n",
      "  0%|          | 0/91 [00:00<?, ?it/s]"
     ]
    },
    {
     "name": "stdout",
     "output_type": "stream",
     "text": [
      "\tLoss:\t402.582\n"
     ]
    },
    {
     "name": "stderr",
     "output_type": "stream",
     "text": [
      "100%|██████████| 91/91 [00:03<00:00, 25.88it/s]\n",
      "100%|██████████| 12/12 [00:00<00:00, 59.81it/s]"
     ]
    },
    {
     "name": "stdout",
     "output_type": "stream",
     "text": [
      "\tLoss:\t402.536\n"
     ]
    },
    {
     "name": "stderr",
     "output_type": "stream",
     "text": [
      "\n",
      "100%|██████████| 91/91 [00:03<00:00, 25.53it/s]\n",
      "100%|██████████| 12/12 [00:00<00:00, 66.96it/s]"
     ]
    },
    {
     "name": "stdout",
     "output_type": "stream",
     "text": [
      "\tLoss:\t402.714\n",
      "-------------------------------------------------------\n"
     ]
    },
    {
     "name": "stderr",
     "output_type": "stream",
     "text": [
      "\n"
     ]
    },
    {
     "data": {
      "application/vnd.jupyter.widget-view+json": {
       "model_id": "994ac7f02977465090d119153aeaf102",
       "version_major": 2,
       "version_minor": 0
      },
      "text/plain": [
       "  0%|          | 0/2260 [00:00<?, ?it/s]"
      ]
     },
     "metadata": {},
     "output_type": "display_data"
    },
    {
     "data": {
      "application/vnd.jupyter.widget-view+json": {
       "model_id": "00705ba35bb847fa8b210db02bdb863d",
       "version_major": 2,
       "version_minor": 0
      },
      "text/plain": [
       "  0%|          | 0/12 [00:00<?, ?it/s]"
      ]
     },
     "metadata": {},
     "output_type": "display_data"
    },
    {
     "data": {
      "application/vnd.jupyter.widget-view+json": {
       "model_id": "69a11e9b8bbd4ca38fa07bcee0b83edd",
       "version_major": 2,
       "version_minor": 0
      },
      "text/plain": [
       "  0%|          | 0/560 [00:00<?, ?it/s]"
      ]
     },
     "metadata": {},
     "output_type": "display_data"
    },
    {
     "data": {
      "application/vnd.jupyter.widget-view+json": {
       "model_id": "b21479185e994e8fad53f1af9865bd37",
       "version_major": 2,
       "version_minor": 0
      },
      "text/plain": [
       "  0%|          | 0/12 [00:00<?, ?it/s]"
      ]
     },
     "metadata": {},
     "output_type": "display_data"
    },
    {
     "name": "stderr",
     "output_type": "stream",
     "text": [
      "100%|██████████| 4565/4565 [00:00<00:00, 5795.88it/s]\n",
      "100%|██████████| 564/564 [00:00<00:00, 11732.44it/s]\n",
      "100%|██████████| 92/92 [00:03<00:00, 26.19it/s]\n",
      "100%|██████████| 12/12 [00:00<00:00, 61.68it/s]\n"
     ]
    },
    {
     "name": "stdout",
     "output_type": "stream",
     "text": [
      "\tLoss:\t713.228\n"
     ]
    },
    {
     "name": "stderr",
     "output_type": "stream",
     "text": [
      "100%|██████████| 92/92 [00:03<00:00, 25.98it/s]\n",
      "100%|██████████| 12/12 [00:00<00:00, 64.48it/s]\n"
     ]
    },
    {
     "name": "stdout",
     "output_type": "stream",
     "text": [
      "\tLoss:\t481.880\n"
     ]
    },
    {
     "name": "stderr",
     "output_type": "stream",
     "text": [
      "100%|██████████| 92/92 [00:03<00:00, 26.19it/s]\n",
      "100%|██████████| 12/12 [00:00<00:00, 68.28it/s]\n",
      "  0%|          | 0/92 [00:00<?, ?it/s]"
     ]
    },
    {
     "name": "stdout",
     "output_type": "stream",
     "text": [
      "\tLoss:\t435.787\n"
     ]
    },
    {
     "name": "stderr",
     "output_type": "stream",
     "text": [
      "100%|██████████| 92/92 [00:03<00:00, 26.03it/s]\n",
      "100%|██████████| 12/12 [00:00<00:00, 64.45it/s]\n",
      "  0%|          | 0/92 [00:00<?, ?it/s]"
     ]
    },
    {
     "name": "stdout",
     "output_type": "stream",
     "text": [
      "\tLoss:\t428.612\n"
     ]
    },
    {
     "name": "stderr",
     "output_type": "stream",
     "text": [
      "100%|██████████| 92/92 [00:03<00:00, 25.94it/s]\n",
      "100%|██████████| 12/12 [00:00<00:00, 65.77it/s]\n",
      "  0%|          | 0/92 [00:00<?, ?it/s]"
     ]
    },
    {
     "name": "stdout",
     "output_type": "stream",
     "text": [
      "\tLoss:\t424.408\n"
     ]
    },
    {
     "name": "stderr",
     "output_type": "stream",
     "text": [
      "100%|██████████| 92/92 [00:03<00:00, 26.11it/s]\n",
      "100%|██████████| 12/12 [00:00<00:00, 63.78it/s]\n",
      "  0%|          | 0/92 [00:00<?, ?it/s]"
     ]
    },
    {
     "name": "stdout",
     "output_type": "stream",
     "text": [
      "\tLoss:\t418.385\n"
     ]
    },
    {
     "name": "stderr",
     "output_type": "stream",
     "text": [
      "100%|██████████| 92/92 [00:03<00:00, 26.24it/s]\n",
      "100%|██████████| 12/12 [00:00<00:00, 66.42it/s]\n",
      "  0%|          | 0/92 [00:00<?, ?it/s]"
     ]
    },
    {
     "name": "stdout",
     "output_type": "stream",
     "text": [
      "\tLoss:\t417.739\n"
     ]
    },
    {
     "name": "stderr",
     "output_type": "stream",
     "text": [
      "100%|██████████| 92/92 [00:03<00:00, 26.49it/s]\n",
      "100%|██████████| 12/12 [00:00<00:00, 63.56it/s]\n",
      "  0%|          | 0/92 [00:00<?, ?it/s]"
     ]
    },
    {
     "name": "stdout",
     "output_type": "stream",
     "text": [
      "\tLoss:\t417.380\n"
     ]
    },
    {
     "name": "stderr",
     "output_type": "stream",
     "text": [
      "100%|██████████| 92/92 [00:03<00:00, 25.85it/s]\n",
      "100%|██████████| 12/12 [00:00<00:00, 65.15it/s]\n",
      "  0%|          | 0/92 [00:00<?, ?it/s]"
     ]
    },
    {
     "name": "stdout",
     "output_type": "stream",
     "text": [
      "\tLoss:\t416.765\n"
     ]
    },
    {
     "name": "stderr",
     "output_type": "stream",
     "text": [
      "100%|██████████| 92/92 [00:03<00:00, 26.09it/s]\n",
      "100%|██████████| 12/12 [00:00<00:00, 64.48it/s]\n",
      "  0%|          | 0/92 [00:00<?, ?it/s]"
     ]
    },
    {
     "name": "stdout",
     "output_type": "stream",
     "text": [
      "\tLoss:\t417.131\n"
     ]
    },
    {
     "name": "stderr",
     "output_type": "stream",
     "text": [
      "100%|██████████| 92/92 [00:03<00:00, 26.17it/s]\n",
      "100%|██████████| 12/12 [00:00<00:00, 64.53it/s]\n",
      "  0%|          | 0/92 [00:00<?, ?it/s]"
     ]
    },
    {
     "name": "stdout",
     "output_type": "stream",
     "text": [
      "\tLoss:\t417.435\n"
     ]
    },
    {
     "name": "stderr",
     "output_type": "stream",
     "text": [
      "100%|██████████| 92/92 [00:03<00:00, 26.64it/s]\n",
      "100%|██████████| 12/12 [00:00<00:00, 64.80it/s]\n",
      "  0%|          | 0/92 [00:00<?, ?it/s]"
     ]
    },
    {
     "name": "stdout",
     "output_type": "stream",
     "text": [
      "\tLoss:\t416.120\n"
     ]
    },
    {
     "name": "stderr",
     "output_type": "stream",
     "text": [
      "100%|██████████| 92/92 [00:03<00:00, 26.52it/s]\n",
      "100%|██████████| 12/12 [00:00<00:00, 65.29it/s]\n",
      "  0%|          | 0/92 [00:00<?, ?it/s]"
     ]
    },
    {
     "name": "stdout",
     "output_type": "stream",
     "text": [
      "\tLoss:\t416.617\n"
     ]
    },
    {
     "name": "stderr",
     "output_type": "stream",
     "text": [
      "100%|██████████| 92/92 [00:03<00:00, 25.84it/s]\n",
      "100%|██████████| 12/12 [00:00<00:00, 66.07it/s]"
     ]
    },
    {
     "name": "stdout",
     "output_type": "stream",
     "text": [
      "\tLoss:\t417.134\n",
      "-------------------------------------------------------\n"
     ]
    },
    {
     "name": "stderr",
     "output_type": "stream",
     "text": [
      "\n"
     ]
    },
    {
     "data": {
      "application/vnd.jupyter.widget-view+json": {
       "model_id": "5e2aaabb82f34aa9913a631ee49bbe91",
       "version_major": 2,
       "version_minor": 0
      },
      "text/plain": [
       "  0%|          | 0/2260 [00:00<?, ?it/s]"
      ]
     },
     "metadata": {},
     "output_type": "display_data"
    },
    {
     "data": {
      "application/vnd.jupyter.widget-view+json": {
       "model_id": "7c32a579864948dcb9d74694255e4c74",
       "version_major": 2,
       "version_minor": 0
      },
      "text/plain": [
       "  0%|          | 0/12 [00:00<?, ?it/s]"
      ]
     },
     "metadata": {},
     "output_type": "display_data"
    },
    {
     "data": {
      "application/vnd.jupyter.widget-view+json": {
       "model_id": "5b6963f69c9b4de9bdff26637bd30654",
       "version_major": 2,
       "version_minor": 0
      },
      "text/plain": [
       "  0%|          | 0/564 [00:00<?, ?it/s]"
      ]
     },
     "metadata": {},
     "output_type": "display_data"
    },
    {
     "data": {
      "application/vnd.jupyter.widget-view+json": {
       "model_id": "c370ffe583f54e5abc3a9920e774ca0e",
       "version_major": 2,
       "version_minor": 0
      },
      "text/plain": [
       "  0%|          | 0/12 [00:00<?, ?it/s]"
      ]
     },
     "metadata": {},
     "output_type": "display_data"
    },
    {
     "name": "stderr",
     "output_type": "stream",
     "text": [
      "100%|██████████| 4621/4621 [00:00<00:00, 7660.17it/s]\n",
      "100%|██████████| 563/563 [00:00<00:00, 12071.14it/s]\n",
      "100%|██████████| 93/93 [00:03<00:00, 25.74it/s]\n",
      "100%|██████████| 12/12 [00:00<00:00, 72.48it/s]\n",
      "  0%|          | 0/93 [00:00<?, ?it/s]"
     ]
    },
    {
     "name": "stdout",
     "output_type": "stream",
     "text": [
      "\tLoss:\t710.149\n"
     ]
    },
    {
     "name": "stderr",
     "output_type": "stream",
     "text": [
      "100%|██████████| 93/93 [00:03<00:00, 26.16it/s]\n",
      "100%|██████████| 12/12 [00:00<00:00, 71.95it/s]\n",
      "  0%|          | 0/93 [00:00<?, ?it/s]"
     ]
    },
    {
     "name": "stdout",
     "output_type": "stream",
     "text": [
      "\tLoss:\t491.009\n"
     ]
    },
    {
     "name": "stderr",
     "output_type": "stream",
     "text": [
      "100%|██████████| 93/93 [00:03<00:00, 26.22it/s]\n",
      "100%|██████████| 12/12 [00:00<00:00, 71.74it/s]\n",
      "  0%|          | 0/93 [00:00<?, ?it/s]"
     ]
    },
    {
     "name": "stdout",
     "output_type": "stream",
     "text": [
      "\tLoss:\t441.058\n"
     ]
    },
    {
     "name": "stderr",
     "output_type": "stream",
     "text": [
      "100%|██████████| 93/93 [00:03<00:00, 26.48it/s]\n",
      "100%|██████████| 12/12 [00:00<00:00, 71.69it/s]\n",
      "  0%|          | 0/93 [00:00<?, ?it/s]"
     ]
    },
    {
     "name": "stdout",
     "output_type": "stream",
     "text": [
      "\tLoss:\t432.136\n"
     ]
    },
    {
     "name": "stderr",
     "output_type": "stream",
     "text": [
      "100%|██████████| 93/93 [00:03<00:00, 26.34it/s]\n",
      "100%|██████████| 12/12 [00:00<00:00, 71.13it/s]\n",
      "  0%|          | 0/93 [00:00<?, ?it/s]"
     ]
    },
    {
     "name": "stdout",
     "output_type": "stream",
     "text": [
      "\tLoss:\t425.841\n"
     ]
    },
    {
     "name": "stderr",
     "output_type": "stream",
     "text": [
      "100%|██████████| 93/93 [00:03<00:00, 25.86it/s]\n",
      "100%|██████████| 12/12 [00:00<00:00, 71.99it/s]\n",
      "  0%|          | 0/93 [00:00<?, ?it/s]"
     ]
    },
    {
     "name": "stdout",
     "output_type": "stream",
     "text": [
      "\tLoss:\t420.142\n"
     ]
    },
    {
     "name": "stderr",
     "output_type": "stream",
     "text": [
      "100%|██████████| 93/93 [00:03<00:00, 26.66it/s]\n",
      "100%|██████████| 12/12 [00:00<00:00, 72.08it/s]\n",
      "  0%|          | 0/93 [00:00<?, ?it/s]"
     ]
    },
    {
     "name": "stdout",
     "output_type": "stream",
     "text": [
      "\tLoss:\t419.488\n"
     ]
    },
    {
     "name": "stderr",
     "output_type": "stream",
     "text": [
      "100%|██████████| 93/93 [00:03<00:00, 25.83it/s]\n",
      "100%|██████████| 12/12 [00:00<00:00, 71.39it/s]\n",
      "  0%|          | 0/93 [00:00<?, ?it/s]"
     ]
    },
    {
     "name": "stdout",
     "output_type": "stream",
     "text": [
      "\tLoss:\t418.519\n"
     ]
    },
    {
     "name": "stderr",
     "output_type": "stream",
     "text": [
      "100%|██████████| 93/93 [00:03<00:00, 26.22it/s]\n",
      "100%|██████████| 12/12 [00:00<00:00, 70.76it/s]\n",
      "  0%|          | 0/93 [00:00<?, ?it/s]"
     ]
    },
    {
     "name": "stdout",
     "output_type": "stream",
     "text": [
      "\tLoss:\t418.032\n"
     ]
    },
    {
     "name": "stderr",
     "output_type": "stream",
     "text": [
      "100%|██████████| 93/93 [00:03<00:00, 26.54it/s]\n",
      "100%|██████████| 12/12 [00:00<00:00, 70.96it/s]\n",
      "  0%|          | 0/93 [00:00<?, ?it/s]"
     ]
    },
    {
     "name": "stdout",
     "output_type": "stream",
     "text": [
      "\tLoss:\t418.130\n"
     ]
    },
    {
     "name": "stderr",
     "output_type": "stream",
     "text": [
      "100%|██████████| 93/93 [00:03<00:00, 25.55it/s]\n",
      "100%|██████████| 12/12 [00:00<00:00, 70.54it/s]\n",
      "  0%|          | 0/93 [00:00<?, ?it/s]"
     ]
    },
    {
     "name": "stdout",
     "output_type": "stream",
     "text": [
      "\tLoss:\t417.580\n"
     ]
    },
    {
     "name": "stderr",
     "output_type": "stream",
     "text": [
      "100%|██████████| 93/93 [00:03<00:00, 25.65it/s]\n",
      "100%|██████████| 12/12 [00:00<00:00, 70.77it/s]\n",
      "  0%|          | 0/93 [00:00<?, ?it/s]"
     ]
    },
    {
     "name": "stdout",
     "output_type": "stream",
     "text": [
      "\tLoss:\t417.952\n"
     ]
    },
    {
     "name": "stderr",
     "output_type": "stream",
     "text": [
      "100%|██████████| 93/93 [00:03<00:00, 25.61it/s]\n",
      "100%|██████████| 12/12 [00:00<00:00, 70.84it/s]\n",
      "  0%|          | 0/93 [00:00<?, ?it/s]"
     ]
    },
    {
     "name": "stdout",
     "output_type": "stream",
     "text": [
      "\tLoss:\t418.374\n"
     ]
    },
    {
     "name": "stderr",
     "output_type": "stream",
     "text": [
      "100%|██████████| 93/93 [00:03<00:00, 25.09it/s]\n",
      "100%|██████████| 12/12 [00:00<00:00, 70.05it/s]"
     ]
    },
    {
     "name": "stdout",
     "output_type": "stream",
     "text": [
      "\tLoss:\t417.450\n",
      "-------------------------------------------------------\n"
     ]
    },
    {
     "name": "stderr",
     "output_type": "stream",
     "text": [
      "\n"
     ]
    },
    {
     "data": {
      "application/vnd.jupyter.widget-view+json": {
       "model_id": "815baef2bb7f4b5b858f14c4c251ff8b",
       "version_major": 2,
       "version_minor": 0
      },
      "text/plain": [
       "  0%|          | 0/2260 [00:00<?, ?it/s]"
      ]
     },
     "metadata": {},
     "output_type": "display_data"
    },
    {
     "data": {
      "application/vnd.jupyter.widget-view+json": {
       "model_id": "04e0ce51aa384598a279096945ca6232",
       "version_major": 2,
       "version_minor": 0
      },
      "text/plain": [
       "  0%|          | 0/12 [00:00<?, ?it/s]"
      ]
     },
     "metadata": {},
     "output_type": "display_data"
    },
    {
     "data": {
      "application/vnd.jupyter.widget-view+json": {
       "model_id": "dd2587bc29f441bebfb204097281a045",
       "version_major": 2,
       "version_minor": 0
      },
      "text/plain": [
       "  0%|          | 0/563 [00:00<?, ?it/s]"
      ]
     },
     "metadata": {},
     "output_type": "display_data"
    },
    {
     "data": {
      "application/vnd.jupyter.widget-view+json": {
       "model_id": "094ea70407c14abf99f57213dc80f53c",
       "version_major": 2,
       "version_minor": 0
      },
      "text/plain": [
       "  0%|          | 0/12 [00:00<?, ?it/s]"
      ]
     },
     "metadata": {},
     "output_type": "display_data"
    },
    {
     "name": "stderr",
     "output_type": "stream",
     "text": [
      "100%|██████████| 4628/4628 [00:00<00:00, 11339.71it/s]\n",
      "100%|██████████| 564/564 [00:00<00:00, 13609.33it/s]\n",
      "100%|██████████| 93/93 [00:03<00:00, 25.44it/s]\n",
      "100%|██████████| 12/12 [00:00<00:00, 66.81it/s]\n",
      "  0%|          | 0/93 [00:00<?, ?it/s]"
     ]
    },
    {
     "name": "stdout",
     "output_type": "stream",
     "text": [
      "\tLoss:\t732.491\n"
     ]
    },
    {
     "name": "stderr",
     "output_type": "stream",
     "text": [
      "100%|██████████| 93/93 [00:03<00:00, 25.96it/s]\n",
      "100%|██████████| 12/12 [00:00<00:00, 71.58it/s]\n",
      "  0%|          | 0/93 [00:00<?, ?it/s]"
     ]
    },
    {
     "name": "stdout",
     "output_type": "stream",
     "text": [
      "\tLoss:\t489.160\n"
     ]
    },
    {
     "name": "stderr",
     "output_type": "stream",
     "text": [
      "100%|██████████| 93/93 [00:03<00:00, 25.84it/s]\n",
      "100%|██████████| 12/12 [00:00<00:00, 68.73it/s]\n",
      "  0%|          | 0/93 [00:00<?, ?it/s]"
     ]
    },
    {
     "name": "stdout",
     "output_type": "stream",
     "text": [
      "\tLoss:\t437.119\n"
     ]
    },
    {
     "name": "stderr",
     "output_type": "stream",
     "text": [
      "100%|██████████| 93/93 [00:03<00:00, 26.00it/s]\n",
      "100%|██████████| 12/12 [00:00<00:00, 70.71it/s]\n",
      "  0%|          | 0/93 [00:00<?, ?it/s]"
     ]
    },
    {
     "name": "stdout",
     "output_type": "stream",
     "text": [
      "\tLoss:\t429.729\n"
     ]
    },
    {
     "name": "stderr",
     "output_type": "stream",
     "text": [
      "100%|██████████| 93/93 [00:03<00:00, 25.98it/s]\n",
      "100%|██████████| 12/12 [00:00<00:00, 70.89it/s]\n",
      "  0%|          | 0/93 [00:00<?, ?it/s]"
     ]
    },
    {
     "name": "stdout",
     "output_type": "stream",
     "text": [
      "\tLoss:\t423.603\n"
     ]
    },
    {
     "name": "stderr",
     "output_type": "stream",
     "text": [
      "100%|██████████| 93/93 [00:03<00:00, 26.17it/s]\n",
      "100%|██████████| 12/12 [00:00<00:00, 70.64it/s]\n",
      "  0%|          | 0/93 [00:00<?, ?it/s]"
     ]
    },
    {
     "name": "stdout",
     "output_type": "stream",
     "text": [
      "\tLoss:\t417.076\n"
     ]
    },
    {
     "name": "stderr",
     "output_type": "stream",
     "text": [
      "100%|██████████| 93/93 [00:03<00:00, 26.51it/s]\n",
      "100%|██████████| 12/12 [00:00<00:00, 71.74it/s]\n",
      "  0%|          | 0/93 [00:00<?, ?it/s]"
     ]
    },
    {
     "name": "stdout",
     "output_type": "stream",
     "text": [
      "\tLoss:\t417.082\n"
     ]
    },
    {
     "name": "stderr",
     "output_type": "stream",
     "text": [
      "100%|██████████| 93/93 [00:03<00:00, 26.31it/s]\n",
      "100%|██████████| 12/12 [00:00<00:00, 72.83it/s]\n",
      "  0%|          | 0/93 [00:00<?, ?it/s]"
     ]
    },
    {
     "name": "stdout",
     "output_type": "stream",
     "text": [
      "\tLoss:\t416.381\n"
     ]
    },
    {
     "name": "stderr",
     "output_type": "stream",
     "text": [
      "100%|██████████| 93/93 [00:03<00:00, 25.79it/s]\n",
      "100%|██████████| 12/12 [00:00<00:00, 66.62it/s]\n",
      "  0%|          | 0/93 [00:00<?, ?it/s]"
     ]
    },
    {
     "name": "stdout",
     "output_type": "stream",
     "text": [
      "\tLoss:\t415.790\n"
     ]
    },
    {
     "name": "stderr",
     "output_type": "stream",
     "text": [
      "100%|██████████| 93/93 [00:03<00:00, 25.49it/s]\n",
      "100%|██████████| 12/12 [00:00<00:00, 65.26it/s]\n",
      "  0%|          | 0/93 [00:00<?, ?it/s]"
     ]
    },
    {
     "name": "stdout",
     "output_type": "stream",
     "text": [
      "\tLoss:\t415.384\n"
     ]
    },
    {
     "name": "stderr",
     "output_type": "stream",
     "text": [
      "100%|██████████| 93/93 [00:03<00:00, 26.05it/s]\n",
      "100%|██████████| 12/12 [00:00<00:00, 61.03it/s]\n"
     ]
    },
    {
     "name": "stdout",
     "output_type": "stream",
     "text": [
      "\tLoss:\t415.791\n"
     ]
    },
    {
     "name": "stderr",
     "output_type": "stream",
     "text": [
      "100%|██████████| 93/93 [00:03<00:00, 25.67it/s]\n",
      "100%|██████████| 12/12 [00:00<00:00, 67.81it/s]\n",
      "  0%|          | 0/93 [00:00<?, ?it/s]"
     ]
    },
    {
     "name": "stdout",
     "output_type": "stream",
     "text": [
      "\tLoss:\t415.664\n"
     ]
    },
    {
     "name": "stderr",
     "output_type": "stream",
     "text": [
      "100%|██████████| 93/93 [00:03<00:00, 25.40it/s]\n",
      "100%|██████████| 12/12 [00:00<00:00, 68.87it/s]\n",
      "  0%|          | 0/93 [00:00<?, ?it/s]"
     ]
    },
    {
     "name": "stdout",
     "output_type": "stream",
     "text": [
      "\tLoss:\t415.194\n"
     ]
    },
    {
     "name": "stderr",
     "output_type": "stream",
     "text": [
      "100%|██████████| 93/93 [00:03<00:00, 25.58it/s]\n",
      "100%|██████████| 12/12 [00:00<00:00, 69.53it/s]"
     ]
    },
    {
     "name": "stdout",
     "output_type": "stream",
     "text": [
      "\tLoss:\t415.419\n",
      "-------------------------------------------------------\n"
     ]
    },
    {
     "name": "stderr",
     "output_type": "stream",
     "text": [
      "\n"
     ]
    },
    {
     "data": {
      "application/vnd.jupyter.widget-view+json": {
       "model_id": "62b3db88ca974fe19bf1311cbce3094d",
       "version_major": 2,
       "version_minor": 0
      },
      "text/plain": [
       "  0%|          | 0/2260 [00:00<?, ?it/s]"
      ]
     },
     "metadata": {},
     "output_type": "display_data"
    },
    {
     "data": {
      "application/vnd.jupyter.widget-view+json": {
       "model_id": "f2f59d543cd5453a8a5ded248e17c869",
       "version_major": 2,
       "version_minor": 0
      },
      "text/plain": [
       "  0%|          | 0/12 [00:00<?, ?it/s]"
      ]
     },
     "metadata": {},
     "output_type": "display_data"
    },
    {
     "data": {
      "application/vnd.jupyter.widget-view+json": {
       "model_id": "2a2c1fa5100f401b95784acd1b3e3ebd",
       "version_major": 2,
       "version_minor": 0
      },
      "text/plain": [
       "  0%|          | 0/564 [00:00<?, ?it/s]"
      ]
     },
     "metadata": {},
     "output_type": "display_data"
    },
    {
     "data": {
      "application/vnd.jupyter.widget-view+json": {
       "model_id": "f917daa7d8b54b64bcd65c04e517e527",
       "version_major": 2,
       "version_minor": 0
      },
      "text/plain": [
       "  0%|          | 0/12 [00:00<?, ?it/s]"
      ]
     },
     "metadata": {},
     "output_type": "display_data"
    },
    {
     "name": "stderr",
     "output_type": "stream",
     "text": [
      "100%|██████████| 4586/4586 [00:00<00:00, 15508.87it/s]\n",
      "100%|██████████| 564/564 [00:00<00:00, 27468.82it/s]\n",
      "100%|██████████| 92/92 [00:03<00:00, 28.83it/s]\n",
      " 50%|█████     | 6/12 [00:00<00:00, 53.34it/s]"
     ]
    },
    {
     "name": "stdout",
     "output_type": "stream",
     "text": [
      "\tLoss:\t709.470\n"
     ]
    },
    {
     "name": "stderr",
     "output_type": "stream",
     "text": [
      "100%|██████████| 12/12 [00:00<00:00, 54.13it/s]\n",
      "100%|██████████| 92/92 [00:03<00:00, 27.39it/s]\n",
      " 42%|████▏     | 5/12 [00:00<00:00, 43.68it/s]"
     ]
    },
    {
     "name": "stdout",
     "output_type": "stream",
     "text": [
      "\tLoss:\t480.335\n"
     ]
    },
    {
     "name": "stderr",
     "output_type": "stream",
     "text": [
      "100%|██████████| 12/12 [00:00<00:00, 44.74it/s]\n",
      "100%|██████████| 92/92 [00:03<00:00, 27.34it/s]\n",
      " 42%|████▏     | 5/12 [00:00<00:00, 46.13it/s]"
     ]
    },
    {
     "name": "stdout",
     "output_type": "stream",
     "text": [
      "\tLoss:\t432.879\n"
     ]
    },
    {
     "name": "stderr",
     "output_type": "stream",
     "text": [
      "100%|██████████| 12/12 [00:00<00:00, 51.75it/s]\n",
      "100%|██████████| 92/92 [00:03<00:00, 28.47it/s]\n",
      " 50%|█████     | 6/12 [00:00<00:00, 50.87it/s]"
     ]
    },
    {
     "name": "stdout",
     "output_type": "stream",
     "text": [
      "\tLoss:\t425.341\n"
     ]
    },
    {
     "name": "stderr",
     "output_type": "stream",
     "text": [
      "100%|██████████| 12/12 [00:00<00:00, 54.32it/s]\n",
      "100%|██████████| 92/92 [00:03<00:00, 28.69it/s]\n",
      " 50%|█████     | 6/12 [00:00<00:00, 50.06it/s]"
     ]
    },
    {
     "name": "stdout",
     "output_type": "stream",
     "text": [
      "\tLoss:\t419.963\n"
     ]
    },
    {
     "name": "stderr",
     "output_type": "stream",
     "text": [
      "100%|██████████| 12/12 [00:00<00:00, 52.10it/s]\n",
      "100%|██████████| 92/92 [00:03<00:00, 27.84it/s]\n",
      " 42%|████▏     | 5/12 [00:00<00:00, 48.56it/s]"
     ]
    },
    {
     "name": "stdout",
     "output_type": "stream",
     "text": [
      "\tLoss:\t414.465\n"
     ]
    },
    {
     "name": "stderr",
     "output_type": "stream",
     "text": [
      "100%|██████████| 12/12 [00:00<00:00, 53.63it/s]\n",
      "100%|██████████| 92/92 [00:03<00:00, 28.28it/s]\n",
      " 42%|████▏     | 5/12 [00:00<00:00, 42.69it/s]"
     ]
    },
    {
     "name": "stdout",
     "output_type": "stream",
     "text": [
      "\tLoss:\t413.856\n"
     ]
    },
    {
     "name": "stderr",
     "output_type": "stream",
     "text": [
      "100%|██████████| 12/12 [00:00<00:00, 50.00it/s]\n",
      "100%|██████████| 92/92 [00:03<00:00, 29.13it/s]\n",
      " 50%|█████     | 6/12 [00:00<00:00, 51.79it/s]"
     ]
    },
    {
     "name": "stdout",
     "output_type": "stream",
     "text": [
      "\tLoss:\t413.339\n"
     ]
    },
    {
     "name": "stderr",
     "output_type": "stream",
     "text": [
      "100%|██████████| 12/12 [00:00<00:00, 55.77it/s]\n",
      "100%|██████████| 92/92 [00:03<00:00, 29.08it/s]\n",
      " 50%|█████     | 6/12 [00:00<00:00, 51.29it/s]"
     ]
    },
    {
     "name": "stdout",
     "output_type": "stream",
     "text": [
      "\tLoss:\t412.796\n"
     ]
    },
    {
     "name": "stderr",
     "output_type": "stream",
     "text": [
      "100%|██████████| 12/12 [00:00<00:00, 54.62it/s]\n",
      "100%|██████████| 92/92 [00:03<00:00, 28.59it/s]\n",
      " 50%|█████     | 6/12 [00:00<00:00, 52.86it/s]"
     ]
    },
    {
     "name": "stdout",
     "output_type": "stream",
     "text": [
      "\tLoss:\t412.858\n"
     ]
    },
    {
     "name": "stderr",
     "output_type": "stream",
     "text": [
      "100%|██████████| 12/12 [00:00<00:00, 54.93it/s]\n",
      "100%|██████████| 92/92 [00:03<00:00, 29.43it/s]\n",
      " 50%|█████     | 6/12 [00:00<00:00, 51.79it/s]"
     ]
    },
    {
     "name": "stdout",
     "output_type": "stream",
     "text": [
      "\tLoss:\t412.584\n"
     ]
    },
    {
     "name": "stderr",
     "output_type": "stream",
     "text": [
      "100%|██████████| 12/12 [00:00<00:00, 54.58it/s]\n",
      "100%|██████████| 92/92 [00:03<00:00, 28.71it/s]\n",
      " 50%|█████     | 6/12 [00:00<00:00, 52.01it/s]"
     ]
    },
    {
     "name": "stdout",
     "output_type": "stream",
     "text": [
      "\tLoss:\t412.725\n"
     ]
    },
    {
     "name": "stderr",
     "output_type": "stream",
     "text": [
      "100%|██████████| 12/12 [00:00<00:00, 53.33it/s]\n",
      "100%|██████████| 92/92 [00:03<00:00, 29.68it/s]\n",
      " 50%|█████     | 6/12 [00:00<00:00, 51.04it/s]"
     ]
    },
    {
     "name": "stdout",
     "output_type": "stream",
     "text": [
      "\tLoss:\t412.772\n"
     ]
    },
    {
     "name": "stderr",
     "output_type": "stream",
     "text": [
      "100%|██████████| 12/12 [00:00<00:00, 54.08it/s]\n",
      "100%|██████████| 92/92 [00:03<00:00, 29.06it/s]\n",
      " 50%|█████     | 6/12 [00:00<00:00, 51.15it/s]"
     ]
    },
    {
     "name": "stdout",
     "output_type": "stream",
     "text": [
      "\tLoss:\t412.624\n"
     ]
    },
    {
     "name": "stderr",
     "output_type": "stream",
     "text": [
      "100%|██████████| 12/12 [00:00<00:00, 53.08it/s]\n",
      "100%|██████████| 92/92 [00:03<00:00, 28.69it/s]\n",
      " 42%|████▏     | 5/12 [00:00<00:00, 45.71it/s]"
     ]
    },
    {
     "name": "stdout",
     "output_type": "stream",
     "text": [
      "\tLoss:\t412.626\n"
     ]
    },
    {
     "name": "stderr",
     "output_type": "stream",
     "text": [
      "100%|██████████| 12/12 [00:00<00:00, 50.91it/s]\n",
      "100%|██████████| 92/92 [00:03<00:00, 27.22it/s]\n",
      " 42%|████▏     | 5/12 [00:00<00:00, 48.88it/s]"
     ]
    },
    {
     "name": "stdout",
     "output_type": "stream",
     "text": [
      "\tLoss:\t412.797\n"
     ]
    },
    {
     "name": "stderr",
     "output_type": "stream",
     "text": [
      "100%|██████████| 12/12 [00:00<00:00, 53.34it/s]"
     ]
    },
    {
     "name": "stdout",
     "output_type": "stream",
     "text": [
      "-------------------------------------------------------\n"
     ]
    },
    {
     "name": "stderr",
     "output_type": "stream",
     "text": [
      "\n"
     ]
    },
    {
     "data": {
      "application/vnd.jupyter.widget-view+json": {
       "model_id": "95613967874f48cdb0cb1d06b701e231",
       "version_major": 2,
       "version_minor": 0
      },
      "text/plain": [
       "  0%|          | 0/2260 [00:00<?, ?it/s]"
      ]
     },
     "metadata": {},
     "output_type": "display_data"
    },
    {
     "data": {
      "application/vnd.jupyter.widget-view+json": {
       "model_id": "e5f64fb7b46b4f3993626304315eb253",
       "version_major": 2,
       "version_minor": 0
      },
      "text/plain": [
       "  0%|          | 0/12 [00:00<?, ?it/s]"
      ]
     },
     "metadata": {},
     "output_type": "display_data"
    },
    {
     "data": {
      "application/vnd.jupyter.widget-view+json": {
       "model_id": "0fcd340046544fd1a22084bdc726ceae",
       "version_major": 2,
       "version_minor": 0
      },
      "text/plain": [
       "  0%|          | 0/564 [00:00<?, ?it/s]"
      ]
     },
     "metadata": {},
     "output_type": "display_data"
    },
    {
     "data": {
      "application/vnd.jupyter.widget-view+json": {
       "model_id": "bfa52703040d4bb4a4552635532741c8",
       "version_major": 2,
       "version_minor": 0
      },
      "text/plain": [
       "  0%|          | 0/12 [00:00<?, ?it/s]"
      ]
     },
     "metadata": {},
     "output_type": "display_data"
    },
    {
     "name": "stderr",
     "output_type": "stream",
     "text": [
      " 22%|██▏       | 1015/4536 [00:00<00:00, 10146.74it/s]"
     ]
    },
    {
     "name": "stdout",
     "output_type": "stream",
     "text": [
      "\n",
      "SR-GNN Score:  48.96572538920712 39.9082234640969\n",
      "SR-GNN Last Score:  49.08122690896396 39.916720049274204\n",
      "CKNN Score:  40.07160763099692 24.289329320644217\n",
      "Proposed Method Score:  54.59708009181527 40.59958214407139\n"
     ]
    },
    {
     "name": "stderr",
     "output_type": "stream",
     "text": [
      "100%|██████████| 4536/4536 [00:00<00:00, 8352.41it/s] \n",
      "100%|██████████| 560/560 [00:00<00:00, 10181.85it/s]\n",
      "100%|██████████| 91/91 [00:03<00:00, 25.62it/s]\n",
      "100%|██████████| 12/12 [00:00<00:00, 66.71it/s]\n",
      "  0%|          | 0/91 [00:00<?, ?it/s]"
     ]
    },
    {
     "name": "stdout",
     "output_type": "stream",
     "text": [
      "\tLoss:\t699.350\n"
     ]
    },
    {
     "name": "stderr",
     "output_type": "stream",
     "text": [
      "100%|██████████| 91/91 [00:03<00:00, 25.25it/s]\n",
      "100%|██████████| 12/12 [00:00<00:00, 66.76it/s]\n",
      "  0%|          | 0/91 [00:00<?, ?it/s]"
     ]
    },
    {
     "name": "stdout",
     "output_type": "stream",
     "text": [
      "\tLoss:\t478.435\n"
     ]
    },
    {
     "name": "stderr",
     "output_type": "stream",
     "text": [
      "100%|██████████| 91/91 [00:03<00:00, 25.93it/s]\n",
      "100%|██████████| 12/12 [00:00<00:00, 66.71it/s]\n",
      "  0%|          | 0/91 [00:00<?, ?it/s]"
     ]
    },
    {
     "name": "stdout",
     "output_type": "stream",
     "text": [
      "\tLoss:\t429.154\n"
     ]
    },
    {
     "name": "stderr",
     "output_type": "stream",
     "text": [
      "100%|██████████| 91/91 [00:03<00:00, 25.15it/s]\n",
      "100%|██████████| 12/12 [00:00<00:00, 67.99it/s]\n",
      "  0%|          | 0/91 [00:00<?, ?it/s]"
     ]
    },
    {
     "name": "stdout",
     "output_type": "stream",
     "text": [
      "\tLoss:\t421.088\n"
     ]
    },
    {
     "name": "stderr",
     "output_type": "stream",
     "text": [
      "100%|██████████| 91/91 [00:03<00:00, 25.38it/s]\n",
      "100%|██████████| 12/12 [00:00<00:00, 67.12it/s]\n",
      "  0%|          | 0/91 [00:00<?, ?it/s]"
     ]
    },
    {
     "name": "stdout",
     "output_type": "stream",
     "text": [
      "\tLoss:\t415.071\n"
     ]
    },
    {
     "name": "stderr",
     "output_type": "stream",
     "text": [
      "100%|██████████| 91/91 [00:03<00:00, 25.46it/s]\n",
      "100%|██████████| 12/12 [00:00<00:00, 64.80it/s]\n",
      "  0%|          | 0/91 [00:00<?, ?it/s]"
     ]
    },
    {
     "name": "stdout",
     "output_type": "stream",
     "text": [
      "\tLoss:\t409.629\n"
     ]
    },
    {
     "name": "stderr",
     "output_type": "stream",
     "text": [
      "100%|██████████| 91/91 [00:03<00:00, 25.26it/s]\n",
      "100%|██████████| 12/12 [00:00<00:00, 64.74it/s]\n",
      "  0%|          | 0/91 [00:00<?, ?it/s]"
     ]
    },
    {
     "name": "stdout",
     "output_type": "stream",
     "text": [
      "\tLoss:\t408.850\n"
     ]
    },
    {
     "name": "stderr",
     "output_type": "stream",
     "text": [
      "100%|██████████| 91/91 [00:03<00:00, 25.54it/s]\n",
      "100%|██████████| 12/12 [00:00<00:00, 66.66it/s]\n",
      "  0%|          | 0/91 [00:00<?, ?it/s]"
     ]
    },
    {
     "name": "stdout",
     "output_type": "stream",
     "text": [
      "\tLoss:\t408.276\n"
     ]
    },
    {
     "name": "stderr",
     "output_type": "stream",
     "text": [
      "100%|██████████| 91/91 [00:03<00:00, 25.72it/s]\n",
      "100%|██████████| 12/12 [00:00<00:00, 65.96it/s]\n",
      "  0%|          | 0/91 [00:00<?, ?it/s]"
     ]
    },
    {
     "name": "stdout",
     "output_type": "stream",
     "text": [
      "\tLoss:\t407.453\n"
     ]
    },
    {
     "name": "stderr",
     "output_type": "stream",
     "text": [
      "100%|██████████| 91/91 [00:03<00:00, 26.26it/s]\n",
      "100%|██████████| 12/12 [00:00<00:00, 67.13it/s]\n",
      "  0%|          | 0/91 [00:00<?, ?it/s]"
     ]
    },
    {
     "name": "stdout",
     "output_type": "stream",
     "text": [
      "\tLoss:\t407.643\n"
     ]
    },
    {
     "name": "stderr",
     "output_type": "stream",
     "text": [
      "100%|██████████| 91/91 [00:03<00:00, 25.45it/s]\n",
      "100%|██████████| 12/12 [00:00<00:00, 62.61it/s]\n"
     ]
    },
    {
     "name": "stdout",
     "output_type": "stream",
     "text": [
      "\tLoss:\t407.524\n"
     ]
    },
    {
     "name": "stderr",
     "output_type": "stream",
     "text": [
      "100%|██████████| 91/91 [00:03<00:00, 26.07it/s]\n",
      "100%|██████████| 12/12 [00:00<00:00, 67.22it/s]\n",
      "  0%|          | 0/91 [00:00<?, ?it/s]"
     ]
    },
    {
     "name": "stdout",
     "output_type": "stream",
     "text": [
      "\tLoss:\t407.776\n"
     ]
    },
    {
     "name": "stderr",
     "output_type": "stream",
     "text": [
      "100%|██████████| 91/91 [00:03<00:00, 25.35it/s]\n",
      "100%|██████████| 12/12 [00:00<00:00, 68.24it/s]\n",
      "  0%|          | 0/91 [00:00<?, ?it/s]"
     ]
    },
    {
     "name": "stdout",
     "output_type": "stream",
     "text": [
      "\tLoss:\t407.528\n"
     ]
    },
    {
     "name": "stderr",
     "output_type": "stream",
     "text": [
      "100%|██████████| 91/91 [00:03<00:00, 25.83it/s]\n",
      "100%|██████████| 12/12 [00:00<00:00, 63.91it/s]\n"
     ]
    },
    {
     "name": "stdout",
     "output_type": "stream",
     "text": [
      "\tLoss:\t407.545\n",
      "-------------------------------------------------------\n"
     ]
    },
    {
     "data": {
      "application/vnd.jupyter.widget-view+json": {
       "model_id": "2d298c56d7ce428ca95da4a855150714",
       "version_major": 2,
       "version_minor": 0
      },
      "text/plain": [
       "  0%|          | 0/2260 [00:00<?, ?it/s]"
      ]
     },
     "metadata": {},
     "output_type": "display_data"
    },
    {
     "data": {
      "application/vnd.jupyter.widget-view+json": {
       "model_id": "dba34695d5bd48de9665d955a4811dd9",
       "version_major": 2,
       "version_minor": 0
      },
      "text/plain": [
       "  0%|          | 0/12 [00:00<?, ?it/s]"
      ]
     },
     "metadata": {},
     "output_type": "display_data"
    },
    {
     "data": {
      "application/vnd.jupyter.widget-view+json": {
       "model_id": "5697b1c96fc74603b1d960c6b319fcd5",
       "version_major": 2,
       "version_minor": 0
      },
      "text/plain": [
       "  0%|          | 0/560 [00:00<?, ?it/s]"
      ]
     },
     "metadata": {},
     "output_type": "display_data"
    },
    {
     "data": {
      "application/vnd.jupyter.widget-view+json": {
       "model_id": "3de6e658c25443b185a4e6469f5c2b25",
       "version_major": 2,
       "version_minor": 0
      },
      "text/plain": [
       "  0%|          | 0/12 [00:00<?, ?it/s]"
      ]
     },
     "metadata": {},
     "output_type": "display_data"
    },
    {
     "name": "stderr",
     "output_type": "stream",
     "text": [
      "100%|██████████| 4565/4565 [00:00<00:00, 13566.30it/s]\n",
      "100%|██████████| 564/564 [00:00<00:00, 10276.32it/s]\n",
      "100%|██████████| 92/92 [00:03<00:00, 26.57it/s]\n",
      "100%|██████████| 12/12 [00:00<00:00, 62.30it/s]\n"
     ]
    },
    {
     "name": "stdout",
     "output_type": "stream",
     "text": [
      "\tLoss:\t706.829\n"
     ]
    },
    {
     "name": "stderr",
     "output_type": "stream",
     "text": [
      "100%|██████████| 92/92 [00:03<00:00, 26.73it/s]\n",
      "100%|██████████| 12/12 [00:00<00:00, 65.42it/s]\n",
      "  0%|          | 0/92 [00:00<?, ?it/s]"
     ]
    },
    {
     "name": "stdout",
     "output_type": "stream",
     "text": [
      "\tLoss:\t484.716\n"
     ]
    },
    {
     "name": "stderr",
     "output_type": "stream",
     "text": [
      "100%|██████████| 92/92 [00:03<00:00, 26.61it/s]\n",
      "100%|██████████| 12/12 [00:00<00:00, 66.24it/s]\n",
      "  0%|          | 0/92 [00:00<?, ?it/s]"
     ]
    },
    {
     "name": "stdout",
     "output_type": "stream",
     "text": [
      "\tLoss:\t437.174\n"
     ]
    },
    {
     "name": "stderr",
     "output_type": "stream",
     "text": [
      "100%|██████████| 92/92 [00:03<00:00, 26.71it/s]\n",
      "100%|██████████| 12/12 [00:00<00:00, 66.34it/s]\n",
      "  0%|          | 0/92 [00:00<?, ?it/s]"
     ]
    },
    {
     "name": "stdout",
     "output_type": "stream",
     "text": [
      "\tLoss:\t429.604\n"
     ]
    },
    {
     "name": "stderr",
     "output_type": "stream",
     "text": [
      "100%|██████████| 92/92 [00:03<00:00, 25.21it/s]\n",
      "100%|██████████| 12/12 [00:00<00:00, 63.48it/s]\n",
      "  0%|          | 0/92 [00:00<?, ?it/s]"
     ]
    },
    {
     "name": "stdout",
     "output_type": "stream",
     "text": [
      "\tLoss:\t423.335\n"
     ]
    },
    {
     "name": "stderr",
     "output_type": "stream",
     "text": [
      "100%|██████████| 92/92 [00:03<00:00, 25.04it/s]\n",
      "100%|██████████| 12/12 [00:00<00:00, 65.73it/s]\n",
      "  0%|          | 0/92 [00:00<?, ?it/s]"
     ]
    },
    {
     "name": "stdout",
     "output_type": "stream",
     "text": [
      "\tLoss:\t417.743\n"
     ]
    },
    {
     "name": "stderr",
     "output_type": "stream",
     "text": [
      "100%|██████████| 92/92 [00:03<00:00, 25.84it/s]\n",
      "100%|██████████| 12/12 [00:00<00:00, 64.51it/s]\n",
      "  0%|          | 0/92 [00:00<?, ?it/s]"
     ]
    },
    {
     "name": "stdout",
     "output_type": "stream",
     "text": [
      "\tLoss:\t417.052\n"
     ]
    },
    {
     "name": "stderr",
     "output_type": "stream",
     "text": [
      "100%|██████████| 92/92 [00:03<00:00, 26.07it/s]\n",
      "100%|██████████| 12/12 [00:00<00:00, 65.77it/s]\n",
      "  0%|          | 0/92 [00:00<?, ?it/s]"
     ]
    },
    {
     "name": "stdout",
     "output_type": "stream",
     "text": [
      "\tLoss:\t415.434\n"
     ]
    },
    {
     "name": "stderr",
     "output_type": "stream",
     "text": [
      "100%|██████████| 92/92 [00:03<00:00, 25.83it/s]\n",
      "100%|██████████| 12/12 [00:00<00:00, 67.00it/s]\n",
      "  0%|          | 0/92 [00:00<?, ?it/s]"
     ]
    },
    {
     "name": "stdout",
     "output_type": "stream",
     "text": [
      "\tLoss:\t415.816\n"
     ]
    },
    {
     "name": "stderr",
     "output_type": "stream",
     "text": [
      "100%|██████████| 92/92 [00:03<00:00, 25.29it/s]\n",
      "100%|██████████| 12/12 [00:00<00:00, 63.42it/s]\n",
      "  0%|          | 0/92 [00:00<?, ?it/s]"
     ]
    },
    {
     "name": "stdout",
     "output_type": "stream",
     "text": [
      "\tLoss:\t416.148\n"
     ]
    },
    {
     "name": "stderr",
     "output_type": "stream",
     "text": [
      "100%|██████████| 92/92 [00:03<00:00, 25.95it/s]\n",
      "100%|██████████| 12/12 [00:00<00:00, 66.97it/s]\n",
      "  0%|          | 0/92 [00:00<?, ?it/s]"
     ]
    },
    {
     "name": "stdout",
     "output_type": "stream",
     "text": [
      "\tLoss:\t415.594\n"
     ]
    },
    {
     "name": "stderr",
     "output_type": "stream",
     "text": [
      "100%|██████████| 92/92 [00:03<00:00, 26.44it/s]\n",
      "100%|██████████| 12/12 [00:00<00:00, 63.45it/s]\n",
      "  0%|          | 0/92 [00:00<?, ?it/s]"
     ]
    },
    {
     "name": "stdout",
     "output_type": "stream",
     "text": [
      "\tLoss:\t415.436\n"
     ]
    },
    {
     "name": "stderr",
     "output_type": "stream",
     "text": [
      "100%|██████████| 92/92 [00:03<00:00, 26.26it/s]\n",
      "100%|██████████| 12/12 [00:00<00:00, 66.56it/s]\n",
      "  0%|          | 0/92 [00:00<?, ?it/s]"
     ]
    },
    {
     "name": "stdout",
     "output_type": "stream",
     "text": [
      "\tLoss:\t415.421\n"
     ]
    },
    {
     "name": "stderr",
     "output_type": "stream",
     "text": [
      "100%|██████████| 92/92 [00:03<00:00, 26.17it/s]\n",
      "100%|██████████| 12/12 [00:00<00:00, 66.01it/s]\n",
      "  0%|          | 0/92 [00:00<?, ?it/s]"
     ]
    },
    {
     "name": "stdout",
     "output_type": "stream",
     "text": [
      "\tLoss:\t416.320\n"
     ]
    },
    {
     "name": "stderr",
     "output_type": "stream",
     "text": [
      "100%|██████████| 92/92 [00:03<00:00, 25.88it/s]\n",
      "100%|██████████| 12/12 [00:00<00:00, 66.84it/s]\n",
      "  0%|          | 0/92 [00:00<?, ?it/s]"
     ]
    },
    {
     "name": "stdout",
     "output_type": "stream",
     "text": [
      "\tLoss:\t415.581\n"
     ]
    },
    {
     "name": "stderr",
     "output_type": "stream",
     "text": [
      "100%|██████████| 92/92 [00:03<00:00, 25.20it/s]\n",
      "100%|██████████| 12/12 [00:00<00:00, 63.99it/s]"
     ]
    },
    {
     "name": "stdout",
     "output_type": "stream",
     "text": [
      "\tLoss:\t415.732\n",
      "-------------------------------------------------------\n"
     ]
    },
    {
     "name": "stderr",
     "output_type": "stream",
     "text": [
      "\n"
     ]
    },
    {
     "data": {
      "application/vnd.jupyter.widget-view+json": {
       "model_id": "a09fa83c35744613a40f463b7295d787",
       "version_major": 2,
       "version_minor": 0
      },
      "text/plain": [
       "  0%|          | 0/2260 [00:00<?, ?it/s]"
      ]
     },
     "metadata": {},
     "output_type": "display_data"
    },
    {
     "data": {
      "application/vnd.jupyter.widget-view+json": {
       "model_id": "717bfbb81de44d81b95b17fcce090b22",
       "version_major": 2,
       "version_minor": 0
      },
      "text/plain": [
       "  0%|          | 0/12 [00:00<?, ?it/s]"
      ]
     },
     "metadata": {},
     "output_type": "display_data"
    },
    {
     "data": {
      "application/vnd.jupyter.widget-view+json": {
       "model_id": "a5af85002e224be78ed32e2cf2b2f75f",
       "version_major": 2,
       "version_minor": 0
      },
      "text/plain": [
       "  0%|          | 0/564 [00:00<?, ?it/s]"
      ]
     },
     "metadata": {},
     "output_type": "display_data"
    },
    {
     "data": {
      "application/vnd.jupyter.widget-view+json": {
       "model_id": "77ba30bdedf04e048beaf1a51315bef3",
       "version_major": 2,
       "version_minor": 0
      },
      "text/plain": [
       "  0%|          | 0/12 [00:00<?, ?it/s]"
      ]
     },
     "metadata": {},
     "output_type": "display_data"
    },
    {
     "name": "stderr",
     "output_type": "stream",
     "text": [
      "100%|██████████| 4621/4621 [00:00<00:00, 11814.78it/s]\n",
      "100%|██████████| 563/563 [00:00<00:00, 10308.47it/s]\n",
      "100%|██████████| 93/93 [00:03<00:00, 26.07it/s]\n",
      "100%|██████████| 12/12 [00:00<00:00, 72.10it/s]\n",
      "  0%|          | 0/93 [00:00<?, ?it/s]"
     ]
    },
    {
     "name": "stdout",
     "output_type": "stream",
     "text": [
      "\tLoss:\t709.936\n"
     ]
    },
    {
     "name": "stderr",
     "output_type": "stream",
     "text": [
      "100%|██████████| 93/93 [00:03<00:00, 26.60it/s]\n",
      "100%|██████████| 12/12 [00:00<00:00, 70.99it/s]\n",
      "  0%|          | 0/93 [00:00<?, ?it/s]"
     ]
    },
    {
     "name": "stdout",
     "output_type": "stream",
     "text": [
      "\tLoss:\t489.791\n"
     ]
    },
    {
     "name": "stderr",
     "output_type": "stream",
     "text": [
      "100%|██████████| 93/93 [00:03<00:00, 25.97it/s]\n",
      "100%|██████████| 12/12 [00:00<00:00, 73.11it/s]\n",
      "  0%|          | 0/93 [00:00<?, ?it/s]"
     ]
    },
    {
     "name": "stdout",
     "output_type": "stream",
     "text": [
      "\tLoss:\t439.069\n"
     ]
    },
    {
     "name": "stderr",
     "output_type": "stream",
     "text": [
      "100%|██████████| 93/93 [00:03<00:00, 26.00it/s]\n",
      "100%|██████████| 12/12 [00:00<00:00, 70.63it/s]\n",
      "  0%|          | 0/93 [00:00<?, ?it/s]"
     ]
    },
    {
     "name": "stdout",
     "output_type": "stream",
     "text": [
      "\tLoss:\t431.135\n"
     ]
    },
    {
     "name": "stderr",
     "output_type": "stream",
     "text": [
      "100%|██████████| 93/93 [00:03<00:00, 26.07it/s]\n",
      "100%|██████████| 12/12 [00:00<00:00, 71.69it/s]\n",
      "  0%|          | 0/93 [00:00<?, ?it/s]"
     ]
    },
    {
     "name": "stdout",
     "output_type": "stream",
     "text": [
      "\tLoss:\t424.506\n"
     ]
    },
    {
     "name": "stderr",
     "output_type": "stream",
     "text": [
      "100%|██████████| 93/93 [00:03<00:00, 26.39it/s]\n",
      "100%|██████████| 12/12 [00:00<00:00, 71.90it/s]\n",
      "  0%|          | 0/93 [00:00<?, ?it/s]"
     ]
    },
    {
     "name": "stdout",
     "output_type": "stream",
     "text": [
      "\tLoss:\t418.509\n"
     ]
    },
    {
     "name": "stderr",
     "output_type": "stream",
     "text": [
      "100%|██████████| 93/93 [00:03<00:00, 26.19it/s]\n",
      "100%|██████████| 12/12 [00:00<00:00, 72.36it/s]\n",
      "  0%|          | 0/93 [00:00<?, ?it/s]"
     ]
    },
    {
     "name": "stdout",
     "output_type": "stream",
     "text": [
      "\tLoss:\t417.433\n"
     ]
    },
    {
     "name": "stderr",
     "output_type": "stream",
     "text": [
      "100%|██████████| 93/93 [00:03<00:00, 25.20it/s]\n",
      "100%|██████████| 12/12 [00:00<00:00, 68.72it/s]\n",
      "  0%|          | 0/93 [00:00<?, ?it/s]"
     ]
    },
    {
     "name": "stdout",
     "output_type": "stream",
     "text": [
      "\tLoss:\t417.576\n"
     ]
    },
    {
     "name": "stderr",
     "output_type": "stream",
     "text": [
      "100%|██████████| 93/93 [00:03<00:00, 25.94it/s]\n",
      "100%|██████████| 12/12 [00:00<00:00, 68.22it/s]\n",
      "  0%|          | 0/93 [00:00<?, ?it/s]"
     ]
    },
    {
     "name": "stdout",
     "output_type": "stream",
     "text": [
      "\tLoss:\t416.325\n"
     ]
    },
    {
     "name": "stderr",
     "output_type": "stream",
     "text": [
      "100%|██████████| 93/93 [00:03<00:00, 24.59it/s]\n",
      "100%|██████████| 12/12 [00:00<00:00, 73.15it/s]\n",
      "  0%|          | 0/93 [00:00<?, ?it/s]"
     ]
    },
    {
     "name": "stdout",
     "output_type": "stream",
     "text": [
      "\tLoss:\t416.493\n"
     ]
    },
    {
     "name": "stderr",
     "output_type": "stream",
     "text": [
      "100%|██████████| 93/93 [00:03<00:00, 25.59it/s]\n",
      "100%|██████████| 12/12 [00:00<00:00, 68.97it/s]\n",
      "  0%|          | 0/93 [00:00<?, ?it/s]"
     ]
    },
    {
     "name": "stdout",
     "output_type": "stream",
     "text": [
      "\tLoss:\t416.564\n"
     ]
    },
    {
     "name": "stderr",
     "output_type": "stream",
     "text": [
      "100%|██████████| 93/93 [00:03<00:00, 25.60it/s]\n",
      "100%|██████████| 12/12 [00:00<00:00, 71.34it/s]\n",
      "  0%|          | 0/93 [00:00<?, ?it/s]"
     ]
    },
    {
     "name": "stdout",
     "output_type": "stream",
     "text": [
      "\tLoss:\t415.813\n"
     ]
    },
    {
     "name": "stderr",
     "output_type": "stream",
     "text": [
      "100%|██████████| 93/93 [00:03<00:00, 26.63it/s]\n",
      "100%|██████████| 12/12 [00:00<00:00, 72.38it/s]\n",
      "  0%|          | 0/93 [00:00<?, ?it/s]"
     ]
    },
    {
     "name": "stdout",
     "output_type": "stream",
     "text": [
      "\tLoss:\t416.341\n"
     ]
    },
    {
     "name": "stderr",
     "output_type": "stream",
     "text": [
      "100%|██████████| 93/93 [00:03<00:00, 26.62it/s]\n",
      "100%|██████████| 12/12 [00:00<00:00, 71.53it/s]"
     ]
    },
    {
     "name": "stdout",
     "output_type": "stream",
     "text": [
      "\tLoss:\t416.089\n",
      "-------------------------------------------------------\n"
     ]
    },
    {
     "name": "stderr",
     "output_type": "stream",
     "text": [
      "\n"
     ]
    },
    {
     "data": {
      "application/vnd.jupyter.widget-view+json": {
       "model_id": "fc5d7e0d92c24c749453389bb957f625",
       "version_major": 2,
       "version_minor": 0
      },
      "text/plain": [
       "  0%|          | 0/2260 [00:00<?, ?it/s]"
      ]
     },
     "metadata": {},
     "output_type": "display_data"
    },
    {
     "data": {
      "application/vnd.jupyter.widget-view+json": {
       "model_id": "eb381a9ea43942bbb0eb384eba92da30",
       "version_major": 2,
       "version_minor": 0
      },
      "text/plain": [
       "  0%|          | 0/12 [00:00<?, ?it/s]"
      ]
     },
     "metadata": {},
     "output_type": "display_data"
    },
    {
     "data": {
      "application/vnd.jupyter.widget-view+json": {
       "model_id": "ef87bc3136e142d0973ad772cf12e9fe",
       "version_major": 2,
       "version_minor": 0
      },
      "text/plain": [
       "  0%|          | 0/563 [00:00<?, ?it/s]"
      ]
     },
     "metadata": {},
     "output_type": "display_data"
    },
    {
     "data": {
      "application/vnd.jupyter.widget-view+json": {
       "model_id": "f67237e18f9446fca5c84f08317d6044",
       "version_major": 2,
       "version_minor": 0
      },
      "text/plain": [
       "  0%|          | 0/12 [00:00<?, ?it/s]"
      ]
     },
     "metadata": {},
     "output_type": "display_data"
    },
    {
     "name": "stderr",
     "output_type": "stream",
     "text": [
      "100%|██████████| 4628/4628 [00:00<00:00, 8529.08it/s]\n",
      "100%|██████████| 564/564 [00:00<00:00, 27509.39it/s]\n",
      "100%|██████████| 93/93 [00:03<00:00, 26.08it/s]\n",
      "100%|██████████| 12/12 [00:00<00:00, 70.38it/s]\n",
      "  0%|          | 0/93 [00:00<?, ?it/s]"
     ]
    },
    {
     "name": "stdout",
     "output_type": "stream",
     "text": [
      "\tLoss:\t716.870\n"
     ]
    },
    {
     "name": "stderr",
     "output_type": "stream",
     "text": [
      "100%|██████████| 93/93 [00:03<00:00, 25.60it/s]\n",
      "100%|██████████| 12/12 [00:00<00:00, 66.52it/s]\n",
      "  0%|          | 0/93 [00:00<?, ?it/s]"
     ]
    },
    {
     "name": "stdout",
     "output_type": "stream",
     "text": [
      "\tLoss:\t487.051\n"
     ]
    },
    {
     "name": "stderr",
     "output_type": "stream",
     "text": [
      "100%|██████████| 93/93 [00:03<00:00, 25.47it/s]\n",
      "100%|██████████| 12/12 [00:00<00:00, 67.35it/s]\n",
      "  0%|          | 0/93 [00:00<?, ?it/s]"
     ]
    },
    {
     "name": "stdout",
     "output_type": "stream",
     "text": [
      "\tLoss:\t439.109\n"
     ]
    },
    {
     "name": "stderr",
     "output_type": "stream",
     "text": [
      "100%|██████████| 93/93 [00:03<00:00, 25.16it/s]\n",
      "100%|██████████| 12/12 [00:00<00:00, 69.65it/s]\n",
      "  0%|          | 0/93 [00:00<?, ?it/s]"
     ]
    },
    {
     "name": "stdout",
     "output_type": "stream",
     "text": [
      "\tLoss:\t430.953\n"
     ]
    },
    {
     "name": "stderr",
     "output_type": "stream",
     "text": [
      "100%|██████████| 93/93 [00:03<00:00, 25.71it/s]\n",
      "100%|██████████| 12/12 [00:00<00:00, 72.57it/s]\n",
      "  0%|          | 0/93 [00:00<?, ?it/s]"
     ]
    },
    {
     "name": "stdout",
     "output_type": "stream",
     "text": [
      "\tLoss:\t425.356\n"
     ]
    },
    {
     "name": "stderr",
     "output_type": "stream",
     "text": [
      "100%|██████████| 93/93 [00:03<00:00, 26.79it/s]\n",
      "100%|██████████| 12/12 [00:00<00:00, 72.34it/s]\n",
      "  0%|          | 0/93 [00:00<?, ?it/s]"
     ]
    },
    {
     "name": "stdout",
     "output_type": "stream",
     "text": [
      "\tLoss:\t419.868\n"
     ]
    },
    {
     "name": "stderr",
     "output_type": "stream",
     "text": [
      "100%|██████████| 93/93 [00:03<00:00, 25.90it/s]\n",
      "100%|██████████| 12/12 [00:00<00:00, 71.44it/s]\n",
      "  0%|          | 0/93 [00:00<?, ?it/s]"
     ]
    },
    {
     "name": "stdout",
     "output_type": "stream",
     "text": [
      "\tLoss:\t419.368\n"
     ]
    },
    {
     "name": "stderr",
     "output_type": "stream",
     "text": [
      "100%|██████████| 93/93 [00:03<00:00, 25.88it/s]\n",
      "100%|██████████| 12/12 [00:00<00:00, 66.39it/s]\n",
      "  0%|          | 0/93 [00:00<?, ?it/s]"
     ]
    },
    {
     "name": "stdout",
     "output_type": "stream",
     "text": [
      "\tLoss:\t418.607\n"
     ]
    },
    {
     "name": "stderr",
     "output_type": "stream",
     "text": [
      "100%|██████████| 93/93 [00:03<00:00, 25.82it/s]\n",
      "100%|██████████| 12/12 [00:00<00:00, 63.48it/s]\n",
      "  0%|          | 0/93 [00:00<?, ?it/s]"
     ]
    },
    {
     "name": "stdout",
     "output_type": "stream",
     "text": [
      "\tLoss:\t418.246\n"
     ]
    },
    {
     "name": "stderr",
     "output_type": "stream",
     "text": [
      "100%|██████████| 93/93 [00:03<00:00, 25.43it/s]\n",
      "100%|██████████| 12/12 [00:00<00:00, 70.84it/s]\n",
      "  0%|          | 0/93 [00:00<?, ?it/s]"
     ]
    },
    {
     "name": "stdout",
     "output_type": "stream",
     "text": [
      "\tLoss:\t417.487\n"
     ]
    },
    {
     "name": "stderr",
     "output_type": "stream",
     "text": [
      "100%|██████████| 93/93 [00:03<00:00, 25.66it/s]\n",
      "100%|██████████| 12/12 [00:00<00:00, 70.98it/s]\n",
      "  0%|          | 0/93 [00:00<?, ?it/s]"
     ]
    },
    {
     "name": "stdout",
     "output_type": "stream",
     "text": [
      "\tLoss:\t417.918\n"
     ]
    },
    {
     "name": "stderr",
     "output_type": "stream",
     "text": [
      "100%|██████████| 93/93 [00:03<00:00, 25.59it/s]\n",
      "100%|██████████| 12/12 [00:00<00:00, 64.05it/s]\n"
     ]
    },
    {
     "name": "stdout",
     "output_type": "stream",
     "text": [
      "\tLoss:\t418.003\n"
     ]
    },
    {
     "name": "stderr",
     "output_type": "stream",
     "text": [
      "100%|██████████| 93/93 [00:03<00:00, 25.98it/s]\n",
      "100%|██████████| 12/12 [00:00<00:00, 72.07it/s]\n",
      "  0%|          | 0/93 [00:00<?, ?it/s]"
     ]
    },
    {
     "name": "stdout",
     "output_type": "stream",
     "text": [
      "\tLoss:\t417.792\n"
     ]
    },
    {
     "name": "stderr",
     "output_type": "stream",
     "text": [
      "100%|██████████| 93/93 [00:03<00:00, 25.56it/s]\n",
      "100%|██████████| 12/12 [00:00<00:00, 69.57it/s]\n",
      "  0%|          | 0/93 [00:00<?, ?it/s]"
     ]
    },
    {
     "name": "stdout",
     "output_type": "stream",
     "text": [
      "\tLoss:\t417.999\n"
     ]
    },
    {
     "name": "stderr",
     "output_type": "stream",
     "text": [
      "100%|██████████| 93/93 [00:03<00:00, 25.87it/s]\n",
      "100%|██████████| 12/12 [00:00<00:00, 60.36it/s]"
     ]
    },
    {
     "name": "stdout",
     "output_type": "stream",
     "text": [
      "\tLoss:\t417.909\n"
     ]
    },
    {
     "name": "stderr",
     "output_type": "stream",
     "text": [
      "\n",
      "100%|██████████| 93/93 [00:03<00:00, 25.90it/s]\n",
      "100%|██████████| 12/12 [00:00<00:00, 71.34it/s]"
     ]
    },
    {
     "name": "stdout",
     "output_type": "stream",
     "text": [
      "\tLoss:\t417.638\n",
      "-------------------------------------------------------\n"
     ]
    },
    {
     "name": "stderr",
     "output_type": "stream",
     "text": [
      "\n"
     ]
    },
    {
     "data": {
      "application/vnd.jupyter.widget-view+json": {
       "model_id": "7f17c207008941d99222ba4ceca83c7a",
       "version_major": 2,
       "version_minor": 0
      },
      "text/plain": [
       "  0%|          | 0/2260 [00:00<?, ?it/s]"
      ]
     },
     "metadata": {},
     "output_type": "display_data"
    },
    {
     "data": {
      "application/vnd.jupyter.widget-view+json": {
       "model_id": "45aa7e95c81140ba865bc0effd5fc3e3",
       "version_major": 2,
       "version_minor": 0
      },
      "text/plain": [
       "  0%|          | 0/12 [00:00<?, ?it/s]"
      ]
     },
     "metadata": {},
     "output_type": "display_data"
    },
    {
     "data": {
      "application/vnd.jupyter.widget-view+json": {
       "model_id": "0613cd6eeace436e9f5a8f4e71e5c228",
       "version_major": 2,
       "version_minor": 0
      },
      "text/plain": [
       "  0%|          | 0/564 [00:00<?, ?it/s]"
      ]
     },
     "metadata": {},
     "output_type": "display_data"
    },
    {
     "data": {
      "application/vnd.jupyter.widget-view+json": {
       "model_id": "26ef8eda70f7411590af9d6b3561c23b",
       "version_major": 2,
       "version_minor": 0
      },
      "text/plain": [
       "  0%|          | 0/12 [00:00<?, ?it/s]"
      ]
     },
     "metadata": {},
     "output_type": "display_data"
    },
    {
     "name": "stderr",
     "output_type": "stream",
     "text": [
      "100%|██████████| 4586/4586 [00:00<00:00, 10128.74it/s]\n",
      "100%|██████████| 564/564 [00:00<00:00, 10142.85it/s]\n",
      "100%|██████████| 92/92 [00:03<00:00, 29.68it/s]\n",
      " 50%|█████     | 6/12 [00:00<00:00, 51.97it/s]"
     ]
    },
    {
     "name": "stdout",
     "output_type": "stream",
     "text": [
      "\tLoss:\t747.887\n"
     ]
    },
    {
     "name": "stderr",
     "output_type": "stream",
     "text": [
      "100%|██████████| 12/12 [00:00<00:00, 54.13it/s]\n",
      "100%|██████████| 92/92 [00:03<00:00, 29.73it/s]\n",
      " 50%|█████     | 6/12 [00:00<00:00, 52.77it/s]"
     ]
    },
    {
     "name": "stdout",
     "output_type": "stream",
     "text": [
      "\tLoss:\t490.514\n"
     ]
    },
    {
     "name": "stderr",
     "output_type": "stream",
     "text": [
      "100%|██████████| 12/12 [00:00<00:00, 55.57it/s]\n",
      "100%|██████████| 92/92 [00:03<00:00, 29.67it/s]\n",
      " 42%|████▏     | 5/12 [00:00<00:00, 47.04it/s]"
     ]
    },
    {
     "name": "stdout",
     "output_type": "stream",
     "text": [
      "\tLoss:\t440.205\n"
     ]
    },
    {
     "name": "stderr",
     "output_type": "stream",
     "text": [
      "100%|██████████| 12/12 [00:00<00:00, 51.03it/s]\n",
      "100%|██████████| 92/92 [00:03<00:00, 30.15it/s]\n",
      " 42%|████▏     | 5/12 [00:00<00:00, 48.91it/s]"
     ]
    },
    {
     "name": "stdout",
     "output_type": "stream",
     "text": [
      "\tLoss:\t432.380\n"
     ]
    },
    {
     "name": "stderr",
     "output_type": "stream",
     "text": [
      "100%|██████████| 12/12 [00:00<00:00, 49.62it/s]\n",
      "100%|██████████| 92/92 [00:03<00:00, 28.84it/s]\n",
      " 50%|█████     | 6/12 [00:00<00:00, 51.84it/s]"
     ]
    },
    {
     "name": "stdout",
     "output_type": "stream",
     "text": [
      "\tLoss:\t426.371\n"
     ]
    },
    {
     "name": "stderr",
     "output_type": "stream",
     "text": [
      "100%|██████████| 12/12 [00:00<00:00, 55.63it/s]\n",
      "100%|██████████| 92/92 [00:03<00:00, 30.13it/s]\n",
      " 42%|████▏     | 5/12 [00:00<00:00, 49.97it/s]"
     ]
    },
    {
     "name": "stdout",
     "output_type": "stream",
     "text": [
      "\tLoss:\t420.777\n"
     ]
    },
    {
     "name": "stderr",
     "output_type": "stream",
     "text": [
      "100%|██████████| 12/12 [00:00<00:00, 52.48it/s]\n",
      "100%|██████████| 92/92 [00:03<00:00, 29.76it/s]\n",
      " 42%|████▏     | 5/12 [00:00<00:00, 49.68it/s]"
     ]
    },
    {
     "name": "stdout",
     "output_type": "stream",
     "text": [
      "\tLoss:\t420.184\n"
     ]
    },
    {
     "name": "stderr",
     "output_type": "stream",
     "text": [
      "100%|██████████| 12/12 [00:00<00:00, 52.15it/s]\n",
      "100%|██████████| 92/92 [00:03<00:00, 29.66it/s]\n",
      " 50%|█████     | 6/12 [00:00<00:00, 50.61it/s]"
     ]
    },
    {
     "name": "stdout",
     "output_type": "stream",
     "text": [
      "\tLoss:\t419.586\n"
     ]
    },
    {
     "name": "stderr",
     "output_type": "stream",
     "text": [
      "100%|██████████| 12/12 [00:00<00:00, 53.23it/s]\n",
      "100%|██████████| 92/92 [00:03<00:00, 28.21it/s]\n",
      " 50%|█████     | 6/12 [00:00<00:00, 50.97it/s]"
     ]
    },
    {
     "name": "stdout",
     "output_type": "stream",
     "text": [
      "\tLoss:\t418.985\n"
     ]
    },
    {
     "name": "stderr",
     "output_type": "stream",
     "text": [
      "100%|██████████| 12/12 [00:00<00:00, 53.44it/s]\n",
      "100%|██████████| 92/92 [00:03<00:00, 29.48it/s]\n",
      " 50%|█████     | 6/12 [00:00<00:00, 52.93it/s]"
     ]
    },
    {
     "name": "stdout",
     "output_type": "stream",
     "text": [
      "\tLoss:\t418.931\n"
     ]
    },
    {
     "name": "stderr",
     "output_type": "stream",
     "text": [
      "100%|██████████| 12/12 [00:00<00:00, 55.36it/s]\n",
      "100%|██████████| 92/92 [00:03<00:00, 28.88it/s]\n",
      " 50%|█████     | 6/12 [00:00<00:00, 53.22it/s]"
     ]
    },
    {
     "name": "stdout",
     "output_type": "stream",
     "text": [
      "\tLoss:\t419.028\n"
     ]
    },
    {
     "name": "stderr",
     "output_type": "stream",
     "text": [
      "100%|██████████| 12/12 [00:00<00:00, 56.70it/s]\n",
      "100%|██████████| 92/92 [00:03<00:00, 29.74it/s]\n",
      " 50%|█████     | 6/12 [00:00<00:00, 52.87it/s]"
     ]
    },
    {
     "name": "stdout",
     "output_type": "stream",
     "text": [
      "\tLoss:\t418.924\n"
     ]
    },
    {
     "name": "stderr",
     "output_type": "stream",
     "text": [
      "100%|██████████| 12/12 [00:00<00:00, 54.73it/s]\n",
      "100%|██████████| 92/92 [00:03<00:00, 29.04it/s]\n",
      " 50%|█████     | 6/12 [00:00<00:00, 52.95it/s]"
     ]
    },
    {
     "name": "stdout",
     "output_type": "stream",
     "text": [
      "\tLoss:\t418.766\n"
     ]
    },
    {
     "name": "stderr",
     "output_type": "stream",
     "text": [
      "100%|██████████| 12/12 [00:00<00:00, 53.95it/s]\n",
      "100%|██████████| 92/92 [00:03<00:00, 29.97it/s]\n",
      " 50%|█████     | 6/12 [00:00<00:00, 52.45it/s]"
     ]
    },
    {
     "name": "stdout",
     "output_type": "stream",
     "text": [
      "\tLoss:\t419.136\n"
     ]
    },
    {
     "name": "stderr",
     "output_type": "stream",
     "text": [
      "100%|██████████| 12/12 [00:00<00:00, 56.25it/s]\n",
      "100%|██████████| 92/92 [00:03<00:00, 29.68it/s]\n",
      " 42%|████▏     | 5/12 [00:00<00:00, 49.74it/s]"
     ]
    },
    {
     "name": "stdout",
     "output_type": "stream",
     "text": [
      "\tLoss:\t419.005\n"
     ]
    },
    {
     "name": "stderr",
     "output_type": "stream",
     "text": [
      "100%|██████████| 12/12 [00:00<00:00, 53.03it/s]"
     ]
    },
    {
     "name": "stdout",
     "output_type": "stream",
     "text": [
      "-------------------------------------------------------\n"
     ]
    },
    {
     "name": "stderr",
     "output_type": "stream",
     "text": [
      "\n"
     ]
    },
    {
     "data": {
      "application/vnd.jupyter.widget-view+json": {
       "model_id": "84b03c537dcc42f999bf85e8e59ab938",
       "version_major": 2,
       "version_minor": 0
      },
      "text/plain": [
       "  0%|          | 0/2260 [00:00<?, ?it/s]"
      ]
     },
     "metadata": {},
     "output_type": "display_data"
    },
    {
     "data": {
      "application/vnd.jupyter.widget-view+json": {
       "model_id": "5ca78971ca374eb58290038dc1827d13",
       "version_major": 2,
       "version_minor": 0
      },
      "text/plain": [
       "  0%|          | 0/12 [00:00<?, ?it/s]"
      ]
     },
     "metadata": {},
     "output_type": "display_data"
    },
    {
     "data": {
      "application/vnd.jupyter.widget-view+json": {
       "model_id": "d620e2e8685649b0a0da53f3344c3714",
       "version_major": 2,
       "version_minor": 0
      },
      "text/plain": [
       "  0%|          | 0/564 [00:00<?, ?it/s]"
      ]
     },
     "metadata": {},
     "output_type": "display_data"
    },
    {
     "data": {
      "application/vnd.jupyter.widget-view+json": {
       "model_id": "7ad9e8e8007f441687dde7513e96e453",
       "version_major": 2,
       "version_minor": 0
      },
      "text/plain": [
       "  0%|          | 0/12 [00:00<?, ?it/s]"
      ]
     },
     "metadata": {},
     "output_type": "display_data"
    },
    {
     "name": "stderr",
     "output_type": "stream",
     "text": [
      " 30%|███       | 1374/4536 [00:00<00:00, 13733.86it/s]"
     ]
    },
    {
     "name": "stdout",
     "output_type": "stream",
     "text": [
      "\n",
      "SR-GNN Score:  48.94107644493874 39.838279073837725\n",
      "SR-GNN Last Score:  49.03347766074421 39.845204623013714\n",
      "CKNN Score:  40.07160763099692 24.289329320644214\n",
      "Proposed Method Score:  54.51918303846992 40.54599754062751\n",
      "Method 1 Avg Proposed Method Score:  54.51918303846992 40.54599754062751\n"
     ]
    },
    {
     "name": "stderr",
     "output_type": "stream",
     "text": [
      "100%|██████████| 4536/4536 [00:00<00:00, 9982.64it/s] \n",
      "100%|██████████| 560/560 [00:00<00:00, 17093.20it/s]\n",
      "100%|██████████| 91/91 [00:03<00:00, 26.85it/s]\n",
      "100%|██████████| 12/12 [00:00<00:00, 67.42it/s]\n",
      "  0%|          | 0/91 [00:00<?, ?it/s]"
     ]
    },
    {
     "name": "stdout",
     "output_type": "stream",
     "text": [
      "\tLoss:\t693.737\n"
     ]
    },
    {
     "name": "stderr",
     "output_type": "stream",
     "text": [
      "100%|██████████| 91/91 [00:03<00:00, 26.90it/s]\n",
      "100%|██████████| 12/12 [00:00<00:00, 65.53it/s]\n",
      "  0%|          | 0/91 [00:00<?, ?it/s]"
     ]
    },
    {
     "name": "stdout",
     "output_type": "stream",
     "text": [
      "\tLoss:\t463.068\n"
     ]
    },
    {
     "name": "stderr",
     "output_type": "stream",
     "text": [
      "100%|██████████| 91/91 [00:03<00:00, 26.27it/s]\n",
      "100%|██████████| 12/12 [00:00<00:00, 68.12it/s]\n",
      "  0%|          | 0/91 [00:00<?, ?it/s]"
     ]
    },
    {
     "name": "stdout",
     "output_type": "stream",
     "text": [
      "\tLoss:\t418.227\n"
     ]
    },
    {
     "name": "stderr",
     "output_type": "stream",
     "text": [
      "100%|██████████| 91/91 [00:03<00:00, 26.37it/s]\n",
      "100%|██████████| 12/12 [00:00<00:00, 68.72it/s]\n",
      "  0%|          | 0/91 [00:00<?, ?it/s]"
     ]
    },
    {
     "name": "stdout",
     "output_type": "stream",
     "text": [
      "\tLoss:\t411.085\n"
     ]
    },
    {
     "name": "stderr",
     "output_type": "stream",
     "text": [
      "100%|██████████| 91/91 [00:03<00:00, 25.33it/s]\n",
      "100%|██████████| 12/12 [00:00<00:00, 66.95it/s]\n",
      "  0%|          | 0/91 [00:00<?, ?it/s]"
     ]
    },
    {
     "name": "stdout",
     "output_type": "stream",
     "text": [
      "\tLoss:\t405.179\n"
     ]
    },
    {
     "name": "stderr",
     "output_type": "stream",
     "text": [
      "100%|██████████| 91/91 [00:03<00:00, 25.17it/s]\n",
      "100%|██████████| 12/12 [00:00<00:00, 64.35it/s]\n",
      "  0%|          | 0/91 [00:00<?, ?it/s]"
     ]
    },
    {
     "name": "stdout",
     "output_type": "stream",
     "text": [
      "\tLoss:\t399.694\n"
     ]
    },
    {
     "name": "stderr",
     "output_type": "stream",
     "text": [
      "100%|██████████| 91/91 [00:04<00:00, 21.06it/s]\n",
      "100%|██████████| 12/12 [00:00<00:00, 64.51it/s]\n",
      "  0%|          | 0/91 [00:00<?, ?it/s]"
     ]
    },
    {
     "name": "stdout",
     "output_type": "stream",
     "text": [
      "\tLoss:\t399.090\n"
     ]
    },
    {
     "name": "stderr",
     "output_type": "stream",
     "text": [
      "100%|██████████| 91/91 [00:04<00:00, 21.49it/s]\n",
      "100%|██████████| 12/12 [00:00<00:00, 66.08it/s]\n",
      "  0%|          | 0/91 [00:00<?, ?it/s]"
     ]
    },
    {
     "name": "stdout",
     "output_type": "stream",
     "text": [
      "\tLoss:\t398.439\n"
     ]
    },
    {
     "name": "stderr",
     "output_type": "stream",
     "text": [
      "100%|██████████| 91/91 [00:04<00:00, 21.29it/s]\n",
      "100%|██████████| 12/12 [00:00<00:00, 65.94it/s]\n",
      "  0%|          | 0/91 [00:00<?, ?it/s]"
     ]
    },
    {
     "name": "stdout",
     "output_type": "stream",
     "text": [
      "\tLoss:\t397.905\n"
     ]
    },
    {
     "name": "stderr",
     "output_type": "stream",
     "text": [
      "100%|██████████| 91/91 [00:04<00:00, 20.55it/s]\n",
      "100%|██████████| 12/12 [00:00<00:00, 65.09it/s]\n",
      "  0%|          | 0/91 [00:00<?, ?it/s]"
     ]
    },
    {
     "name": "stdout",
     "output_type": "stream",
     "text": [
      "\tLoss:\t397.664\n"
     ]
    },
    {
     "name": "stderr",
     "output_type": "stream",
     "text": [
      " 53%|█████▎    | 48/91 [00:02<00:02, 21.17it/s]\n"
     ]
    },
    {
     "ename": "KeyboardInterrupt",
     "evalue": "",
     "output_type": "error",
     "traceback": [
      "\u001b[0;31m---------------------------------------------------------------------------\u001b[0m",
      "\u001b[0;31mKeyboardInterrupt\u001b[0m                         Traceback (most recent call last)",
      "\u001b[0;32m<ipython-input-6-c34f1f48cd59>\u001b[0m in \u001b[0;36m<module>\u001b[0;34m\u001b[0m\n\u001b[1;32m    122\u001b[0m \u001b[0;34m\u001b[0m\u001b[0m\n\u001b[1;32m    123\u001b[0m         \u001b[0;32mfor\u001b[0m \u001b[0mepoch\u001b[0m \u001b[0;32min\u001b[0m \u001b[0mrange\u001b[0m\u001b[0;34m(\u001b[0m\u001b[0;36m20\u001b[0m\u001b[0;34m)\u001b[0m\u001b[0;34m:\u001b[0m\u001b[0;34m\u001b[0m\u001b[0;34m\u001b[0m\u001b[0m\n\u001b[0;32m--> 124\u001b[0;31m             \u001b[0mhit\u001b[0m\u001b[0;34m,\u001b[0m \u001b[0mmrr\u001b[0m \u001b[0;34m=\u001b[0m \u001b[0mtrain_test\u001b[0m\u001b[0;34m(\u001b[0m\u001b[0mmodel\u001b[0m\u001b[0;34m,\u001b[0m \u001b[0mtrain_data\u001b[0m\u001b[0;34m,\u001b[0m \u001b[0mtest_data\u001b[0m\u001b[0;34m)\u001b[0m\u001b[0;34m\u001b[0m\u001b[0;34m\u001b[0m\u001b[0m\n\u001b[0m\u001b[1;32m    125\u001b[0m             \u001b[0mflag\u001b[0m \u001b[0;34m=\u001b[0m \u001b[0;36m0\u001b[0m\u001b[0;34m\u001b[0m\u001b[0;34m\u001b[0m\u001b[0m\n\u001b[1;32m    126\u001b[0m             \u001b[0;32mif\u001b[0m \u001b[0mhit\u001b[0m \u001b[0;34m>\u001b[0m \u001b[0mbest_result\u001b[0m\u001b[0;34m[\u001b[0m\u001b[0;36m0\u001b[0m\u001b[0;34m]\u001b[0m\u001b[0;34m:\u001b[0m\u001b[0;34m\u001b[0m\u001b[0;34m\u001b[0m\u001b[0m\n",
      "\u001b[0;32m/home/workplace/SR-GNN/final/model.py\u001b[0m in \u001b[0;36mtrain_test\u001b[0;34m(model, train_data, test_data)\u001b[0m\n\u001b[1;32m    133\u001b[0m             \u001b[0;31m#gc.collect()\u001b[0m\u001b[0;34m\u001b[0m\u001b[0;34m\u001b[0m\u001b[0;34m\u001b[0m\u001b[0m\n\u001b[1;32m    134\u001b[0m         \u001b[0mmodel\u001b[0m\u001b[0;34m.\u001b[0m\u001b[0moptimizer\u001b[0m\u001b[0;34m.\u001b[0m\u001b[0mzero_grad\u001b[0m\u001b[0;34m(\u001b[0m\u001b[0;34m)\u001b[0m\u001b[0;34m\u001b[0m\u001b[0;34m\u001b[0m\u001b[0m\n\u001b[0;32m--> 135\u001b[0;31m         \u001b[0mtargets\u001b[0m\u001b[0;34m,\u001b[0m \u001b[0mscores\u001b[0m \u001b[0;34m=\u001b[0m \u001b[0mforward\u001b[0m\u001b[0;34m(\u001b[0m\u001b[0mmodel\u001b[0m\u001b[0;34m,\u001b[0m \u001b[0mi\u001b[0m\u001b[0;34m,\u001b[0m \u001b[0mtrain_data\u001b[0m\u001b[0;34m)\u001b[0m\u001b[0;34m\u001b[0m\u001b[0;34m\u001b[0m\u001b[0m\n\u001b[0m\u001b[1;32m    136\u001b[0m         \u001b[0mtargets\u001b[0m \u001b[0;34m=\u001b[0m \u001b[0mtrans_to_cuda\u001b[0m\u001b[0;34m(\u001b[0m\u001b[0mtorch\u001b[0m\u001b[0;34m.\u001b[0m\u001b[0mTensor\u001b[0m\u001b[0;34m(\u001b[0m\u001b[0mtargets\u001b[0m\u001b[0;34m)\u001b[0m\u001b[0;34m.\u001b[0m\u001b[0mlong\u001b[0m\u001b[0;34m(\u001b[0m\u001b[0;34m)\u001b[0m\u001b[0;34m)\u001b[0m\u001b[0;34m\u001b[0m\u001b[0;34m\u001b[0m\u001b[0m\n\u001b[1;32m    137\u001b[0m         \u001b[0mloss\u001b[0m \u001b[0;34m=\u001b[0m \u001b[0mmodel\u001b[0m\u001b[0;34m.\u001b[0m\u001b[0mloss_function\u001b[0m\u001b[0;34m(\u001b[0m\u001b[0mscores\u001b[0m\u001b[0;34m,\u001b[0m \u001b[0mtargets\u001b[0m \u001b[0;34m-\u001b[0m \u001b[0;36m1\u001b[0m\u001b[0;34m)\u001b[0m\u001b[0;34m\u001b[0m\u001b[0;34m\u001b[0m\u001b[0m\n",
      "\u001b[0;32m/home/workplace/SR-GNN/final/model.py\u001b[0m in \u001b[0;36mforward\u001b[0;34m(model, i, data)\u001b[0m\n\u001b[1;32m    108\u001b[0m \u001b[0;34m\u001b[0m\u001b[0m\n\u001b[1;32m    109\u001b[0m \u001b[0;32mdef\u001b[0m \u001b[0mforward\u001b[0m\u001b[0;34m(\u001b[0m\u001b[0mmodel\u001b[0m\u001b[0;34m,\u001b[0m \u001b[0mi\u001b[0m\u001b[0;34m,\u001b[0m \u001b[0mdata\u001b[0m\u001b[0;34m)\u001b[0m\u001b[0;34m:\u001b[0m\u001b[0;34m\u001b[0m\u001b[0;34m\u001b[0m\u001b[0m\n\u001b[0;32m--> 110\u001b[0;31m     \u001b[0malias_inputs\u001b[0m\u001b[0;34m,\u001b[0m \u001b[0mA\u001b[0m\u001b[0;34m,\u001b[0m \u001b[0mitems\u001b[0m\u001b[0;34m,\u001b[0m \u001b[0mmask\u001b[0m\u001b[0;34m,\u001b[0m \u001b[0mtargets\u001b[0m \u001b[0;34m=\u001b[0m \u001b[0mdata\u001b[0m\u001b[0;34m.\u001b[0m\u001b[0mget_slice\u001b[0m\u001b[0;34m(\u001b[0m\u001b[0mi\u001b[0m\u001b[0;34m)\u001b[0m\u001b[0;34m\u001b[0m\u001b[0;34m\u001b[0m\u001b[0m\n\u001b[0m\u001b[1;32m    111\u001b[0m     \u001b[0malias_inputs\u001b[0m \u001b[0;34m=\u001b[0m \u001b[0mtrans_to_cuda\u001b[0m\u001b[0;34m(\u001b[0m\u001b[0mtorch\u001b[0m\u001b[0;34m.\u001b[0m\u001b[0mTensor\u001b[0m\u001b[0;34m(\u001b[0m\u001b[0malias_inputs\u001b[0m\u001b[0;34m)\u001b[0m\u001b[0;34m.\u001b[0m\u001b[0mlong\u001b[0m\u001b[0;34m(\u001b[0m\u001b[0;34m)\u001b[0m\u001b[0;34m)\u001b[0m\u001b[0;34m\u001b[0m\u001b[0;34m\u001b[0m\u001b[0m\n\u001b[1;32m    112\u001b[0m     \u001b[0mitems\u001b[0m \u001b[0;34m=\u001b[0m \u001b[0mtrans_to_cuda\u001b[0m\u001b[0;34m(\u001b[0m\u001b[0mtorch\u001b[0m\u001b[0;34m.\u001b[0m\u001b[0mTensor\u001b[0m\u001b[0;34m(\u001b[0m\u001b[0mitems\u001b[0m\u001b[0;34m)\u001b[0m\u001b[0;34m.\u001b[0m\u001b[0mlong\u001b[0m\u001b[0;34m(\u001b[0m\u001b[0;34m)\u001b[0m\u001b[0;34m)\u001b[0m\u001b[0;34m\u001b[0m\u001b[0;34m\u001b[0m\u001b[0m\n",
      "\u001b[0;32m/home/workplace/SR-GNN/final/utils.py\u001b[0m in \u001b[0;36mget_slice\u001b[0;34m(self, i)\u001b[0m\n\u001b[1;32m    148\u001b[0m                             \u001b[0mu_A\u001b[0m\u001b[0;34m[\u001b[0m\u001b[0mu\u001b[0m\u001b[0;34m]\u001b[0m\u001b[0;34m[\u001b[0m\u001b[0mv\u001b[0m\u001b[0;34m]\u001b[0m \u001b[0;34m=\u001b[0m \u001b[0;36m0.5\u001b[0m\u001b[0;34m\u001b[0m\u001b[0;34m\u001b[0m\u001b[0m\n\u001b[1;32m    149\u001b[0m \u001b[0;34m\u001b[0m\u001b[0m\n\u001b[0;32m--> 150\u001b[0;31m                 \u001b[0mu_sum_in\u001b[0m \u001b[0;34m=\u001b[0m \u001b[0mnp\u001b[0m\u001b[0;34m.\u001b[0m\u001b[0msum\u001b[0m\u001b[0;34m(\u001b[0m\u001b[0mu_A\u001b[0m\u001b[0;34m,\u001b[0m \u001b[0;36m0\u001b[0m\u001b[0;34m)\u001b[0m\u001b[0;34m\u001b[0m\u001b[0;34m\u001b[0m\u001b[0m\n\u001b[0m\u001b[1;32m    151\u001b[0m                 \u001b[0mu_sum_in\u001b[0m\u001b[0;34m[\u001b[0m\u001b[0mnp\u001b[0m\u001b[0;34m.\u001b[0m\u001b[0mwhere\u001b[0m\u001b[0;34m(\u001b[0m\u001b[0mu_sum_in\u001b[0m \u001b[0;34m<\u001b[0m \u001b[0;36m1\u001b[0m\u001b[0;34m)\u001b[0m\u001b[0;34m]\u001b[0m \u001b[0;34m=\u001b[0m \u001b[0;36m1\u001b[0m\u001b[0;34m\u001b[0m\u001b[0;34m\u001b[0m\u001b[0m\n\u001b[1;32m    152\u001b[0m                 \u001b[0mu_A_in\u001b[0m \u001b[0;34m=\u001b[0m \u001b[0mnp\u001b[0m\u001b[0;34m.\u001b[0m\u001b[0mdivide\u001b[0m\u001b[0;34m(\u001b[0m\u001b[0mu_A\u001b[0m\u001b[0;34m,\u001b[0m \u001b[0mu_sum_in\u001b[0m\u001b[0;34m)\u001b[0m\u001b[0;34m\u001b[0m\u001b[0;34m\u001b[0m\u001b[0m\n",
      "\u001b[0;32m<__array_function__ internals>\u001b[0m in \u001b[0;36msum\u001b[0;34m(*args, **kwargs)\u001b[0m\n",
      "\u001b[0;32m/usr/local/lib/python3.6/dist-packages/numpy/core/fromnumeric.py\u001b[0m in \u001b[0;36msum\u001b[0;34m(a, axis, dtype, out, keepdims, initial, where)\u001b[0m\n\u001b[1;32m   2240\u001b[0m \u001b[0;34m\u001b[0m\u001b[0m\n\u001b[1;32m   2241\u001b[0m     return _wrapreduction(a, np.add, 'sum', axis, dtype, out, keepdims=keepdims,\n\u001b[0;32m-> 2242\u001b[0;31m                           initial=initial, where=where)\n\u001b[0m\u001b[1;32m   2243\u001b[0m \u001b[0;34m\u001b[0m\u001b[0m\n\u001b[1;32m   2244\u001b[0m \u001b[0;34m\u001b[0m\u001b[0m\n",
      "\u001b[0;32m/usr/local/lib/python3.6/dist-packages/numpy/core/fromnumeric.py\u001b[0m in \u001b[0;36m_wrapreduction\u001b[0;34m(obj, ufunc, method, axis, dtype, out, **kwargs)\u001b[0m\n\u001b[1;32m     85\u001b[0m                 \u001b[0;32mreturn\u001b[0m \u001b[0mreduction\u001b[0m\u001b[0;34m(\u001b[0m\u001b[0maxis\u001b[0m\u001b[0;34m=\u001b[0m\u001b[0maxis\u001b[0m\u001b[0;34m,\u001b[0m \u001b[0mout\u001b[0m\u001b[0;34m=\u001b[0m\u001b[0mout\u001b[0m\u001b[0;34m,\u001b[0m \u001b[0;34m**\u001b[0m\u001b[0mpasskwargs\u001b[0m\u001b[0;34m)\u001b[0m\u001b[0;34m\u001b[0m\u001b[0;34m\u001b[0m\u001b[0m\n\u001b[1;32m     86\u001b[0m \u001b[0;34m\u001b[0m\u001b[0m\n\u001b[0;32m---> 87\u001b[0;31m     \u001b[0;32mreturn\u001b[0m \u001b[0mufunc\u001b[0m\u001b[0;34m.\u001b[0m\u001b[0mreduce\u001b[0m\u001b[0;34m(\u001b[0m\u001b[0mobj\u001b[0m\u001b[0;34m,\u001b[0m \u001b[0maxis\u001b[0m\u001b[0;34m,\u001b[0m \u001b[0mdtype\u001b[0m\u001b[0;34m,\u001b[0m \u001b[0mout\u001b[0m\u001b[0;34m,\u001b[0m \u001b[0;34m**\u001b[0m\u001b[0mpasskwargs\u001b[0m\u001b[0;34m)\u001b[0m\u001b[0;34m\u001b[0m\u001b[0;34m\u001b[0m\u001b[0m\n\u001b[0m\u001b[1;32m     88\u001b[0m \u001b[0;34m\u001b[0m\u001b[0m\n\u001b[1;32m     89\u001b[0m \u001b[0;34m\u001b[0m\u001b[0m\n",
      "\u001b[0;31mKeyboardInterrupt\u001b[0m: "
     ]
    }
   ],
   "source": [
    "data = pd.read_csv(_path, delimiter=',')\n",
    "n_item = num_data(data, 'item_id')\n",
    "k_split_data_list, sess_clicks = DataFormatterA.get_k(_path, fold)\n",
    "last_sr_gnn_hit, sr_gnn_hit, iknn_hit, final_hit, last_sr_gnn_mrr, sr_gnn_mrr, iknn_mrr, final_mrr = [], [], [], [], [], [], [], []\n",
    "for __p in range(5):\n",
    "    avg_p = []\n",
    "    avg_m = []\n",
    "    for fold_ in range(fold):\n",
    "        gc.collect()\n",
    "        test_data_preproc = k_split_data_list[fold_]\n",
    "        train_data_preproc = k_split_data_list.copy()\n",
    "        del train_data_preproc[fold_]\n",
    "        train_data_ = _ = train_data = test_data = df = knn = mrr_20 = p_20 = scr = scr_convd = slices = None\n",
    "\n",
    "        train_data_preproc, test_data_preproc, train_data_, _ = DataFormatterA.make_tr_ts_data_set(train_data_preproc, \n",
    "                                                                                                      test_data_preproc, \n",
    "                                                                                                      sess_clicks)\n",
    "\n",
    "        train_data = Data(train_data_preproc, shuffle=True)\n",
    "        test_data = Data(test_data_preproc, shuffle=False)\n",
    "        #test_data.inputs.shape\n",
    "        #train_data_preproc = [[subset],[ans_items]]\n",
    "        #train_data_ = [[session_id],[session_date],[item_seq]]\n",
    "        #train_data = obj\n",
    "        n_node = n_item+1\n",
    "\n",
    "        model = trans_to_cuda(SessionGraph(n_node))\n",
    "\n",
    "        best_result = [0, 0]\n",
    "        best_epoch = [0, 0]\n",
    "        bad_counter = 0\n",
    "\n",
    "        for epoch in range(20):\n",
    "            hit, mrr = train_test(model, train_data, test_data)\n",
    "            flag = 0\n",
    "            if hit > best_result[0]:\n",
    "                best_result[0] = hit\n",
    "                best_epoch[0] = epoch\n",
    "                flag = 1\n",
    "            if mrr > best_result[1]:\n",
    "                best_result[1] = mrr\n",
    "                best_epoch[1] = epoch\n",
    "                flag = 1\n",
    "            bad_counter += 1 - flag\n",
    "            if bad_counter >= 5:\n",
    "                break\n",
    "        print('-------------------------------------------------------')\n",
    "        last_sr_gnn_hit.append(hit)\n",
    "        last_sr_gnn_mrr.append(mrr)\n",
    "\n",
    "        df = make_pd_data_frame(train_data_)\n",
    "        knn = cknn.ContextKNN(data = df, session_key='session_id', item_key='item_id', time_key='eventdate')\n",
    "\n",
    "        mrr_20, p_20, scr = knn.multi_predict_ts_data(test_data, 12)\n",
    "\n",
    "\n",
    "        model.eval()\n",
    "        hit, mrr = [], []\n",
    "        slices = test_data.generate_batch(model.batch_size)\n",
    "\n",
    "        for i in tqdm(slices):\n",
    "            targets, scores = forward(model, i, test_data)\n",
    "            scores = trans_to_cpu(scores).detach().numpy()\n",
    "            for j, idx in enumerate(i):\n",
    "                v = scr[idx][0]\n",
    "                for index, val in zip(list(v.keys()), list(v.values())):\n",
    "                    scores[j,index-1] += val\n",
    "            scores = torch.Tensor(scores)\n",
    "            sub_scores = scores.topk(20)[1]\n",
    "            sub_scores = trans_to_cpu(sub_scores).detach().numpy()\n",
    "            for score, target, mask in zip(sub_scores, targets, test_data.mask):\n",
    "                hit.append(np.isin(target - 1, score))\n",
    "                if len(np.where(score == target - 1)[0]) == 0:\n",
    "                    mrr.append(0)\n",
    "                else:\n",
    "                    mrr.append(1 / (np.where(score == target - 1)[0][0] + 1))\n",
    "\n",
    "        final_hit.append(np.mean(hit)*100)\n",
    "        final_mrr.append(np.mean(mrr)*100)\n",
    "\n",
    "        sr_gnn_hit.append(best_result[0])\n",
    "        sr_gnn_mrr.append(best_result[1])\n",
    "\n",
    "        iknn_hit.append(p_20)\n",
    "        iknn_mrr.append(mrr_20)\n",
    "    print()\n",
    "    print('SR-GNN Score: ', np.mean(last_sr_gnn_hit), np.mean(last_sr_gnn_mrr))\n",
    "    print('SR-GNN Last Score: ', np.mean(sr_gnn_hit), np.mean(sr_gnn_mrr))\n",
    "    print('CKNN Score: ', np.mean(iknn_hit), np.mean(iknn_mrr))\n",
    "    print('Proposed Method Score: ',np.mean(final_hit), np.mean(final_mrr))\n",
    "    avg_p.append(np.mean(final_hit))\n",
    "    avg_m.append(np.mean(final_mrr))\n",
    "print('Method 1 Avg Proposed Method Score: ',np.mean(avg_p), np.mean(avg_m))\n",
    "gc.collect()\n",
    "for __p in range(5):\n",
    "    avg_p = []\n",
    "    avg_m = []\n",
    "    for fold_ in range(fold):\n",
    "        gc.collect()\n",
    "        test_data_preproc = k_split_data_list[fold_]\n",
    "        train_data_preproc = k_split_data_list.copy()\n",
    "        del train_data_preproc[fold_]\n",
    "        train_data_ = _ = train_data = test_data = df = knn = mrr_20 = p_20 = scr = scr_convd = slices = None\n",
    "\n",
    "        train_data_preproc, test_data_preproc, train_data_, _ = DataFormatterA.make_tr_ts_data_set(train_data_preproc, \n",
    "                                                                                                      test_data_preproc, \n",
    "                                                                                                      sess_clicks)\n",
    "\n",
    "        train_data = Data(train_data_preproc, shuffle=True, method=0)\n",
    "        test_data = Data(test_data_preproc, shuffle=False)\n",
    "        #test_data.inputs.shape\n",
    "        #train_data_preproc = [[subset],[ans_items]]\n",
    "        #train_data_ = [[session_id],[session_date],[item_seq]]\n",
    "        #train_data = obj\n",
    "        n_node = n_item+1\n",
    "\n",
    "        model = trans_to_cuda(SessionGraph(n_node))\n",
    "\n",
    "        best_result = [0, 0]\n",
    "        best_epoch = [0, 0]\n",
    "        bad_counter = 0\n",
    "\n",
    "        for epoch in range(20):\n",
    "            hit, mrr = train_test(model, train_data, test_data)\n",
    "            flag = 0\n",
    "            if hit > best_result[0]:\n",
    "                best_result[0] = hit\n",
    "                best_epoch[0] = epoch\n",
    "                flag = 1\n",
    "            if mrr > best_result[1]:\n",
    "                best_result[1] = mrr\n",
    "                best_epoch[1] = epoch\n",
    "                flag = 1\n",
    "            bad_counter += 1 - flag\n",
    "            if bad_counter >= 5:\n",
    "                break\n",
    "        print('-------------------------------------------------------')\n",
    "        last_sr_gnn_hit.append(hit)\n",
    "        last_sr_gnn_mrr.append(mrr)\n",
    "\n",
    "        df = make_pd_data_frame(train_data_)\n",
    "        knn = cknn.ContextKNN(data = df, session_key='session_id', item_key='item_id', time_key='eventdate')\n",
    "\n",
    "        mrr_20, p_20, scr = knn.multi_predict_ts_data(test_data, 12)\n",
    "\n",
    "\n",
    "        model.eval()\n",
    "        hit, mrr = [], []\n",
    "        slices = test_data.generate_batch(model.batch_size)\n",
    "\n",
    "        for i in tqdm(slices):\n",
    "            targets, scores = forward(model, i, test_data)\n",
    "            scores = trans_to_cpu(scores).detach().numpy()\n",
    "            for j, idx in enumerate(i):\n",
    "                v = scr[idx][0]\n",
    "                for index, val in zip(list(v.keys()), list(v.values())):\n",
    "                    scores[j,index-1] += val\n",
    "            scores = torch.Tensor(scores)\n",
    "            sub_scores = scores.topk(20)[1]\n",
    "            sub_scores = trans_to_cpu(sub_scores).detach().numpy()\n",
    "            for score, target, mask in zip(sub_scores, targets, test_data.mask):\n",
    "                hit.append(np.isin(target - 1, score))\n",
    "                if len(np.where(score == target - 1)[0]) == 0:\n",
    "                    mrr.append(0)\n",
    "                else:\n",
    "                    mrr.append(1 / (np.where(score == target - 1)[0][0] + 1))\n",
    "\n",
    "        final_hit.append(np.mean(hit)*100)\n",
    "        final_mrr.append(np.mean(mrr)*100)\n",
    "\n",
    "        sr_gnn_hit.append(best_result[0])\n",
    "        sr_gnn_mrr.append(best_result[1])\n",
    "\n",
    "        iknn_hit.append(p_20)\n",
    "        iknn_mrr.append(mrr_20)\n",
    "    print()\n",
    "    print('SR-GNN Score: ', np.mean(last_sr_gnn_hit), np.mean(last_sr_gnn_mrr))\n",
    "    print('SR-GNN Last Score: ', np.mean(sr_gnn_hit), np.mean(sr_gnn_mrr))\n",
    "    print('CKNN Score: ', np.mean(iknn_hit), np.mean(iknn_mrr))\n",
    "    print('Proposed Method Score: ',np.mean(final_hit), np.mean(final_mrr))\n",
    "    avg_p.append(np.mean(final_hit))\n",
    "    avg_m.append(np.mean(final_mrr))\n",
    "print('Method 2 Avg Proposed Method Score: ',np.mean(avg_p), np.mean(avg_m))\n",
    "gc.collect()\n",
    "for __p in range(5):\n",
    "    avg_p = []\n",
    "    avg_m = []\n",
    "    for fold_ in range(fold):\n",
    "        gc.collect()\n",
    "        test_data_preproc = k_split_data_list[fold_]\n",
    "        train_data_preproc = k_split_data_list.copy()\n",
    "        del train_data_preproc[fold_]\n",
    "        train_data_ = _ = train_data = test_data = df = knn = mrr_20 = p_20 = scr = scr_convd = slices = None\n",
    "\n",
    "        train_data_preproc, test_data_preproc, train_data_, _ = DataFormatterA.make_tr_ts_data_set(train_data_preproc, \n",
    "                                                                                                      test_data_preproc, \n",
    "                                                                                                      sess_clicks)\n",
    "\n",
    "        train_data = Data(train_data_preproc, shuffle=True, method=1)\n",
    "        test_data = Data(test_data_preproc, shuffle=False)\n",
    "        #test_data.inputs.shape\n",
    "        #train_data_preproc = [[subset],[ans_items]]\n",
    "        #train_data_ = [[session_id],[session_date],[item_seq]]\n",
    "        #train_data = obj\n",
    "        n_node = n_item+1\n",
    "\n",
    "        model = trans_to_cuda(SessionGraph(n_node))\n",
    "\n",
    "        best_result = [0, 0]\n",
    "        best_epoch = [0, 0]\n",
    "        bad_counter = 0\n",
    "\n",
    "        for epoch in range(20):\n",
    "            hit, mrr = train_test(model, train_data, test_data)\n",
    "            flag = 0\n",
    "            if hit > best_result[0]:\n",
    "                best_result[0] = hit\n",
    "                best_epoch[0] = epoch\n",
    "                flag = 1\n",
    "            if mrr > best_result[1]:\n",
    "                best_result[1] = mrr\n",
    "                best_epoch[1] = epoch\n",
    "                flag = 1\n",
    "            bad_counter += 1 - flag\n",
    "            if bad_counter >= 5:\n",
    "                break\n",
    "        print('-------------------------------------------------------')\n",
    "        last_sr_gnn_hit.append(hit)\n",
    "        last_sr_gnn_mrr.append(mrr)\n",
    "\n",
    "        df = make_pd_data_frame(train_data_)\n",
    "        knn = cknn.ContextKNN(data = df, session_key='session_id', item_key='item_id', time_key='eventdate')\n",
    "\n",
    "        mrr_20, p_20, scr = knn.multi_predict_ts_data(test_data, 12)\n",
    "\n",
    "\n",
    "        model.eval()\n",
    "        hit, mrr = [], []\n",
    "        slices = test_data.generate_batch(model.batch_size)\n",
    "\n",
    "        for i in tqdm(slices):\n",
    "            targets, scores = forward(model, i, test_data)\n",
    "            scores = trans_to_cpu(scores).detach().numpy()\n",
    "            for j, idx in enumerate(i):\n",
    "                v = scr[idx][0]\n",
    "                for index, val in zip(list(v.keys()), list(v.values())):\n",
    "                    scores[j,index-1] += val\n",
    "            scores = torch.Tensor(scores)\n",
    "            sub_scores = scores.topk(20)[1]\n",
    "            sub_scores = trans_to_cpu(sub_scores).detach().numpy()\n",
    "            for score, target, mask in zip(sub_scores, targets, test_data.mask):\n",
    "                hit.append(np.isin(target - 1, score))\n",
    "                if len(np.where(score == target - 1)[0]) == 0:\n",
    "                    mrr.append(0)\n",
    "                else:\n",
    "                    mrr.append(1 / (np.where(score == target - 1)[0][0] + 1))\n",
    "\n",
    "        final_hit.append(np.mean(hit)*100)\n",
    "        final_mrr.append(np.mean(mrr)*100)\n",
    "\n",
    "        sr_gnn_hit.append(best_result[0])\n",
    "        sr_gnn_mrr.append(best_result[1])\n",
    "\n",
    "        iknn_hit.append(p_20)\n",
    "        iknn_mrr.append(mrr_20)\n",
    "    print()\n",
    "    print('SR-GNN Score: ', np.mean(last_sr_gnn_hit), np.mean(last_sr_gnn_mrr))\n",
    "    print('SR-GNN Last Score: ', np.mean(sr_gnn_hit), np.mean(sr_gnn_mrr))\n",
    "    print('CKNN Score: ', np.mean(iknn_hit), np.mean(iknn_mrr))\n",
    "    print('Proposed Method Score: ',np.mean(final_hit), np.mean(final_mrr))\n",
    "    avg_p.append(np.mean(final_hit))\n",
    "    avg_m.append(np.mean(final_mrr))\n",
    "print('Method 3 Avg Proposed Method Score: ',np.mean(avg_p), np.mean(avg_m))"
   ]
  },
  {
   "cell_type": "code",
   "execution_count": 7,
   "id": "55898e87",
   "metadata": {},
   "outputs": [
    {
     "name": "stdout",
     "output_type": "stream",
     "text": [
      "done\n"
     ]
    }
   ],
   "source": [
    "print('done')"
   ]
  },
  {
   "cell_type": "markdown",
   "id": "1614384c",
   "metadata": {},
   "source": [
    "SR-GNN Score:  49.338173340459726 39.97791667795731\n",
    "SR-GNN Last Score:  49.48027060489741 39.98477209029336\n",
    "CKNN Score:  40.071607630996915 24.28932932064422\n",
    "Proposed Method Score:  54.88065544799984 40.69128085092071\n",
    "SR-GNN Score:  48.82411896393794 39.76567653644829\n",
    "SR-GNN Last Score:  48.89516759615678 39.77259106514005\n",
    "CKNN Score:  40.07160763099692 24.289329320644217\n",
    "Proposed Method Score:  54.5434932542232 40.48296437244213\n",
    "SR-GNN Score:  49.03070046783436 39.84645586608671\n",
    "SR-GNN Last Score:  49.148988208462534 39.85774601779054\n",
    "CKNN Score:  40.07160763099692 24.28932932064422\n",
    "Proposed Method Score:  54.585128428000964 40.53196971328937\n",
    "SR-GNN Score:  48.96572538920712 39.9082234640969\n",
    "SR-GNN Last Score:  49.08122690896396 39.916720049274204\n",
    "CKNN Score:  40.07160763099692 24.289329320644217\n",
    "Proposed Method Score:  54.59708009181527 40.59958214407139\n",
    "SR-GNN Score:  48.94107644493874 39.838279073837725\n",
    "SR-GNN Last Score:  49.03347766074421 39.845204623013714\n",
    "CKNN Score:  40.07160763099692 24.289329320644214\n",
    "Proposed Method Score:  54.51918303846992 40.54599754062751\n",
    "Method 1 Avg Proposed Method Score:  54.51918303846992 40.54599754062751"
   ]
  },
  {
   "cell_type": "markdown",
   "id": "861ab412",
   "metadata": {},
   "source": [
    "SR-GNN Score:  48.11847103655715 39.2057053415415\n",
    "SR-GNN Last Score:  48.15412166044307 39.20580884513826\n",
    "CKNN Score:  44.816038164553774 32.47939661724543\n",
    "Proposed Method Score:  53.939598209922906 41.098498802422924\n",
    "SR-GNN Score:  47.728084625901445 38.848617854854226\n",
    "SR-GNN Last Score:  47.745909937844395 38.84875388815281\n",
    "CKNN Score:  44.81603816455377 32.47939661724543\n",
    "Proposed Method Score:  53.708689658656866 41.038768206549165\n",
    "SR-GNN Score:  48.24889650150303 38.88524991286906\n",
    "SR-GNN Last Score:  48.26078004279834 38.885435547942976\n",
    "CKNN Score:  44.81603816455377 32.47939661724543\n",
    "Proposed Method Score:  53.89202085875224 40.73011427902729\n",
    "SR-GNN Score:  48.49108362989154 39.02498285116509\n",
    "SR-GNN Last Score:  48.53545761440087 39.02659248494556\n",
    "CKNN Score:  44.816038164553774 32.47939661724543\n",
    "Proposed Method Score:  53.921393354940996 40.63162025548813\n",
    "SR-GNN Score:  48.72189526857687 39.050454661048\n",
    "SR-GNN Last Score:  48.757394456184336 39.05186666855066\n",
    "CKNN Score:  44.81603816455377 32.47939661724543\n",
    "Proposed Method Score:  53.98861270420677 40.54752250153825\n",
    "Method 1 Avg Proposed Method Score:  53.98861270420677 40.54752250153825\n",
    "\n",
    "SR-GNN Score:  48.52702499350679 39.106945040227394\n",
    "SR-GNN Last Score:  48.56841752034572 39.112912183746786\n",
    "CKNN Score:  44.81603816455377 32.47939661724543\n",
    "Proposed Method Score:  53.98045400718165 40.60424014995526\n",
    "SR-GNN Score:  48.63624919077486 39.212073338877154\n",
    "SR-GNN Last Score:  48.671728499493945 39.21761018799983\n",
    "CKNN Score:  44.816038164553774 32.47939661724543\n",
    "Proposed Method Score:  54.08103659388731 40.60352193671038\n",
    "SR-GNN Score:  48.55870265102725 39.19346697201373\n",
    "SR-GNN Last Score:  48.59417182491751 39.198353745237206\n",
    "CKNN Score:  44.81603816455377 32.47939661724543\n",
    "Proposed Method Score:  54.063356711686176 40.61730094980477\n",
    "SR-GNN Score:  48.533611894126516 39.12721319877099\n",
    "SR-GNN Last Score:  48.58091451160068 39.13155699719186\n",
    "CKNN Score:  44.81603816455377 32.47939661724543\n",
    "Proposed Method Score:  54.04176053849841 40.545403776459835\n",
    "SR-GNN Score:  48.58447411683145 39.1367224817727\n",
    "SR-GNN Last Score:  48.63766594158474 39.14133812332717\n",
    "CKNN Score:  44.81603816455377 32.47939661724543\n",
    "Proposed Method Score:  54.063434407225905 40.54142512509033\n",
    "Method 2 Avg Proposed Method Score:  54.063434407225905 40.54142512509033\n",
    "\n",
    "SR-GNN Score:  48.590765339984316 39.12659448086034\n",
    "SR-GNN Last Score:  48.642339565222635 39.130790518637134\n",
    "CKNN Score:  44.81603816455376 32.47939661724543\n",
    "Proposed Method Score:  54.05216522092618 40.52465604434711\n",
    "SR-GNN Score:  48.5604520681143 39.14678786988186\n",
    "SR-GNN Last Score:  48.61068352399174 39.15063423784391\n",
    "CKNN Score:  44.81603816455377 32.47939661724543\n",
    "Proposed Method Score:  54.05469440346543 40.53582844787609\n",
    "SR-GNN Score:  48.567676866887645 39.13613415565544\n",
    "SR-GNN Last Score:  48.61677213330588 39.13968464915888\n",
    "CKNN Score:  44.81603816455376 32.47939661724542\n",
    "Proposed Method Score:  54.10325061945461 40.541453194420896\n",
    "SR-GNN Score:  48.48246242571709 39.17214756440152\n",
    "SR-GNN Last Score:  48.5331257414891 39.17544673972324\n",
    "CKNN Score:  44.81603816455376 32.47939661724543\n",
    "Proposed Method Score:  54.07893248166918 40.59627225120298\n",
    "SR-GNN Score:  48.48429417220811 39.18395485627738\n",
    "SR-GNN Last Score:  48.53394399978918 39.187034086577654\n",
    "CKNN Score:  44.81603816455377 32.47939661724543\n",
    "Proposed Method Score:  54.06491956683783 40.58811045570778\n",
    "Method 3 Avg Proposed Method Score:  54.06491956683783 40.58811045570778"
   ]
  },
  {
   "cell_type": "markdown",
   "id": "441f6715",
   "metadata": {},
   "source": [
    "40k\n",
    "CKNN Score:  44.81603816455377 32.47939661724543\n",
    "\n",
    "SR-GNN Last Score:    48.29073274233419 39.003691486946046\n",
    "Method 1 Avg Proposed Method Score:  53.98861270420677 40.54752250153825\n",
    "\n",
    "SR-GNN Last Score:   48.610579659588524 39.16035424750057\n",
    "Method 2 Avg Proposed Method Score:  54.063434407225905 40.54142512509033\n",
    "\n",
    "SR-GNN Last Score:   48.58737299275971 39.156718046388164\n",
    "Method 3 Avg Proposed Method Score:  54.06491956683783 40.58811045570778\n",
    "\n",
    "2018\n",
    "CKNN Score:  8.965137202665257 5.687222376937899\n",
    "\n",
    "SR-GNN Last Score:  24.12804519933014 14.705060071171676\n",
    "Method 1 Avg Proposed Method Score:  24.513084956296794 12.923072506624601\n",
    "\n",
    "SR-GNN Last Score:  24.30988855051716 14.588509508467718\n",
    "Method 2 Avg Proposed Method Score:  24.67480070201331 12.747575408266078\n",
    "\n",
    "SR-GNN Last Score:  24.111452628616544 14.477994448393519\n",
    "Method 3 Avg Proposed Method Score:  24.54353790525956 12.757424840740866\n",
    "\n",
    "40k\n",
    "data: 40000\n",
    "user: 9110\n",
    "item: 21874\n",
    "avg_item: 4.390779363336993\n",
    "\n",
    "2018\n",
    "data: 2467321\n",
    "user: 1361089\n",
    "item: 492767\n",
    "avg_item: 1.8127550806743717"
   ]
  }
 ],
 "metadata": {
  "kernelspec": {
   "display_name": "Python 3 (ipykernel)",
   "language": "python",
   "name": "python3"
  },
  "language_info": {
   "codemirror_mode": {
    "name": "ipython",
    "version": 3
   },
   "file_extension": ".py",
   "mimetype": "text/x-python",
   "name": "python",
   "nbconvert_exporter": "python",
   "pygments_lexer": "ipython3",
   "version": "3.8.10"
  }
 },
 "nbformat": 4,
 "nbformat_minor": 5
}
